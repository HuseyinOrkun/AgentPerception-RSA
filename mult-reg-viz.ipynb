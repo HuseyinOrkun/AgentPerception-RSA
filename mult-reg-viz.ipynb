{
 "cells": [
  {
   "cell_type": "code",
   "execution_count": 2,
   "metadata": {},
   "outputs": [],
   "source": [
    "import pandas as pd"
   ]
  },
  {
   "cell_type": "code",
   "execution_count": 3,
   "metadata": {},
   "outputs": [],
   "source": [
    "mult_reg_results, eeg_dist, model_dist  = pd.read_pickle('/auto/data2/oelmas/RSA_Results/Naive/Video/correlation_hamming_regression_results.pkl')"
   ]
  },
  {
   "cell_type": "code",
   "execution_count": 4,
   "metadata": {},
   "outputs": [
    {
     "data": {
      "text/plain": [
       "2.912468739341523e-32"
      ]
     },
     "execution_count": 4,
     "metadata": {},
     "output_type": "execute_result"
    }
   ],
   "source": [
    "mult_reg_results.p_value.min()"
   ]
  },
  {
   "cell_type": "code",
   "execution_count": 6,
   "metadata": {},
   "outputs": [],
   "source": [
    "VIF =  pd.read_csv('/auto/data2/oelmas/RSA_Results/Naive/Video/parietal_VIF_Results.csv')"
   ]
  },
  {
   "cell_type": "code",
   "execution_count": 7,
   "metadata": {},
   "outputs": [
    {
     "data": {
      "text/html": [
       "<div>\n",
       "<style scoped>\n",
       "    .dataframe tbody tr th:only-of-type {\n",
       "        vertical-align: middle;\n",
       "    }\n",
       "\n",
       "    .dataframe tbody tr th {\n",
       "        vertical-align: top;\n",
       "    }\n",
       "\n",
       "    .dataframe thead th {\n",
       "        text-align: right;\n",
       "    }\n",
       "</style>\n",
       "<table border=\"1\" class=\"dataframe\">\n",
       "  <thead>\n",
       "    <tr style=\"text-align: right;\">\n",
       "      <th></th>\n",
       "      <th>Unnamed: 0</th>\n",
       "      <th>VIF Factor</th>\n",
       "      <th>features</th>\n",
       "    </tr>\n",
       "  </thead>\n",
       "  <tbody>\n",
       "    <tr>\n",
       "      <th>0</th>\n",
       "      <td>0</td>\n",
       "      <td>4.213011</td>\n",
       "      <td>action_intention_hamming</td>\n",
       "    </tr>\n",
       "    <tr>\n",
       "      <th>1</th>\n",
       "      <td>1</td>\n",
       "      <td>1.311155</td>\n",
       "      <td>action_category_hamming</td>\n",
       "    </tr>\n",
       "    <tr>\n",
       "      <th>2</th>\n",
       "      <td>2</td>\n",
       "      <td>3.948143</td>\n",
       "      <td>action_target_hamming</td>\n",
       "    </tr>\n",
       "    <tr>\n",
       "      <th>3</th>\n",
       "      <td>3</td>\n",
       "      <td>5.004536</td>\n",
       "      <td>agent_hamming</td>\n",
       "    </tr>\n",
       "    <tr>\n",
       "      <th>4</th>\n",
       "      <td>4</td>\n",
       "      <td>2.901777</td>\n",
       "      <td>biological_appearance_hamming</td>\n",
       "    </tr>\n",
       "    <tr>\n",
       "      <th>5</th>\n",
       "      <td>5</td>\n",
       "      <td>3.568302</td>\n",
       "      <td>flowModel_10_frames_correlation</td>\n",
       "    </tr>\n",
       "    <tr>\n",
       "      <th>6</th>\n",
       "      <td>6</td>\n",
       "      <td>2.225359</td>\n",
       "      <td>movement_nature_hamming</td>\n",
       "    </tr>\n",
       "    <tr>\n",
       "      <th>7</th>\n",
       "      <td>7</td>\n",
       "      <td>3.909791</td>\n",
       "      <td>gabor_video_10_frames_correlation</td>\n",
       "    </tr>\n",
       "    <tr>\n",
       "      <th>8</th>\n",
       "      <td>8</td>\n",
       "      <td>1.841335</td>\n",
       "      <td>avg_pixel_intensity_model_hamming</td>\n",
       "    </tr>\n",
       "    <tr>\n",
       "      <th>9</th>\n",
       "      <td>9</td>\n",
       "      <td>1.644404</td>\n",
       "      <td>pixel_wise_motion_model_hamming</td>\n",
       "    </tr>\n",
       "    <tr>\n",
       "      <th>10</th>\n",
       "      <td>10</td>\n",
       "      <td>943662.209091</td>\n",
       "      <td>total_motion_model_hamming</td>\n",
       "    </tr>\n",
       "  </tbody>\n",
       "</table>\n",
       "</div>"
      ],
      "text/plain": [
       "    Unnamed: 0     VIF Factor                           features\n",
       "0            0       4.213011           action_intention_hamming\n",
       "1            1       1.311155            action_category_hamming\n",
       "2            2       3.948143              action_target_hamming\n",
       "3            3       5.004536                      agent_hamming\n",
       "4            4       2.901777      biological_appearance_hamming\n",
       "5            5       3.568302    flowModel_10_frames_correlation\n",
       "6            6       2.225359            movement_nature_hamming\n",
       "7            7       3.909791  gabor_video_10_frames_correlation\n",
       "8            8       1.841335  avg_pixel_intensity_model_hamming\n",
       "9            9       1.644404    pixel_wise_motion_model_hamming\n",
       "10          10  943662.209091         total_motion_model_hamming"
      ]
     },
     "execution_count": 7,
     "metadata": {},
     "output_type": "execute_result"
    }
   ],
   "source": [
    "VIF"
   ]
  },
  {
   "cell_type": "code",
   "execution_count": 8,
   "metadata": {},
   "outputs": [
    {
     "data": {
      "text/plain": [
       "627              action_intention_hamming\n",
       "5033              movement_nature_hamming\n",
       "5032      flowModel_10_frames_correlation\n",
       "5031        biological_appearance_hamming\n",
       "5030                        agent_hamming\n",
       "                      ...                \n",
       "4153              movement_nature_hamming\n",
       "4154    gabor_video_10_frames_correlation\n",
       "4155    avg_pixel_intensity_model_hamming\n",
       "8553              movement_nature_hamming\n",
       "8554    gabor_video_10_frames_correlation\n",
       "Name: model, Length: 26400, dtype: object"
      ]
     },
     "execution_count": 8,
     "metadata": {},
     "output_type": "execute_result"
    }
   ],
   "source": [
    "mult_reg_results.model"
   ]
  },
  {
   "cell_type": "code",
   "execution_count": 9,
   "metadata": {},
   "outputs": [],
   "source": [
    "from statsmodels.sandbox.stats.multicomp import multipletests"
   ]
  },
  {
   "cell_type": "code",
   "execution_count": 18,
   "metadata": {},
   "outputs": [
    {
     "name": "stderr",
     "output_type": "stream",
     "text": [
      "/auto/k2/oelmas/anaconda/envs/agent_perception_rsa/lib/python3.6/site-packages/ipykernel_launcher.py:3: UserWarning:\n",
      "\n",
      "Boolean Series key will be reindexed to match DataFrame index.\n",
      "\n"
     ]
    }
   ],
   "source": [
    "er_idx = mult_reg_results.electrode_region==\"parietal\" \n",
    "mod_idx = mult_reg_results.model==\"movement_nature_hamming\" \n",
    "df = mult_reg_results[er_idx][mod_idx]"
   ]
  },
  {
   "cell_type": "code",
   "execution_count": 23,
   "metadata": {},
   "outputs": [],
   "source": [
    "sig_idx = multipletests(df[\"p_value\"], alpha=0.05, method='bonferroni')[0]"
   ]
  },
  {
   "cell_type": "code",
   "execution_count": 19,
   "metadata": {},
   "outputs": [
    {
     "data": {
      "text/html": [
       "<div>\n",
       "<style scoped>\n",
       "    .dataframe tbody tr th:only-of-type {\n",
       "        vertical-align: middle;\n",
       "    }\n",
       "\n",
       "    .dataframe tbody tr th {\n",
       "        vertical-align: top;\n",
       "    }\n",
       "\n",
       "    .dataframe thead th {\n",
       "        text-align: right;\n",
       "    }\n",
       "</style>\n",
       "<table border=\"1\" class=\"dataframe\">\n",
       "  <thead>\n",
       "    <tr style=\"text-align: right;\">\n",
       "      <th></th>\n",
       "      <th>experiment_type</th>\n",
       "      <th>stimuli_type</th>\n",
       "      <th>electrode_region</th>\n",
       "      <th>model</th>\n",
       "      <th>time_window</th>\n",
       "      <th>beta_value</th>\n",
       "      <th>t_value</th>\n",
       "      <th>p_value</th>\n",
       "      <th>lower_conf_interval</th>\n",
       "      <th>upper_conf_interval</th>\n",
       "    </tr>\n",
       "  </thead>\n",
       "  <tbody>\n",
       "    <tr>\n",
       "      <th>9961</th>\n",
       "      <td>naive</td>\n",
       "      <td>video</td>\n",
       "      <td>parietal</td>\n",
       "      <td>movement_nature_hamming</td>\n",
       "      <td>(106, 108)</td>\n",
       "      <td>0.140291</td>\n",
       "      <td>7.353767</td>\n",
       "      <td>2.406978e-12</td>\n",
       "      <td>0.102729</td>\n",
       "      <td>0.177854</td>\n",
       "    </tr>\n",
       "  </tbody>\n",
       "</table>\n",
       "</div>"
      ],
      "text/plain": [
       "     experiment_type stimuli_type electrode_region                    model  \\\n",
       "9961           naive        video         parietal  movement_nature_hamming   \n",
       "\n",
       "     time_window  beta_value   t_value       p_value  lower_conf_interval  \\\n",
       "9961  (106, 108)    0.140291  7.353767  2.406978e-12             0.102729   \n",
       "\n",
       "      upper_conf_interval  \n",
       "9961             0.177854  "
      ]
     },
     "execution_count": 19,
     "metadata": {},
     "output_type": "execute_result"
    }
   ],
   "source": [
    "df[df.beta_value == df.beta_value.max()]"
   ]
  },
  {
   "cell_type": "code",
   "execution_count": 44,
   "metadata": {},
   "outputs": [],
   "source": [
    "sig_t = list()\n",
    "for t, _ in df[sig_idx].time_window.to_list():\n",
    "    sig_t.append(t)"
   ]
  },
  {
   "cell_type": "code",
   "execution_count": 13,
   "metadata": {},
   "outputs": [],
   "source": [
    "def find_significant_rdms(df, alpha=0.05, correct=True):\n",
    "\n",
    "    # Do Bonferroni correction\n",
    "    if correct:\n",
    "        p_adjusted = multipletests(df[\"p-value\"], alpha=alpha, method='bonferroni')\n",
    "        time_window\n",
    "    \n",
    "    return significant_rdms"
   ]
  },
  {
   "cell_type": "code",
   "execution_count": 14,
   "metadata": {},
   "outputs": [],
   "source": [
    "import plotly.io as pio\n",
    "import plotly.graph_objects as go\n",
    "import plotly.express as px\n",
    "import plotly.graph_objs as go\n",
    "from plotly.subplots import make_subplots\n",
    "import  plotly.graph_objs as go \n",
    "import plotly"
   ]
  },
  {
   "cell_type": "code",
   "execution_count": 15,
   "metadata": {},
   "outputs": [],
   "source": [
    "import plotly.express as px"
   ]
  },
  {
   "cell_type": "code",
   "execution_count": 16,
   "metadata": {},
   "outputs": [],
   "source": [
    "colors = px.colors.qualitative.Plotly\n"
   ]
  },
  {
   "cell_type": "code",
   "execution_count": 25,
   "metadata": {},
   "outputs": [],
   "source": [
    "avg_sbj_results, eeg_dist, model_dist  = pd.read_pickle('/auto/data2/oelmas/RSA_Results/Naive/Video/correlation_hamming_avg_subjects_results.pkl')"
   ]
  },
  {
   "cell_type": "code",
   "execution_count": 29,
   "metadata": {},
   "outputs": [
    {
     "data": {
      "text/html": [
       "<div>\n",
       "<style scoped>\n",
       "    .dataframe tbody tr th:only-of-type {\n",
       "        vertical-align: middle;\n",
       "    }\n",
       "\n",
       "    .dataframe tbody tr th {\n",
       "        vertical-align: top;\n",
       "    }\n",
       "\n",
       "    .dataframe thead th {\n",
       "        text-align: right;\n",
       "    }\n",
       "</style>\n",
       "<table border=\"1\" class=\"dataframe\">\n",
       "  <thead>\n",
       "    <tr style=\"text-align: right;\">\n",
       "      <th></th>\n",
       "      <th>experiment_type</th>\n",
       "      <th>stimulus_type</th>\n",
       "      <th>electrode_region</th>\n",
       "      <th>model_name</th>\n",
       "      <th>time</th>\n",
       "      <th>kendall_tau</th>\n",
       "      <th>kendall_p-value</th>\n",
       "    </tr>\n",
       "  </thead>\n",
       "  <tbody>\n",
       "    <tr>\n",
       "      <th>4857</th>\n",
       "      <td>naive</td>\n",
       "      <td>video</td>\n",
       "      <td>frontal</td>\n",
       "      <td>action_category_hamming</td>\n",
       "      <td>-200</td>\n",
       "      <td>-0.074192</td>\n",
       "      <td>0.132552</td>\n",
       "    </tr>\n",
       "    <tr>\n",
       "      <th>3657</th>\n",
       "      <td>naive</td>\n",
       "      <td>video</td>\n",
       "      <td>central</td>\n",
       "      <td>pixel_wise_motion_model_hamming</td>\n",
       "      <td>-200</td>\n",
       "      <td>-0.058605</td>\n",
       "      <td>0.146728</td>\n",
       "    </tr>\n",
       "    <tr>\n",
       "      <th>15257</th>\n",
       "      <td>naive</td>\n",
       "      <td>video</td>\n",
       "      <td>temporal</td>\n",
       "      <td>flowModel_10_frames_correlation</td>\n",
       "      <td>-200</td>\n",
       "      <td>0.014967</td>\n",
       "      <td>0.710916</td>\n",
       "    </tr>\n",
       "    <tr>\n",
       "      <th>19657</th>\n",
       "      <td>naive</td>\n",
       "      <td>video</td>\n",
       "      <td>whole_brain</td>\n",
       "      <td>flowModel_10_frames_correlation</td>\n",
       "      <td>-200</td>\n",
       "      <td>0.031357</td>\n",
       "      <td>0.437461</td>\n",
       "    </tr>\n",
       "    <tr>\n",
       "      <th>1657</th>\n",
       "      <td>naive</td>\n",
       "      <td>video</td>\n",
       "      <td>central</td>\n",
       "      <td>biological_appearance_hamming</td>\n",
       "      <td>-200</td>\n",
       "      <td>-0.058032</td>\n",
       "      <td>0.239392</td>\n",
       "    </tr>\n",
       "    <tr>\n",
       "      <th>...</th>\n",
       "      <td>...</td>\n",
       "      <td>...</td>\n",
       "      <td>...</td>\n",
       "      <td>...</td>\n",
       "      <td>...</td>\n",
       "      <td>...</td>\n",
       "      <td>...</td>\n",
       "    </tr>\n",
       "    <tr>\n",
       "      <th>18777</th>\n",
       "      <td>naive</td>\n",
       "      <td>video</td>\n",
       "      <td>whole_brain</td>\n",
       "      <td>action_target_hamming</td>\n",
       "      <td>598</td>\n",
       "      <td>-0.014139</td>\n",
       "      <td>0.761561</td>\n",
       "    </tr>\n",
       "    <tr>\n",
       "      <th>8777</th>\n",
       "      <td>naive</td>\n",
       "      <td>video</td>\n",
       "      <td>frontal</td>\n",
       "      <td>total_motion_model_hamming</td>\n",
       "      <td>598</td>\n",
       "      <td>NaN</td>\n",
       "      <td>NaN</td>\n",
       "    </tr>\n",
       "    <tr>\n",
       "      <th>11577</th>\n",
       "      <td>naive</td>\n",
       "      <td>video</td>\n",
       "      <td>parietal</td>\n",
       "      <td>movement_nature_hamming</td>\n",
       "      <td>598</td>\n",
       "      <td>-0.014471</td>\n",
       "      <td>0.769239</td>\n",
       "    </tr>\n",
       "    <tr>\n",
       "      <th>12777</th>\n",
       "      <td>naive</td>\n",
       "      <td>video</td>\n",
       "      <td>parietal</td>\n",
       "      <td>pixel_wise_motion_model_hamming</td>\n",
       "      <td>598</td>\n",
       "      <td>-0.087380</td>\n",
       "      <td>0.030485</td>\n",
       "    </tr>\n",
       "    <tr>\n",
       "      <th>19577</th>\n",
       "      <td>naive</td>\n",
       "      <td>video</td>\n",
       "      <td>whole_brain</td>\n",
       "      <td>biological_appearance_hamming</td>\n",
       "      <td>598</td>\n",
       "      <td>-0.040578</td>\n",
       "      <td>0.410708</td>\n",
       "    </tr>\n",
       "  </tbody>\n",
       "</table>\n",
       "<p>26400 rows × 7 columns</p>\n",
       "</div>"
      ],
      "text/plain": [
       "      experiment_type stimulus_type electrode_region  \\\n",
       "4857            naive         video          frontal   \n",
       "3657            naive         video          central   \n",
       "15257           naive         video         temporal   \n",
       "19657           naive         video      whole_brain   \n",
       "1657            naive         video          central   \n",
       "...               ...           ...              ...   \n",
       "18777           naive         video      whole_brain   \n",
       "8777            naive         video          frontal   \n",
       "11577           naive         video         parietal   \n",
       "12777           naive         video         parietal   \n",
       "19577           naive         video      whole_brain   \n",
       "\n",
       "                            model_name  time  kendall_tau  kendall_p-value  \n",
       "4857           action_category_hamming  -200    -0.074192         0.132552  \n",
       "3657   pixel_wise_motion_model_hamming  -200    -0.058605         0.146728  \n",
       "15257  flowModel_10_frames_correlation  -200     0.014967         0.710916  \n",
       "19657  flowModel_10_frames_correlation  -200     0.031357         0.437461  \n",
       "1657     biological_appearance_hamming  -200    -0.058032         0.239392  \n",
       "...                                ...   ...          ...              ...  \n",
       "18777            action_target_hamming   598    -0.014139         0.761561  \n",
       "8777        total_motion_model_hamming   598          NaN              NaN  \n",
       "11577          movement_nature_hamming   598    -0.014471         0.769239  \n",
       "12777  pixel_wise_motion_model_hamming   598    -0.087380         0.030485  \n",
       "19577    biological_appearance_hamming   598    -0.040578         0.410708  \n",
       "\n",
       "[26400 rows x 7 columns]"
      ]
     },
     "execution_count": 29,
     "metadata": {},
     "output_type": "execute_result"
    }
   ],
   "source": [
    "avg_sbj_results"
   ]
  },
  {
   "cell_type": "code",
   "execution_count": 30,
   "metadata": {},
   "outputs": [
    {
     "name": "stderr",
     "output_type": "stream",
     "text": [
      "/auto/k2/oelmas/anaconda/envs/agent_perception_rsa/lib/python3.6/site-packages/ipykernel_launcher.py:3: UserWarning:\n",
      "\n",
      "Boolean Series key will be reindexed to match DataFrame index.\n",
      "\n"
     ]
    }
   ],
   "source": [
    "er_idx = avg_sbj_results.electrode_region==\"parietal\" \n",
    "mod_idx = avg_sbj_results.model_name==\"movement_nature_hamming\" \n",
    "_avg_sbj_results = avg_sbj_results[er_idx][mod_idx]"
   ]
  },
  {
   "cell_type": "code",
   "execution_count": 31,
   "metadata": {},
   "outputs": [
    {
     "data": {
      "text/html": [
       "<div>\n",
       "<style scoped>\n",
       "    .dataframe tbody tr th:only-of-type {\n",
       "        vertical-align: middle;\n",
       "    }\n",
       "\n",
       "    .dataframe tbody tr th {\n",
       "        vertical-align: top;\n",
       "    }\n",
       "\n",
       "    .dataframe thead th {\n",
       "        text-align: right;\n",
       "    }\n",
       "</style>\n",
       "<table border=\"1\" class=\"dataframe\">\n",
       "  <thead>\n",
       "    <tr style=\"text-align: right;\">\n",
       "      <th></th>\n",
       "      <th>experiment_type</th>\n",
       "      <th>stimulus_type</th>\n",
       "      <th>electrode_region</th>\n",
       "      <th>model_name</th>\n",
       "      <th>time</th>\n",
       "      <th>kendall_tau</th>\n",
       "      <th>kendall_p-value</th>\n",
       "    </tr>\n",
       "  </thead>\n",
       "  <tbody>\n",
       "    <tr>\n",
       "      <th>11257</th>\n",
       "      <td>naive</td>\n",
       "      <td>video</td>\n",
       "      <td>parietal</td>\n",
       "      <td>movement_nature_hamming</td>\n",
       "      <td>-200</td>\n",
       "      <td>0.032074</td>\n",
       "      <td>0.515528</td>\n",
       "    </tr>\n",
       "    <tr>\n",
       "      <th>11254</th>\n",
       "      <td>naive</td>\n",
       "      <td>video</td>\n",
       "      <td>parietal</td>\n",
       "      <td>movement_nature_hamming</td>\n",
       "      <td>-198</td>\n",
       "      <td>0.024764</td>\n",
       "      <td>0.615627</td>\n",
       "    </tr>\n",
       "    <tr>\n",
       "      <th>11253</th>\n",
       "      <td>naive</td>\n",
       "      <td>video</td>\n",
       "      <td>parietal</td>\n",
       "      <td>movement_nature_hamming</td>\n",
       "      <td>-196</td>\n",
       "      <td>0.009697</td>\n",
       "      <td>0.844150</td>\n",
       "    </tr>\n",
       "    <tr>\n",
       "      <th>11252</th>\n",
       "      <td>naive</td>\n",
       "      <td>video</td>\n",
       "      <td>parietal</td>\n",
       "      <td>movement_nature_hamming</td>\n",
       "      <td>-194</td>\n",
       "      <td>0.005147</td>\n",
       "      <td>0.916897</td>\n",
       "    </tr>\n",
       "    <tr>\n",
       "      <th>11251</th>\n",
       "      <td>naive</td>\n",
       "      <td>video</td>\n",
       "      <td>parietal</td>\n",
       "      <td>movement_nature_hamming</td>\n",
       "      <td>-192</td>\n",
       "      <td>0.017678</td>\n",
       "      <td>0.720047</td>\n",
       "    </tr>\n",
       "    <tr>\n",
       "      <th>...</th>\n",
       "      <td>...</td>\n",
       "      <td>...</td>\n",
       "      <td>...</td>\n",
       "      <td>...</td>\n",
       "      <td>...</td>\n",
       "      <td>...</td>\n",
       "      <td>...</td>\n",
       "    </tr>\n",
       "    <tr>\n",
       "      <th>11573</th>\n",
       "      <td>naive</td>\n",
       "      <td>video</td>\n",
       "      <td>parietal</td>\n",
       "      <td>movement_nature_hamming</td>\n",
       "      <td>590</td>\n",
       "      <td>-0.045426</td>\n",
       "      <td>0.357081</td>\n",
       "    </tr>\n",
       "    <tr>\n",
       "      <th>11574</th>\n",
       "      <td>naive</td>\n",
       "      <td>video</td>\n",
       "      <td>parietal</td>\n",
       "      <td>movement_nature_hamming</td>\n",
       "      <td>592</td>\n",
       "      <td>-0.052214</td>\n",
       "      <td>0.289803</td>\n",
       "    </tr>\n",
       "    <tr>\n",
       "      <th>11575</th>\n",
       "      <td>naive</td>\n",
       "      <td>video</td>\n",
       "      <td>parietal</td>\n",
       "      <td>movement_nature_hamming</td>\n",
       "      <td>594</td>\n",
       "      <td>-0.035655</td>\n",
       "      <td>0.469778</td>\n",
       "    </tr>\n",
       "    <tr>\n",
       "      <th>11576</th>\n",
       "      <td>naive</td>\n",
       "      <td>video</td>\n",
       "      <td>parietal</td>\n",
       "      <td>movement_nature_hamming</td>\n",
       "      <td>596</td>\n",
       "      <td>-0.024093</td>\n",
       "      <td>0.625233</td>\n",
       "    </tr>\n",
       "    <tr>\n",
       "      <th>11577</th>\n",
       "      <td>naive</td>\n",
       "      <td>video</td>\n",
       "      <td>parietal</td>\n",
       "      <td>movement_nature_hamming</td>\n",
       "      <td>598</td>\n",
       "      <td>-0.014471</td>\n",
       "      <td>0.769239</td>\n",
       "    </tr>\n",
       "  </tbody>\n",
       "</table>\n",
       "<p>400 rows × 7 columns</p>\n",
       "</div>"
      ],
      "text/plain": [
       "      experiment_type stimulus_type electrode_region               model_name  \\\n",
       "11257           naive         video         parietal  movement_nature_hamming   \n",
       "11254           naive         video         parietal  movement_nature_hamming   \n",
       "11253           naive         video         parietal  movement_nature_hamming   \n",
       "11252           naive         video         parietal  movement_nature_hamming   \n",
       "11251           naive         video         parietal  movement_nature_hamming   \n",
       "...               ...           ...              ...                      ...   \n",
       "11573           naive         video         parietal  movement_nature_hamming   \n",
       "11574           naive         video         parietal  movement_nature_hamming   \n",
       "11575           naive         video         parietal  movement_nature_hamming   \n",
       "11576           naive         video         parietal  movement_nature_hamming   \n",
       "11577           naive         video         parietal  movement_nature_hamming   \n",
       "\n",
       "       time  kendall_tau  kendall_p-value  \n",
       "11257  -200     0.032074         0.515528  \n",
       "11254  -198     0.024764         0.615627  \n",
       "11253  -196     0.009697         0.844150  \n",
       "11252  -194     0.005147         0.916897  \n",
       "11251  -192     0.017678         0.720047  \n",
       "...     ...          ...              ...  \n",
       "11573   590    -0.045426         0.357081  \n",
       "11574   592    -0.052214         0.289803  \n",
       "11575   594    -0.035655         0.469778  \n",
       "11576   596    -0.024093         0.625233  \n",
       "11577   598    -0.014471         0.769239  \n",
       "\n",
       "[400 rows x 7 columns]"
      ]
     },
     "execution_count": 31,
     "metadata": {},
     "output_type": "execute_result"
    }
   ],
   "source": [
    "_avg_sbj_results"
   ]
  },
  {
   "cell_type": "code",
   "execution_count": 34,
   "metadata": {},
   "outputs": [],
   "source": []
  },
  {
   "cell_type": "code",
   "execution_count": 35,
   "metadata": {},
   "outputs": [],
   "source": [
    "rdm_df = avg_sbj_results\n",
    "model_name = 'movement_nature_hamming'\n",
    "electrode_region = 'parietal'\n",
    "constant = 'naive'\n",
    "variable = 'video'"
   ]
  },
  {
   "cell_type": "code",
   "execution_count": 51,
   "metadata": {},
   "outputs": [
    {
     "data": {
      "text/plain": [
       "[62,\n",
       " 64,\n",
       " 66,\n",
       " 68,\n",
       " 70,\n",
       " 72,\n",
       " 74,\n",
       " 82,\n",
       " 84,\n",
       " 86,\n",
       " 88,\n",
       " 90,\n",
       " 92,\n",
       " 94,\n",
       " 96,\n",
       " 98,\n",
       " 100,\n",
       " 102,\n",
       " 104,\n",
       " 106,\n",
       " 108,\n",
       " 110,\n",
       " 112,\n",
       " 114,\n",
       " 116,\n",
       " 118]"
      ]
     },
     "execution_count": 51,
     "metadata": {},
     "output_type": "execute_result"
    }
   ],
   "source": [
    "sig_t"
   ]
  },
  {
   "cell_type": "code",
   "execution_count": 59,
   "metadata": {},
   "outputs": [
    {
     "data": {
      "text/plain": [
       "26"
      ]
     },
     "execution_count": 59,
     "metadata": {},
     "output_type": "execute_result"
    }
   ],
   "source": [
    "len(sig_t)"
   ]
  },
  {
   "cell_type": "code",
   "execution_count": 75,
   "metadata": {},
   "outputs": [
    {
     "ename": "ValueError",
     "evalue": "Lengths must match to compare",
     "output_type": "error",
     "traceback": [
      "\u001b[0;31m---------------------------------------------------------------------------\u001b[0m",
      "\u001b[0;31mValueError\u001b[0m                                Traceback (most recent call last)",
      "\u001b[0;32m<ipython-input-75-8809f12b0da6>\u001b[0m in \u001b[0;36m<module>\u001b[0;34m\u001b[0m\n\u001b[0;32m----> 1\u001b[0;31m \u001b[0mrdm_df\u001b[0m\u001b[0;34m[\u001b[0m\u001b[0;34m\"time\"\u001b[0m\u001b[0;34m]\u001b[0m \u001b[0;34m==\u001b[0m \u001b[0msig_t\u001b[0m\u001b[0;34m\u001b[0m\u001b[0;34m\u001b[0m\u001b[0m\n\u001b[0m",
      "\u001b[0;32m~/anaconda/envs/agent_perception_rsa/lib/python3.6/site-packages/pandas/core/ops/common.py\u001b[0m in \u001b[0;36mnew_method\u001b[0;34m(self, other)\u001b[0m\n\u001b[1;32m     62\u001b[0m         \u001b[0mother\u001b[0m \u001b[0;34m=\u001b[0m \u001b[0mitem_from_zerodim\u001b[0m\u001b[0;34m(\u001b[0m\u001b[0mother\u001b[0m\u001b[0;34m)\u001b[0m\u001b[0;34m\u001b[0m\u001b[0;34m\u001b[0m\u001b[0m\n\u001b[1;32m     63\u001b[0m \u001b[0;34m\u001b[0m\u001b[0m\n\u001b[0;32m---> 64\u001b[0;31m         \u001b[0;32mreturn\u001b[0m \u001b[0mmethod\u001b[0m\u001b[0;34m(\u001b[0m\u001b[0mself\u001b[0m\u001b[0;34m,\u001b[0m \u001b[0mother\u001b[0m\u001b[0;34m)\u001b[0m\u001b[0;34m\u001b[0m\u001b[0;34m\u001b[0m\u001b[0m\n\u001b[0m\u001b[1;32m     65\u001b[0m \u001b[0;34m\u001b[0m\u001b[0m\n\u001b[1;32m     66\u001b[0m     \u001b[0;32mreturn\u001b[0m \u001b[0mnew_method\u001b[0m\u001b[0;34m\u001b[0m\u001b[0;34m\u001b[0m\u001b[0m\n",
      "\u001b[0;32m~/anaconda/envs/agent_perception_rsa/lib/python3.6/site-packages/pandas/core/ops/__init__.py\u001b[0m in \u001b[0;36mwrapper\u001b[0;34m(self, other)\u001b[0m\n\u001b[1;32m    527\u001b[0m         \u001b[0mrvalues\u001b[0m \u001b[0;34m=\u001b[0m \u001b[0mextract_array\u001b[0m\u001b[0;34m(\u001b[0m\u001b[0mother\u001b[0m\u001b[0;34m,\u001b[0m \u001b[0mextract_numpy\u001b[0m\u001b[0;34m=\u001b[0m\u001b[0;32mTrue\u001b[0m\u001b[0;34m)\u001b[0m\u001b[0;34m\u001b[0m\u001b[0;34m\u001b[0m\u001b[0m\n\u001b[1;32m    528\u001b[0m \u001b[0;34m\u001b[0m\u001b[0m\n\u001b[0;32m--> 529\u001b[0;31m         \u001b[0mres_values\u001b[0m \u001b[0;34m=\u001b[0m \u001b[0mcomparison_op\u001b[0m\u001b[0;34m(\u001b[0m\u001b[0mlvalues\u001b[0m\u001b[0;34m,\u001b[0m \u001b[0mrvalues\u001b[0m\u001b[0;34m,\u001b[0m \u001b[0mop\u001b[0m\u001b[0;34m)\u001b[0m\u001b[0;34m\u001b[0m\u001b[0;34m\u001b[0m\u001b[0m\n\u001b[0m\u001b[1;32m    530\u001b[0m \u001b[0;34m\u001b[0m\u001b[0m\n\u001b[1;32m    531\u001b[0m         \u001b[0;32mreturn\u001b[0m \u001b[0m_construct_result\u001b[0m\u001b[0;34m(\u001b[0m\u001b[0mself\u001b[0m\u001b[0;34m,\u001b[0m \u001b[0mres_values\u001b[0m\u001b[0;34m,\u001b[0m \u001b[0mindex\u001b[0m\u001b[0;34m=\u001b[0m\u001b[0mself\u001b[0m\u001b[0;34m.\u001b[0m\u001b[0mindex\u001b[0m\u001b[0;34m,\u001b[0m \u001b[0mname\u001b[0m\u001b[0;34m=\u001b[0m\u001b[0mres_name\u001b[0m\u001b[0;34m)\u001b[0m\u001b[0;34m\u001b[0m\u001b[0;34m\u001b[0m\u001b[0m\n",
      "\u001b[0;32m~/anaconda/envs/agent_perception_rsa/lib/python3.6/site-packages/pandas/core/ops/array_ops.py\u001b[0m in \u001b[0;36mcomparison_op\u001b[0;34m(left, right, op)\u001b[0m\n\u001b[1;32m    232\u001b[0m         \u001b[0;31m#  The ambiguous case is object-dtype.  See GH#27803\u001b[0m\u001b[0;34m\u001b[0m\u001b[0;34m\u001b[0m\u001b[0;34m\u001b[0m\u001b[0m\n\u001b[1;32m    233\u001b[0m         \u001b[0;32mif\u001b[0m \u001b[0mlen\u001b[0m\u001b[0;34m(\u001b[0m\u001b[0mlvalues\u001b[0m\u001b[0;34m)\u001b[0m \u001b[0;34m!=\u001b[0m \u001b[0mlen\u001b[0m\u001b[0;34m(\u001b[0m\u001b[0mrvalues\u001b[0m\u001b[0;34m)\u001b[0m\u001b[0;34m:\u001b[0m\u001b[0;34m\u001b[0m\u001b[0;34m\u001b[0m\u001b[0m\n\u001b[0;32m--> 234\u001b[0;31m             \u001b[0;32mraise\u001b[0m \u001b[0mValueError\u001b[0m\u001b[0;34m(\u001b[0m\u001b[0;34m\"Lengths must match to compare\"\u001b[0m\u001b[0;34m)\u001b[0m\u001b[0;34m\u001b[0m\u001b[0;34m\u001b[0m\u001b[0m\n\u001b[0m\u001b[1;32m    235\u001b[0m \u001b[0;34m\u001b[0m\u001b[0m\n\u001b[1;32m    236\u001b[0m     \u001b[0;32mif\u001b[0m \u001b[0mshould_extension_dispatch\u001b[0m\u001b[0;34m(\u001b[0m\u001b[0mlvalues\u001b[0m\u001b[0;34m,\u001b[0m \u001b[0mrvalues\u001b[0m\u001b[0;34m)\u001b[0m\u001b[0;34m:\u001b[0m\u001b[0;34m\u001b[0m\u001b[0;34m\u001b[0m\u001b[0m\n",
      "\u001b[0;31mValueError\u001b[0m: Lengths must match to compare"
     ]
    }
   ],
   "source": [
    "rdm_df[\"time\"]sig_t"
   ]
  },
  {
   "cell_type": "code",
   "execution_count": 71,
   "metadata": {},
   "outputs": [
    {
     "ename": "ValueError",
     "evalue": "Lengths must match to compare",
     "output_type": "error",
     "traceback": [
      "\u001b[0;31m---------------------------------------------------------------------------\u001b[0m",
      "\u001b[0;31mValueError\u001b[0m                                Traceback (most recent call last)",
      "\u001b[0;32m<ipython-input-71-831a88fe79ff>\u001b[0m in \u001b[0;36m<module>\u001b[0;34m\u001b[0m\n\u001b[1;32m     11\u001b[0m \u001b[0;34m\u001b[0m\u001b[0m\n\u001b[1;32m     12\u001b[0m fig.add_trace(go.Scatter(x=sig_t,\n\u001b[0;32m---> 13\u001b[0;31m                         \u001b[0my\u001b[0m\u001b[0;34m=\u001b[0m\u001b[0;34m(\u001b[0m\u001b[0mdf_to_plot\u001b[0m\u001b[0;34m.\u001b[0m\u001b[0mtime\u001b[0m\u001b[0;34m==\u001b[0m\u001b[0msig_t\u001b[0m\u001b[0;34m)\u001b[0m\u001b[0;34m.\u001b[0m\u001b[0mkendall_tau\u001b[0m\u001b[0;34m,\u001b[0m\u001b[0;34m\u001b[0m\u001b[0;34m\u001b[0m\u001b[0m\n\u001b[0m\u001b[1;32m     14\u001b[0m                         mode='markers'))\n\u001b[1;32m     15\u001b[0m \u001b[0;34m\u001b[0m\u001b[0m\n",
      "\u001b[0;32m~/anaconda/envs/agent_perception_rsa/lib/python3.6/site-packages/pandas/core/ops/common.py\u001b[0m in \u001b[0;36mnew_method\u001b[0;34m(self, other)\u001b[0m\n\u001b[1;32m     62\u001b[0m         \u001b[0mother\u001b[0m \u001b[0;34m=\u001b[0m \u001b[0mitem_from_zerodim\u001b[0m\u001b[0;34m(\u001b[0m\u001b[0mother\u001b[0m\u001b[0;34m)\u001b[0m\u001b[0;34m\u001b[0m\u001b[0;34m\u001b[0m\u001b[0m\n\u001b[1;32m     63\u001b[0m \u001b[0;34m\u001b[0m\u001b[0m\n\u001b[0;32m---> 64\u001b[0;31m         \u001b[0;32mreturn\u001b[0m \u001b[0mmethod\u001b[0m\u001b[0;34m(\u001b[0m\u001b[0mself\u001b[0m\u001b[0;34m,\u001b[0m \u001b[0mother\u001b[0m\u001b[0;34m)\u001b[0m\u001b[0;34m\u001b[0m\u001b[0;34m\u001b[0m\u001b[0m\n\u001b[0m\u001b[1;32m     65\u001b[0m \u001b[0;34m\u001b[0m\u001b[0m\n\u001b[1;32m     66\u001b[0m     \u001b[0;32mreturn\u001b[0m \u001b[0mnew_method\u001b[0m\u001b[0;34m\u001b[0m\u001b[0;34m\u001b[0m\u001b[0m\n",
      "\u001b[0;32m~/anaconda/envs/agent_perception_rsa/lib/python3.6/site-packages/pandas/core/ops/__init__.py\u001b[0m in \u001b[0;36mwrapper\u001b[0;34m(self, other)\u001b[0m\n\u001b[1;32m    527\u001b[0m         \u001b[0mrvalues\u001b[0m \u001b[0;34m=\u001b[0m \u001b[0mextract_array\u001b[0m\u001b[0;34m(\u001b[0m\u001b[0mother\u001b[0m\u001b[0;34m,\u001b[0m \u001b[0mextract_numpy\u001b[0m\u001b[0;34m=\u001b[0m\u001b[0;32mTrue\u001b[0m\u001b[0;34m)\u001b[0m\u001b[0;34m\u001b[0m\u001b[0;34m\u001b[0m\u001b[0m\n\u001b[1;32m    528\u001b[0m \u001b[0;34m\u001b[0m\u001b[0m\n\u001b[0;32m--> 529\u001b[0;31m         \u001b[0mres_values\u001b[0m \u001b[0;34m=\u001b[0m \u001b[0mcomparison_op\u001b[0m\u001b[0;34m(\u001b[0m\u001b[0mlvalues\u001b[0m\u001b[0;34m,\u001b[0m \u001b[0mrvalues\u001b[0m\u001b[0;34m,\u001b[0m \u001b[0mop\u001b[0m\u001b[0;34m)\u001b[0m\u001b[0;34m\u001b[0m\u001b[0;34m\u001b[0m\u001b[0m\n\u001b[0m\u001b[1;32m    530\u001b[0m \u001b[0;34m\u001b[0m\u001b[0m\n\u001b[1;32m    531\u001b[0m         \u001b[0;32mreturn\u001b[0m \u001b[0m_construct_result\u001b[0m\u001b[0;34m(\u001b[0m\u001b[0mself\u001b[0m\u001b[0;34m,\u001b[0m \u001b[0mres_values\u001b[0m\u001b[0;34m,\u001b[0m \u001b[0mindex\u001b[0m\u001b[0;34m=\u001b[0m\u001b[0mself\u001b[0m\u001b[0;34m.\u001b[0m\u001b[0mindex\u001b[0m\u001b[0;34m,\u001b[0m \u001b[0mname\u001b[0m\u001b[0;34m=\u001b[0m\u001b[0mres_name\u001b[0m\u001b[0;34m)\u001b[0m\u001b[0;34m\u001b[0m\u001b[0;34m\u001b[0m\u001b[0m\n",
      "\u001b[0;32m~/anaconda/envs/agent_perception_rsa/lib/python3.6/site-packages/pandas/core/ops/array_ops.py\u001b[0m in \u001b[0;36mcomparison_op\u001b[0;34m(left, right, op)\u001b[0m\n\u001b[1;32m    232\u001b[0m         \u001b[0;31m#  The ambiguous case is object-dtype.  See GH#27803\u001b[0m\u001b[0;34m\u001b[0m\u001b[0;34m\u001b[0m\u001b[0;34m\u001b[0m\u001b[0m\n\u001b[1;32m    233\u001b[0m         \u001b[0;32mif\u001b[0m \u001b[0mlen\u001b[0m\u001b[0;34m(\u001b[0m\u001b[0mlvalues\u001b[0m\u001b[0;34m)\u001b[0m \u001b[0;34m!=\u001b[0m \u001b[0mlen\u001b[0m\u001b[0;34m(\u001b[0m\u001b[0mrvalues\u001b[0m\u001b[0;34m)\u001b[0m\u001b[0;34m:\u001b[0m\u001b[0;34m\u001b[0m\u001b[0;34m\u001b[0m\u001b[0m\n\u001b[0;32m--> 234\u001b[0;31m             \u001b[0;32mraise\u001b[0m \u001b[0mValueError\u001b[0m\u001b[0;34m(\u001b[0m\u001b[0;34m\"Lengths must match to compare\"\u001b[0m\u001b[0;34m)\u001b[0m\u001b[0;34m\u001b[0m\u001b[0;34m\u001b[0m\u001b[0m\n\u001b[0m\u001b[1;32m    235\u001b[0m \u001b[0;34m\u001b[0m\u001b[0m\n\u001b[1;32m    236\u001b[0m     \u001b[0;32mif\u001b[0m \u001b[0mshould_extension_dispatch\u001b[0m\u001b[0;34m(\u001b[0m\u001b[0mlvalues\u001b[0m\u001b[0;34m,\u001b[0m \u001b[0mrvalues\u001b[0m\u001b[0;34m)\u001b[0m\u001b[0;34m:\u001b[0m\u001b[0;34m\u001b[0m\u001b[0;34m\u001b[0m\u001b[0m\n",
      "\u001b[0;31mValueError\u001b[0m: Lengths must match to compare"
     ]
    }
   ],
   "source": [
    "fig = go.Figure()\n",
    "df_to_plot = rdm_df[(rdm_df[\"model_name\"] == model_name) \n",
    "                                & (rdm_df[\"electrode_region\"] == electrode_region)\n",
    "                                & (rdm_df[\"experiment_type\"] == constant) \n",
    "                                & (rdm_df[\"stimulus_type\"] == variable)]\n",
    "            \n",
    "# Plots the kendall tau curve\n",
    "fig.add_trace(go.Scatter(x=df_to_plot[\"time\"],\n",
    "                        y=df_to_plot[\"kendall_tau\"],\n",
    "                        mode='lines'))\n",
    "\n",
    "fig.add_trace(go.Scatter(x=sig_t,\n",
    "                        y=(df_to_plot.time==sig_t).kendall_tau,\n",
    "                        mode='markers'))\n",
    "\n",
    "fig.update_yaxes(range=[-0.2, 0.6])\n",
    "fig.update_yaxes(title_text=\"Kendall-tau\")\n",
    "fig.update_xaxes(title_text=\"Time ms (relative to stimulus onset)\")\n",
    "plotly.offline.plot(fig, filename = \"outputs/TEST.html\", auto_open=False)    "
   ]
  },
  {
   "cell_type": "code",
   "execution_count": null,
   "metadata": {},
   "outputs": [],
   "source": []
  }
 ],
 "metadata": {
  "kernelspec": {
   "display_name": "Python [conda env:agent_perception_rsa] *",
   "language": "python",
   "name": "conda-env-agent_perception_rsa-py"
  },
  "language_info": {
   "codemirror_mode": {
    "name": "ipython",
    "version": 3
   },
   "file_extension": ".py",
   "mimetype": "text/x-python",
   "name": "python",
   "nbconvert_exporter": "python",
   "pygments_lexer": "ipython3",
   "version": "3.6.10"
  }
 },
 "nbformat": 4,
 "nbformat_minor": 4
}
