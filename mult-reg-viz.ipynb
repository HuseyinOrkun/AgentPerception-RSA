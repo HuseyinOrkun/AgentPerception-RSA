{
 "cells": [
  {
   "cell_type": "code",
   "execution_count": 1,
   "metadata": {},
   "outputs": [],
   "source": [
    "import pandas as pd"
   ]
  },
  {
   "cell_type": "code",
   "execution_count": 2,
   "metadata": {},
   "outputs": [],
   "source": [
    "mult_reg_results, _, _  = pd.read_pickle('/auto/data2/oelmas/RSA_Results/Naive/Video/correlation_hamming_regression_results.pkl')"
   ]
  },
  {
   "cell_type": "code",
   "execution_count": 3,
   "metadata": {},
   "outputs": [
    {
     "data": {
      "text/html": [
       "<div>\n",
       "<style scoped>\n",
       "    .dataframe tbody tr th:only-of-type {\n",
       "        vertical-align: middle;\n",
       "    }\n",
       "\n",
       "    .dataframe tbody tr th {\n",
       "        vertical-align: top;\n",
       "    }\n",
       "\n",
       "    .dataframe thead th {\n",
       "        text-align: right;\n",
       "    }\n",
       "</style>\n",
       "<table border=\"1\" class=\"dataframe\">\n",
       "  <thead>\n",
       "    <tr style=\"text-align: right;\">\n",
       "      <th></th>\n",
       "      <th>experiment_type</th>\n",
       "      <th>stimuli_type</th>\n",
       "      <th>electrode_region</th>\n",
       "      <th>model_name</th>\n",
       "      <th>time</th>\n",
       "      <th>beta_value</th>\n",
       "      <th>t_value</th>\n",
       "      <th>p_value</th>\n",
       "      <th>lower_conf_interval</th>\n",
       "      <th>upper_conf_interval</th>\n",
       "    </tr>\n",
       "  </thead>\n",
       "  <tbody>\n",
       "    <tr>\n",
       "      <th>513</th>\n",
       "      <td>naive</td>\n",
       "      <td>video</td>\n",
       "      <td>central</td>\n",
       "      <td>action_category_hamming</td>\n",
       "      <td>-200</td>\n",
       "      <td>0.052211</td>\n",
       "      <td>0.349135</td>\n",
       "      <td>0.727263</td>\n",
       "      <td>-0.242226</td>\n",
       "      <td>0.346648</td>\n",
       "    </tr>\n",
       "    <tr>\n",
       "      <th>4117</th>\n",
       "      <td>naive</td>\n",
       "      <td>video</td>\n",
       "      <td>frontal</td>\n",
       "      <td>flowModel_10_frames_correlation</td>\n",
       "      <td>-200</td>\n",
       "      <td>0.150793</td>\n",
       "      <td>0.566093</td>\n",
       "      <td>0.571806</td>\n",
       "      <td>-0.373670</td>\n",
       "      <td>0.675256</td>\n",
       "    </tr>\n",
       "    <tr>\n",
       "      <th>4116</th>\n",
       "      <td>naive</td>\n",
       "      <td>video</td>\n",
       "      <td>frontal</td>\n",
       "      <td>biological_appearance_hamming</td>\n",
       "      <td>-200</td>\n",
       "      <td>-0.017748</td>\n",
       "      <td>-0.626133</td>\n",
       "      <td>0.531763</td>\n",
       "      <td>-0.073557</td>\n",
       "      <td>0.038061</td>\n",
       "    </tr>\n",
       "    <tr>\n",
       "      <th>4115</th>\n",
       "      <td>naive</td>\n",
       "      <td>video</td>\n",
       "      <td>frontal</td>\n",
       "      <td>agent_hamming</td>\n",
       "      <td>-200</td>\n",
       "      <td>0.015726</td>\n",
       "      <td>0.261568</td>\n",
       "      <td>0.793856</td>\n",
       "      <td>-0.102650</td>\n",
       "      <td>0.134103</td>\n",
       "    </tr>\n",
       "    <tr>\n",
       "      <th>4114</th>\n",
       "      <td>naive</td>\n",
       "      <td>video</td>\n",
       "      <td>frontal</td>\n",
       "      <td>action_target_hamming</td>\n",
       "      <td>-200</td>\n",
       "      <td>0.036257</td>\n",
       "      <td>1.558411</td>\n",
       "      <td>0.120320</td>\n",
       "      <td>-0.009550</td>\n",
       "      <td>0.082063</td>\n",
       "    </tr>\n",
       "    <tr>\n",
       "      <th>...</th>\n",
       "      <td>...</td>\n",
       "      <td>...</td>\n",
       "      <td>...</td>\n",
       "      <td>...</td>\n",
       "      <td>...</td>\n",
       "      <td>...</td>\n",
       "      <td>...</td>\n",
       "      <td>...</td>\n",
       "      <td>...</td>\n",
       "      <td>...</td>\n",
       "    </tr>\n",
       "    <tr>\n",
       "      <th>3397</th>\n",
       "      <td>naive</td>\n",
       "      <td>video</td>\n",
       "      <td>central</td>\n",
       "      <td>flowModel_10_frames_correlation</td>\n",
       "      <td>598</td>\n",
       "      <td>0.054490</td>\n",
       "      <td>0.175657</td>\n",
       "      <td>0.860696</td>\n",
       "      <td>-0.556269</td>\n",
       "      <td>0.665249</td>\n",
       "    </tr>\n",
       "    <tr>\n",
       "      <th>3398</th>\n",
       "      <td>naive</td>\n",
       "      <td>video</td>\n",
       "      <td>central</td>\n",
       "      <td>movement_nature_hamming</td>\n",
       "      <td>598</td>\n",
       "      <td>-0.046126</td>\n",
       "      <td>-1.619490</td>\n",
       "      <td>0.106522</td>\n",
       "      <td>-0.102204</td>\n",
       "      <td>0.009952</td>\n",
       "    </tr>\n",
       "    <tr>\n",
       "      <th>3399</th>\n",
       "      <td>naive</td>\n",
       "      <td>video</td>\n",
       "      <td>central</td>\n",
       "      <td>gabor_video_10_frames_correlation</td>\n",
       "      <td>598</td>\n",
       "      <td>0.017425</td>\n",
       "      <td>0.121838</td>\n",
       "      <td>0.903119</td>\n",
       "      <td>-0.264165</td>\n",
       "      <td>0.299016</td>\n",
       "    </tr>\n",
       "    <tr>\n",
       "      <th>6997</th>\n",
       "      <td>naive</td>\n",
       "      <td>video</td>\n",
       "      <td>frontal</td>\n",
       "      <td>flowModel_10_frames_correlation</td>\n",
       "      <td>598</td>\n",
       "      <td>0.081706</td>\n",
       "      <td>0.258372</td>\n",
       "      <td>0.796319</td>\n",
       "      <td>-0.540921</td>\n",
       "      <td>0.704332</td>\n",
       "    </tr>\n",
       "    <tr>\n",
       "      <th>6998</th>\n",
       "      <td>naive</td>\n",
       "      <td>video</td>\n",
       "      <td>frontal</td>\n",
       "      <td>movement_nature_hamming</td>\n",
       "      <td>598</td>\n",
       "      <td>0.001515</td>\n",
       "      <td>0.052172</td>\n",
       "      <td>0.958431</td>\n",
       "      <td>-0.055652</td>\n",
       "      <td>0.058682</td>\n",
       "    </tr>\n",
       "  </tbody>\n",
       "</table>\n",
       "<p>21600 rows × 10 columns</p>\n",
       "</div>"
      ],
      "text/plain": [
       "     experiment_type stimuli_type electrode_region  \\\n",
       "513            naive        video          central   \n",
       "4117           naive        video          frontal   \n",
       "4116           naive        video          frontal   \n",
       "4115           naive        video          frontal   \n",
       "4114           naive        video          frontal   \n",
       "...              ...          ...              ...   \n",
       "3397           naive        video          central   \n",
       "3398           naive        video          central   \n",
       "3399           naive        video          central   \n",
       "6997           naive        video          frontal   \n",
       "6998           naive        video          frontal   \n",
       "\n",
       "                             model_name  time  beta_value   t_value   p_value  \\\n",
       "513             action_category_hamming  -200    0.052211  0.349135  0.727263   \n",
       "4117    flowModel_10_frames_correlation  -200    0.150793  0.566093  0.571806   \n",
       "4116      biological_appearance_hamming  -200   -0.017748 -0.626133  0.531763   \n",
       "4115                      agent_hamming  -200    0.015726  0.261568  0.793856   \n",
       "4114              action_target_hamming  -200    0.036257  1.558411  0.120320   \n",
       "...                                 ...   ...         ...       ...       ...   \n",
       "3397    flowModel_10_frames_correlation   598    0.054490  0.175657  0.860696   \n",
       "3398            movement_nature_hamming   598   -0.046126 -1.619490  0.106522   \n",
       "3399  gabor_video_10_frames_correlation   598    0.017425  0.121838  0.903119   \n",
       "6997    flowModel_10_frames_correlation   598    0.081706  0.258372  0.796319   \n",
       "6998            movement_nature_hamming   598    0.001515  0.052172  0.958431   \n",
       "\n",
       "      lower_conf_interval  upper_conf_interval  \n",
       "513             -0.242226             0.346648  \n",
       "4117            -0.373670             0.675256  \n",
       "4116            -0.073557             0.038061  \n",
       "4115            -0.102650             0.134103  \n",
       "4114            -0.009550             0.082063  \n",
       "...                   ...                  ...  \n",
       "3397            -0.556269             0.665249  \n",
       "3398            -0.102204             0.009952  \n",
       "3399            -0.264165             0.299016  \n",
       "6997            -0.540921             0.704332  \n",
       "6998            -0.055652             0.058682  \n",
       "\n",
       "[21600 rows x 10 columns]"
      ]
     },
     "execution_count": 3,
     "metadata": {},
     "output_type": "execute_result"
    }
   ],
   "source": [
    "mult_reg_results"
   ]
  },
  {
   "cell_type": "code",
   "execution_count": 4,
   "metadata": {},
   "outputs": [],
   "source": [
    "VIF =  pd.read_csv('/auto/data2/oelmas/RSA_Results/Naive/Video/parietal_VIF_Results.csv')"
   ]
  },
  {
   "cell_type": "code",
   "execution_count": 5,
   "metadata": {},
   "outputs": [
    {
     "data": {
      "text/html": [
       "<div>\n",
       "<style scoped>\n",
       "    .dataframe tbody tr th:only-of-type {\n",
       "        vertical-align: middle;\n",
       "    }\n",
       "\n",
       "    .dataframe tbody tr th {\n",
       "        vertical-align: top;\n",
       "    }\n",
       "\n",
       "    .dataframe thead th {\n",
       "        text-align: right;\n",
       "    }\n",
       "</style>\n",
       "<table border=\"1\" class=\"dataframe\">\n",
       "  <thead>\n",
       "    <tr style=\"text-align: right;\">\n",
       "      <th></th>\n",
       "      <th>Unnamed: 0</th>\n",
       "      <th>VIF Factor</th>\n",
       "      <th>features</th>\n",
       "    </tr>\n",
       "  </thead>\n",
       "  <tbody>\n",
       "    <tr>\n",
       "      <th>0</th>\n",
       "      <td>0</td>\n",
       "      <td>14.154372</td>\n",
       "      <td>action_category_hamming</td>\n",
       "    </tr>\n",
       "    <tr>\n",
       "      <th>1</th>\n",
       "      <td>1</td>\n",
       "      <td>2.814802</td>\n",
       "      <td>action_target_hamming</td>\n",
       "    </tr>\n",
       "    <tr>\n",
       "      <th>2</th>\n",
       "      <td>2</td>\n",
       "      <td>16.203330</td>\n",
       "      <td>agent_hamming</td>\n",
       "    </tr>\n",
       "    <tr>\n",
       "      <th>3</th>\n",
       "      <td>3</td>\n",
       "      <td>5.402288</td>\n",
       "      <td>biological_appearance_hamming</td>\n",
       "    </tr>\n",
       "    <tr>\n",
       "      <th>4</th>\n",
       "      <td>4</td>\n",
       "      <td>921.422867</td>\n",
       "      <td>flowModel_10_frames_correlation</td>\n",
       "    </tr>\n",
       "    <tr>\n",
       "      <th>5</th>\n",
       "      <td>5</td>\n",
       "      <td>4.021932</td>\n",
       "      <td>movement_nature_hamming</td>\n",
       "    </tr>\n",
       "    <tr>\n",
       "      <th>6</th>\n",
       "      <td>6</td>\n",
       "      <td>78.927001</td>\n",
       "      <td>gabor_video_10_frames_correlation</td>\n",
       "    </tr>\n",
       "    <tr>\n",
       "      <th>7</th>\n",
       "      <td>7</td>\n",
       "      <td>609.975974</td>\n",
       "      <td>avg_pixel_intensity_model_hamming</td>\n",
       "    </tr>\n",
       "    <tr>\n",
       "      <th>8</th>\n",
       "      <td>8</td>\n",
       "      <td>63.349774</td>\n",
       "      <td>pixel_wise_motion_model_hamming</td>\n",
       "    </tr>\n",
       "  </tbody>\n",
       "</table>\n",
       "</div>"
      ],
      "text/plain": [
       "   Unnamed: 0  VIF Factor                           features\n",
       "0           0   14.154372            action_category_hamming\n",
       "1           1    2.814802              action_target_hamming\n",
       "2           2   16.203330                      agent_hamming\n",
       "3           3    5.402288      biological_appearance_hamming\n",
       "4           4  921.422867    flowModel_10_frames_correlation\n",
       "5           5    4.021932            movement_nature_hamming\n",
       "6           6   78.927001  gabor_video_10_frames_correlation\n",
       "7           7  609.975974  avg_pixel_intensity_model_hamming\n",
       "8           8   63.349774    pixel_wise_motion_model_hamming"
      ]
     },
     "execution_count": 5,
     "metadata": {},
     "output_type": "execute_result"
    }
   ],
   "source": [
    "VIF"
   ]
  },
  {
   "cell_type": "code",
   "execution_count": 6,
   "metadata": {},
   "outputs": [],
   "source": [
    "from statsmodels.sandbox.stats.multicomp import multipletests"
   ]
  },
  {
   "cell_type": "code",
   "execution_count": 7,
   "metadata": {},
   "outputs": [],
   "source": [
    "sig_idx = multipletests(mult_reg_results[\"p_value\"], alpha=0.05, method='bonferroni')[0]\n",
    "mult_reg_results['significant'] = sig_idx"
   ]
  },
  {
   "cell_type": "code",
   "execution_count": 14,
   "metadata": {},
   "outputs": [],
   "source": [
    "#er_idx = mult_reg_results.electrode_region==\"parietal\" \n",
    "#mod_idx = mult_reg_results.model_name==\"movement_nature_hamming\" \n",
    "#df = mult_reg_results[er_idx & mod_idx]\n",
    "\n",
    "#df[df.beta_value == df.beta_value.max()]"
   ]
  },
  {
   "cell_type": "code",
   "execution_count": 15,
   "metadata": {},
   "outputs": [],
   "source": [
    "import plotly.express as px\n",
    "import plotly.graph_objs as go\n",
    "import plotly.offline as po"
   ]
  },
  {
   "cell_type": "code",
   "execution_count": 16,
   "metadata": {},
   "outputs": [],
   "source": [
    "avg_sbj_results, eeg_dist, model_dist  = pd.read_pickle('/auto/data2/oelmas/RSA_Results/Naive/Video/correlation_hamming_avg_subjects_results.pkl')"
   ]
  },
  {
   "cell_type": "code",
   "execution_count": 17,
   "metadata": {},
   "outputs": [],
   "source": [
    "rdm_df = avg_sbj_results\n",
    "model_name = 'movement_nature_hamming'\n",
    "electrode_region = 'parietal'\n",
    "constant = 'naive'\n",
    "variable = 'video'"
   ]
  },
  {
   "cell_type": "code",
   "execution_count": 18,
   "metadata": {},
   "outputs": [],
   "source": [
    "df_to_plot = rdm_df[  (rdm_df[\"model_name\"] == model_name) \n",
    "                    & (rdm_df[\"electrode_region\"] == electrode_region)\n",
    "                    & (rdm_df[\"experiment_type\"] == constant) \n",
    "                    & (rdm_df[\"stimulus_type\"] == variable)]"
   ]
  },
  {
   "cell_type": "code",
   "execution_count": 19,
   "metadata": {},
   "outputs": [],
   "source": [
    "er_idx = mult_reg_results.electrode_region==\"parietal\" \n",
    "mod_idx = mult_reg_results.model_name==\"movement_nature_hamming\" \n",
    "reg_df = mult_reg_results[er_idx & mod_idx]"
   ]
  },
  {
   "cell_type": "code",
   "execution_count": 30,
   "metadata": {},
   "outputs": [
    {
     "data": {
      "text/plain": [
       "64"
      ]
     },
     "execution_count": 30,
     "metadata": {},
     "output_type": "execute_result"
    }
   ],
   "source": [
    "min(reg_df.loc[reg_df['significant']].time)"
   ]
  },
  {
   "cell_type": "code",
   "execution_count": 35,
   "metadata": {},
   "outputs": [
    {
     "data": {
      "text/plain": [
       "'outputs/TEST.html'"
      ]
     },
     "execution_count": 35,
     "metadata": {},
     "output_type": "execute_result"
    }
   ],
   "source": [
    "fig = go.Figure()\n",
    " \n",
    "# Plots the kendall tau curve\n",
    "fig.add_trace(go.Scatter(x=df_to_plot[\"time\"],\n",
    "                        y=df_to_plot[\"kendall_tau\"],\n",
    "                        mode='lines'))\n",
    "\n",
    "\n",
    "fig.add_shape(\n",
    "        # Rectangle reference to the plot\n",
    "            type=\"rect\",\n",
    "            xref=\"x\",\n",
    "            yref=\"paper\",\n",
    "            x0=min(reg_df.loc[reg_df['significant']].time),\n",
    "            y0=0,\n",
    "            x1=max(reg_df.loc[reg_df['significant']].time),\n",
    "            y1=1,\n",
    "            opacity=0.7,\n",
    "            layer=\"below\",\n",
    "            line_width=0,\n",
    "            fillcolor=\"LightSalmon\",\n",
    "        )\n",
    "\n",
    "fig.update_yaxes(range=[-0.2, 0.6])\n",
    "fig.update_yaxes(title_text=\"Kendall-tau\")\n",
    "fig.update_xaxes(title_text=\"Time ms (relative to stimulus onset)\")\n",
    "po.plot(fig, filename = \"outputs/TEST.html\", auto_open=False)"
   ]
  },
  {
   "cell_type": "code",
   "execution_count": 21,
   "metadata": {},
   "outputs": [
    {
     "data": {
      "text/plain": [
       "array(['action_category_hamming', 'flowModel_10_frames_correlation',\n",
       "       'biological_appearance_hamming', 'agent_hamming',\n",
       "       'action_target_hamming', 'pixel_wise_motion_model_hamming',\n",
       "       'avg_pixel_intensity_model_hamming',\n",
       "       'gabor_video_10_frames_correlation', 'movement_nature_hamming'],\n",
       "      dtype=object)"
      ]
     },
     "execution_count": 21,
     "metadata": {},
     "output_type": "execute_result"
    }
   ],
   "source": [
    "mult_reg_results.model_name.unique()"
   ]
  },
  {
   "cell_type": "code",
   "execution_count": 22,
   "metadata": {},
   "outputs": [],
   "source": [
    "#############################################################\n",
    "#############################################################\n"
   ]
  },
  {
   "cell_type": "code",
   "execution_count": 30,
   "metadata": {},
   "outputs": [],
   "source": [
    "er_idx = mult_reg_results.electrode_region==\"parietal\" \n",
    "ex_idx = mult_reg_results.experiment_type=='naive'\n",
    "st_idx = mult_reg_results.stimuli_type=='video'\n",
    "\n",
    "for model in mult_reg_results.model_name.unique():\n",
    "    mod_idx = mult_reg_results.model_name==model\n",
    "    \n",
    "    reg_df = mult_reg_results[ex_idx & st_idx & er_idx & mod_idx]\n",
    "    sig_idx = multipletests(reg_df[\"p_value\"], alpha=0.05, method='bonferroni')[0]\n",
    "    sig_time = reg_df[sig_idx].time\n",
    "\n"
   ]
  },
  {
   "cell_type": "code",
   "execution_count": 34,
   "metadata": {},
   "outputs": [],
   "source": [
    "sig_idx = multipletests(mult_reg_results[\"p_value\"], alpha=0.05, method='bonferroni')[0]\n",
    "mult_reg_results['significant'] = sig_idx"
   ]
  },
  {
   "cell_type": "code",
   "execution_count": 64,
   "metadata": {},
   "outputs": [
    {
     "data": {
      "text/plain": [
       "'outputs/SCATTER.html'"
      ]
     },
     "execution_count": 64,
     "metadata": {},
     "output_type": "execute_result"
    }
   ],
   "source": [
    "reg_df = mult_reg_results[ex_idx & st_idx & er_idx]\n",
    "\n",
    "\n",
    "fig = px.scatter(reg_df.loc[reg_df['significant']], \n",
    "                 x=\"time\", y=\"model_name\",  color=\"model_name\")\n",
    "plotly.offline.plot(fig, filename = \"outputs/SCATTER.html\", auto_open=False)"
   ]
  }
 ],
 "metadata": {
  "kernelspec": {
   "display_name": "Python [conda env:agent_perception_rsa] *",
   "language": "python",
   "name": "conda-env-agent_perception_rsa-py"
  },
  "language_info": {
   "codemirror_mode": {
    "name": "ipython",
    "version": 3
   },
   "file_extension": ".py",
   "mimetype": "text/x-python",
   "name": "python",
   "nbconvert_exporter": "python",
   "pygments_lexer": "ipython3",
   "version": "3.6.10"
  }
 },
 "nbformat": 4,
 "nbformat_minor": 4
}
