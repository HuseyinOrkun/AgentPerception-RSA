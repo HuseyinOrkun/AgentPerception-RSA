{
 "cells": [
  {
   "cell_type": "code",
   "execution_count": 1,
   "metadata": {},
   "outputs": [],
   "source": [
    "import pandas as pd"
   ]
  },
  {
   "cell_type": "code",
   "execution_count": 2,
   "metadata": {},
   "outputs": [],
   "source": [
    "model_name = 'biological_appearance_hamming'\n",
    "electrode_region = 'parietal'\n",
    "constant = 'naive'\n",
    "variable = 'video'"
   ]
  },
  {
   "cell_type": "code",
   "execution_count": 3,
   "metadata": {},
   "outputs": [],
   "source": [
    "mult_reg_results, _, _  = pd.read_pickle('/auto/data2/oelmas/RSA_Results_V1//Naive/Video/correlation_hamming_regression_results.pkl')"
   ]
  },
  {
   "cell_type": "code",
   "execution_count": 4,
   "metadata": {},
   "outputs": [],
   "source": [
    "from statsmodels.sandbox.stats.multicomp import multipletests"
   ]
  },
  {
   "cell_type": "code",
   "execution_count": 5,
   "metadata": {},
   "outputs": [],
   "source": [
    "sig_idx = multipletests(mult_reg_results[\"p_value\"], alpha=0.05, method='bonferroni')[0]\n",
    "mult_reg_results['significant'] = sig_idx"
   ]
  },
  {
   "cell_type": "code",
   "execution_count": 6,
   "metadata": {},
   "outputs": [],
   "source": [
    "er_idx = mult_reg_results.electrode_region==electrode_region\n",
    "ex_idx = mult_reg_results.experiment_type==constant\n",
    "st_idx = mult_reg_results.stimuli_type==variable\n",
    "\n",
    "reg_df = mult_reg_results[ex_idx & st_idx & er_idx]"
   ]
  },
  {
   "cell_type": "code",
   "execution_count": 7,
   "metadata": {},
   "outputs": [],
   "source": [
    "sig_reg_df = reg_df.loc[reg_df['significant']]"
   ]
  },
  {
   "cell_type": "code",
   "execution_count": 8,
   "metadata": {},
   "outputs": [],
   "source": [
    "import plotly.express as px\n",
    "import plotly.graph_objs as go\n",
    "import plotly.offline as po"
   ]
  },
  {
   "cell_type": "code",
   "execution_count": 9,
   "metadata": {},
   "outputs": [
    {
     "data": {
      "text/plain": [
       "'outputs/SCATTER.html'"
      ]
     },
     "execution_count": 9,
     "metadata": {},
     "output_type": "execute_result"
    }
   ],
   "source": [
    "fig = px.scatter(sig_reg_df, \n",
    "                 x=\"time\", y=\"model_name\",  color=\"model_name\",\n",
    "                title=\"Timepoints where the regressors reached statistical significance (Bonferroni corr.)\")\n",
    "\n",
    "fig.update_yaxes(title_text=\"Regressors\")\n",
    "fig.update_xaxes(range=[-200, 600], title_text=\"Time ms (relative to stimulus onset)\")\n",
    "\n",
    "\n",
    "po.plot(fig, filename = \"outputs/SCATTER.html\", auto_open=False)"
   ]
  },
  {
   "cell_type": "code",
   "execution_count": 10,
   "metadata": {},
   "outputs": [],
   "source": [
    "# Plot on the correlational plot\n",
    "avg_sbj_results, eeg_dist, model_dist  = pd.read_pickle('/auto/data2/oelmas/RSA_Results_V1//Naive/Video/correlation_hamming_avg_subjects_results.pkl')"
   ]
  },
  {
   "cell_type": "code",
   "execution_count": 11,
   "metadata": {},
   "outputs": [],
   "source": [
    "rdm_df = avg_sbj_results"
   ]
  },
  {
   "cell_type": "code",
   "execution_count": 12,
   "metadata": {},
   "outputs": [],
   "source": [
    "df_to_plot = rdm_df[  (rdm_df[\"model_name\"] == model_name) \n",
    "                    & (rdm_df[\"electrode_region\"] == electrode_region)\n",
    "                    & (rdm_df[\"experiment_type\"] == constant) \n",
    "                    & (rdm_df[\"stimulus_type\"] == variable)]"
   ]
  },
  {
   "cell_type": "code",
   "execution_count": 13,
   "metadata": {},
   "outputs": [
    {
     "data": {
      "text/plain": [
       "'outputs/TEST.html'"
      ]
     },
     "execution_count": 13,
     "metadata": {},
     "output_type": "execute_result"
    }
   ],
   "source": [
    "fig = go.Figure()\n",
    " \n",
    "# Plots the kendall tau curve\n",
    "fig.add_trace(go.Scatter(x=df_to_plot[\"time\"],\n",
    "                        y=df_to_plot[\"kendall_tau\"],\n",
    "                        mode='lines'))\n",
    "\n",
    "\n",
    "fig.add_shape(\n",
    "        # Rectangle reference to the plot\n",
    "            type=\"rect\",\n",
    "            xref=\"x\",\n",
    "            yref=\"paper\",\n",
    "            x0=min(reg_df.loc[reg_df['significant']].time),\n",
    "            y0=0,\n",
    "            x1=max(reg_df.loc[reg_df['significant']].time),\n",
    "            y1=1,\n",
    "            opacity=0.4,\n",
    "            layer=\"below\",\n",
    "            line_width=0,\n",
    "            fillcolor=\"LightSalmon\",\n",
    "            name='Model reached significance in the multiple regression analysis',\n",
    "        )\n",
    "\n",
    "fig.update_yaxes(title_text=\"Kendall-tau\")\n",
    "fig.update_xaxes(range=[-200, 600], title_text=\"Time ms (relative to stimulus onset)\")\n",
    "\n",
    "fig.update_layout(\n",
    "    height=800,\n",
    "    title_text='Correlation of the ' + model_name + ' model',\n",
    "    showlegend=True\n",
    ")\n",
    "\n",
    "po.plot(fig, filename = \"outputs/TEST.html\", auto_open=False)"
   ]
  },
  {
   "cell_type": "code",
   "execution_count": 14,
   "metadata": {},
   "outputs": [
    {
     "name": "stdout",
     "output_type": "stream",
     "text": [
      "   VIF Factor                         model_name\n",
      "0    1.062114            action_category_hamming\n",
      "1    2.062207                      agent_hamming\n",
      "2    2.557533    flowModel_10_frames_correlation\n",
      "3    3.600027  gabor_video_10_frames_correlation\n"
     ]
    }
   ],
   "source": [
    "#############################################################\n",
    "#############################################################\n",
    "# variance inflation factor\n",
    "VIF =  pd.read_csv('/auto/data2/oelmas/RSA_Results_V1//Naive/Video/VIF_Results.csv', index_col=[0])\n",
    "print(VIF)"
   ]
  }
 ],
 "metadata": {
  "kernelspec": {
   "display_name": "Python [conda env:agent_perception_rsa] *",
   "language": "python",
   "name": "conda-env-agent_perception_rsa-py"
  },
  "language_info": {
   "codemirror_mode": {
    "name": "ipython",
    "version": 3
   },
   "file_extension": ".py",
   "mimetype": "text/x-python",
   "name": "python",
   "nbconvert_exporter": "python",
   "pygments_lexer": "ipython3",
   "version": "3.6.10"
  }
 },
 "nbformat": 4,
 "nbformat_minor": 4
}
