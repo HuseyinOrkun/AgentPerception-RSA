{
 "cells": [
  {
   "cell_type": "code",
   "execution_count": 22,
   "metadata": {},
   "outputs": [],
   "source": [
    "import pandas as pd"
   ]
  },
  {
   "cell_type": "code",
   "execution_count": 23,
   "metadata": {},
   "outputs": [],
   "source": [
    "mult_reg_results, eeg_dist, model_dist  = pd.read_pickle('/auto/data2/oelmas/RSA_Results/Naive/Video/correlation_hamming_regression_results.pkl')"
   ]
  },
  {
   "cell_type": "code",
   "execution_count": 24,
   "metadata": {},
   "outputs": [
    {
     "data": {
      "text/html": [
       "<div>\n",
       "<style scoped>\n",
       "    .dataframe tbody tr th:only-of-type {\n",
       "        vertical-align: middle;\n",
       "    }\n",
       "\n",
       "    .dataframe tbody tr th {\n",
       "        vertical-align: top;\n",
       "    }\n",
       "\n",
       "    .dataframe thead th {\n",
       "        text-align: right;\n",
       "    }\n",
       "</style>\n",
       "<table border=\"1\" class=\"dataframe\">\n",
       "  <thead>\n",
       "    <tr style=\"text-align: right;\">\n",
       "      <th></th>\n",
       "      <th>experiment_type</th>\n",
       "      <th>stimuli_type</th>\n",
       "      <th>electrode_region</th>\n",
       "      <th>model_name</th>\n",
       "      <th>time</th>\n",
       "      <th>beta_value</th>\n",
       "      <th>t_value</th>\n",
       "      <th>p_value</th>\n",
       "      <th>lower_conf_interval</th>\n",
       "      <th>upper_conf_interval</th>\n",
       "    </tr>\n",
       "  </thead>\n",
       "  <tbody>\n",
       "    <tr>\n",
       "      <th>513</th>\n",
       "      <td>naive</td>\n",
       "      <td>video</td>\n",
       "      <td>central</td>\n",
       "      <td>action_category_hamming</td>\n",
       "      <td>-200</td>\n",
       "      <td>0.052211</td>\n",
       "      <td>0.349135</td>\n",
       "      <td>0.727263</td>\n",
       "      <td>-0.242226</td>\n",
       "      <td>0.346648</td>\n",
       "    </tr>\n",
       "    <tr>\n",
       "      <th>4117</th>\n",
       "      <td>naive</td>\n",
       "      <td>video</td>\n",
       "      <td>frontal</td>\n",
       "      <td>flowModel_10_frames_correlation</td>\n",
       "      <td>-200</td>\n",
       "      <td>0.150793</td>\n",
       "      <td>0.566093</td>\n",
       "      <td>0.571806</td>\n",
       "      <td>-0.373670</td>\n",
       "      <td>0.675256</td>\n",
       "    </tr>\n",
       "    <tr>\n",
       "      <th>4116</th>\n",
       "      <td>naive</td>\n",
       "      <td>video</td>\n",
       "      <td>frontal</td>\n",
       "      <td>biological_appearance_hamming</td>\n",
       "      <td>-200</td>\n",
       "      <td>-0.017748</td>\n",
       "      <td>-0.626133</td>\n",
       "      <td>0.531763</td>\n",
       "      <td>-0.073557</td>\n",
       "      <td>0.038061</td>\n",
       "    </tr>\n",
       "    <tr>\n",
       "      <th>4115</th>\n",
       "      <td>naive</td>\n",
       "      <td>video</td>\n",
       "      <td>frontal</td>\n",
       "      <td>agent_hamming</td>\n",
       "      <td>-200</td>\n",
       "      <td>0.015726</td>\n",
       "      <td>0.261568</td>\n",
       "      <td>0.793856</td>\n",
       "      <td>-0.102650</td>\n",
       "      <td>0.134103</td>\n",
       "    </tr>\n",
       "    <tr>\n",
       "      <th>4114</th>\n",
       "      <td>naive</td>\n",
       "      <td>video</td>\n",
       "      <td>frontal</td>\n",
       "      <td>action_target_hamming</td>\n",
       "      <td>-200</td>\n",
       "      <td>0.036257</td>\n",
       "      <td>1.558411</td>\n",
       "      <td>0.120320</td>\n",
       "      <td>-0.009550</td>\n",
       "      <td>0.082063</td>\n",
       "    </tr>\n",
       "    <tr>\n",
       "      <th>...</th>\n",
       "      <td>...</td>\n",
       "      <td>...</td>\n",
       "      <td>...</td>\n",
       "      <td>...</td>\n",
       "      <td>...</td>\n",
       "      <td>...</td>\n",
       "      <td>...</td>\n",
       "      <td>...</td>\n",
       "      <td>...</td>\n",
       "      <td>...</td>\n",
       "    </tr>\n",
       "    <tr>\n",
       "      <th>3397</th>\n",
       "      <td>naive</td>\n",
       "      <td>video</td>\n",
       "      <td>central</td>\n",
       "      <td>flowModel_10_frames_correlation</td>\n",
       "      <td>598</td>\n",
       "      <td>0.054490</td>\n",
       "      <td>0.175657</td>\n",
       "      <td>0.860696</td>\n",
       "      <td>-0.556269</td>\n",
       "      <td>0.665249</td>\n",
       "    </tr>\n",
       "    <tr>\n",
       "      <th>3398</th>\n",
       "      <td>naive</td>\n",
       "      <td>video</td>\n",
       "      <td>central</td>\n",
       "      <td>movement_nature_hamming</td>\n",
       "      <td>598</td>\n",
       "      <td>-0.046126</td>\n",
       "      <td>-1.619490</td>\n",
       "      <td>0.106522</td>\n",
       "      <td>-0.102204</td>\n",
       "      <td>0.009952</td>\n",
       "    </tr>\n",
       "    <tr>\n",
       "      <th>3399</th>\n",
       "      <td>naive</td>\n",
       "      <td>video</td>\n",
       "      <td>central</td>\n",
       "      <td>gabor_video_10_frames_correlation</td>\n",
       "      <td>598</td>\n",
       "      <td>0.017425</td>\n",
       "      <td>0.121838</td>\n",
       "      <td>0.903119</td>\n",
       "      <td>-0.264165</td>\n",
       "      <td>0.299016</td>\n",
       "    </tr>\n",
       "    <tr>\n",
       "      <th>6997</th>\n",
       "      <td>naive</td>\n",
       "      <td>video</td>\n",
       "      <td>frontal</td>\n",
       "      <td>flowModel_10_frames_correlation</td>\n",
       "      <td>598</td>\n",
       "      <td>0.081706</td>\n",
       "      <td>0.258372</td>\n",
       "      <td>0.796319</td>\n",
       "      <td>-0.540921</td>\n",
       "      <td>0.704332</td>\n",
       "    </tr>\n",
       "    <tr>\n",
       "      <th>6998</th>\n",
       "      <td>naive</td>\n",
       "      <td>video</td>\n",
       "      <td>frontal</td>\n",
       "      <td>movement_nature_hamming</td>\n",
       "      <td>598</td>\n",
       "      <td>0.001515</td>\n",
       "      <td>0.052172</td>\n",
       "      <td>0.958431</td>\n",
       "      <td>-0.055652</td>\n",
       "      <td>0.058682</td>\n",
       "    </tr>\n",
       "  </tbody>\n",
       "</table>\n",
       "<p>21600 rows × 10 columns</p>\n",
       "</div>"
      ],
      "text/plain": [
       "     experiment_type stimuli_type electrode_region  \\\n",
       "513            naive        video          central   \n",
       "4117           naive        video          frontal   \n",
       "4116           naive        video          frontal   \n",
       "4115           naive        video          frontal   \n",
       "4114           naive        video          frontal   \n",
       "...              ...          ...              ...   \n",
       "3397           naive        video          central   \n",
       "3398           naive        video          central   \n",
       "3399           naive        video          central   \n",
       "6997           naive        video          frontal   \n",
       "6998           naive        video          frontal   \n",
       "\n",
       "                             model_name  time  beta_value   t_value   p_value  \\\n",
       "513             action_category_hamming  -200    0.052211  0.349135  0.727263   \n",
       "4117    flowModel_10_frames_correlation  -200    0.150793  0.566093  0.571806   \n",
       "4116      biological_appearance_hamming  -200   -0.017748 -0.626133  0.531763   \n",
       "4115                      agent_hamming  -200    0.015726  0.261568  0.793856   \n",
       "4114              action_target_hamming  -200    0.036257  1.558411  0.120320   \n",
       "...                                 ...   ...         ...       ...       ...   \n",
       "3397    flowModel_10_frames_correlation   598    0.054490  0.175657  0.860696   \n",
       "3398            movement_nature_hamming   598   -0.046126 -1.619490  0.106522   \n",
       "3399  gabor_video_10_frames_correlation   598    0.017425  0.121838  0.903119   \n",
       "6997    flowModel_10_frames_correlation   598    0.081706  0.258372  0.796319   \n",
       "6998            movement_nature_hamming   598    0.001515  0.052172  0.958431   \n",
       "\n",
       "      lower_conf_interval  upper_conf_interval  \n",
       "513             -0.242226             0.346648  \n",
       "4117            -0.373670             0.675256  \n",
       "4116            -0.073557             0.038061  \n",
       "4115            -0.102650             0.134103  \n",
       "4114            -0.009550             0.082063  \n",
       "...                   ...                  ...  \n",
       "3397            -0.556269             0.665249  \n",
       "3398            -0.102204             0.009952  \n",
       "3399            -0.264165             0.299016  \n",
       "6997            -0.540921             0.704332  \n",
       "6998            -0.055652             0.058682  \n",
       "\n",
       "[21600 rows x 10 columns]"
      ]
     },
     "execution_count": 24,
     "metadata": {},
     "output_type": "execute_result"
    }
   ],
   "source": [
    "mult_reg_results"
   ]
  },
  {
   "cell_type": "code",
   "execution_count": 25,
   "metadata": {},
   "outputs": [],
   "source": [
    "VIF =  pd.read_csv('/auto/data2/oelmas/RSA_Results/Naive/Video/parietal_VIF_Results.csv')"
   ]
  },
  {
   "cell_type": "code",
   "execution_count": 26,
   "metadata": {},
   "outputs": [
    {
     "data": {
      "text/html": [
       "<div>\n",
       "<style scoped>\n",
       "    .dataframe tbody tr th:only-of-type {\n",
       "        vertical-align: middle;\n",
       "    }\n",
       "\n",
       "    .dataframe tbody tr th {\n",
       "        vertical-align: top;\n",
       "    }\n",
       "\n",
       "    .dataframe thead th {\n",
       "        text-align: right;\n",
       "    }\n",
       "</style>\n",
       "<table border=\"1\" class=\"dataframe\">\n",
       "  <thead>\n",
       "    <tr style=\"text-align: right;\">\n",
       "      <th></th>\n",
       "      <th>Unnamed: 0</th>\n",
       "      <th>VIF Factor</th>\n",
       "      <th>features</th>\n",
       "    </tr>\n",
       "  </thead>\n",
       "  <tbody>\n",
       "    <tr>\n",
       "      <th>0</th>\n",
       "      <td>0</td>\n",
       "      <td>14.154372</td>\n",
       "      <td>action_category_hamming</td>\n",
       "    </tr>\n",
       "    <tr>\n",
       "      <th>1</th>\n",
       "      <td>1</td>\n",
       "      <td>2.814802</td>\n",
       "      <td>action_target_hamming</td>\n",
       "    </tr>\n",
       "    <tr>\n",
       "      <th>2</th>\n",
       "      <td>2</td>\n",
       "      <td>16.203330</td>\n",
       "      <td>agent_hamming</td>\n",
       "    </tr>\n",
       "    <tr>\n",
       "      <th>3</th>\n",
       "      <td>3</td>\n",
       "      <td>5.402288</td>\n",
       "      <td>biological_appearance_hamming</td>\n",
       "    </tr>\n",
       "    <tr>\n",
       "      <th>4</th>\n",
       "      <td>4</td>\n",
       "      <td>921.422867</td>\n",
       "      <td>flowModel_10_frames_correlation</td>\n",
       "    </tr>\n",
       "    <tr>\n",
       "      <th>5</th>\n",
       "      <td>5</td>\n",
       "      <td>4.021932</td>\n",
       "      <td>movement_nature_hamming</td>\n",
       "    </tr>\n",
       "    <tr>\n",
       "      <th>6</th>\n",
       "      <td>6</td>\n",
       "      <td>78.927001</td>\n",
       "      <td>gabor_video_10_frames_correlation</td>\n",
       "    </tr>\n",
       "    <tr>\n",
       "      <th>7</th>\n",
       "      <td>7</td>\n",
       "      <td>609.975974</td>\n",
       "      <td>avg_pixel_intensity_model_hamming</td>\n",
       "    </tr>\n",
       "    <tr>\n",
       "      <th>8</th>\n",
       "      <td>8</td>\n",
       "      <td>63.349774</td>\n",
       "      <td>pixel_wise_motion_model_hamming</td>\n",
       "    </tr>\n",
       "  </tbody>\n",
       "</table>\n",
       "</div>"
      ],
      "text/plain": [
       "   Unnamed: 0  VIF Factor                           features\n",
       "0           0   14.154372            action_category_hamming\n",
       "1           1    2.814802              action_target_hamming\n",
       "2           2   16.203330                      agent_hamming\n",
       "3           3    5.402288      biological_appearance_hamming\n",
       "4           4  921.422867    flowModel_10_frames_correlation\n",
       "5           5    4.021932            movement_nature_hamming\n",
       "6           6   78.927001  gabor_video_10_frames_correlation\n",
       "7           7  609.975974  avg_pixel_intensity_model_hamming\n",
       "8           8   63.349774    pixel_wise_motion_model_hamming"
      ]
     },
     "execution_count": 26,
     "metadata": {},
     "output_type": "execute_result"
    }
   ],
   "source": [
    "VIF"
   ]
  },
  {
   "cell_type": "code",
   "execution_count": 27,
   "metadata": {},
   "outputs": [
    {
     "data": {
      "text/plain": [
       "513               action_category_hamming\n",
       "4117      flowModel_10_frames_correlation\n",
       "4116        biological_appearance_hamming\n",
       "4115                        agent_hamming\n",
       "4114                action_target_hamming\n",
       "                      ...                \n",
       "3397      flowModel_10_frames_correlation\n",
       "3398              movement_nature_hamming\n",
       "3399    gabor_video_10_frames_correlation\n",
       "6997      flowModel_10_frames_correlation\n",
       "6998              movement_nature_hamming\n",
       "Name: model_name, Length: 21600, dtype: object"
      ]
     },
     "execution_count": 27,
     "metadata": {},
     "output_type": "execute_result"
    }
   ],
   "source": [
    "mult_reg_results.model_name"
   ]
  },
  {
   "cell_type": "code",
   "execution_count": 28,
   "metadata": {},
   "outputs": [],
   "source": [
    "from statsmodels.sandbox.stats.multicomp import multipletests"
   ]
  },
  {
   "cell_type": "code",
   "execution_count": 29,
   "metadata": {},
   "outputs": [],
   "source": [
    "er_idx = mult_reg_results.electrode_region==\"parietal\" \n",
    "mod_idx = mult_reg_results.model_name==\"movement_nature_hamming\" \n",
    "df = mult_reg_results[er_idx & mod_idx]\n",
    "\n",
    "#df[df.beta_value == df.beta_value.max()]"
   ]
  },
  {
   "cell_type": "code",
   "execution_count": 30,
   "metadata": {},
   "outputs": [],
   "source": [
    "sig_idx = multipletests(df[\"p_value\"], alpha=0.05, method='bonferroni')[0]"
   ]
  },
  {
   "cell_type": "code",
   "execution_count": 31,
   "metadata": {},
   "outputs": [],
   "source": [
    "#sig_t = list()\n",
    "#for t, _ in df[sig_idx].time_window.to_list():\n",
    "#    sig_t.append(t)"
   ]
  },
  {
   "cell_type": "code",
   "execution_count": 32,
   "metadata": {},
   "outputs": [
    {
     "data": {
      "text/plain": [
       "'def find_significant_rdms(df, alpha=0.05, correct=True):\\n\\n    # Do Bonferroni correction\\n    if correct:\\n        p_adjusted = multipletests(df[\"p-value\"], alpha=alpha, method=\\'bonferroni\\')\\n    \\n    return significant_rdms'"
      ]
     },
     "execution_count": 32,
     "metadata": {},
     "output_type": "execute_result"
    }
   ],
   "source": [
    "'''def find_significant_rdms(df, alpha=0.05, correct=True):\n",
    "\n",
    "    # Do Bonferroni correction\n",
    "    if correct:\n",
    "        p_adjusted = multipletests(df[\"p-value\"], alpha=alpha, method='bonferroni')\n",
    "    \n",
    "    return significant_rdms'''"
   ]
  },
  {
   "cell_type": "code",
   "execution_count": 33,
   "metadata": {},
   "outputs": [],
   "source": [
    "import plotly.express as px\n",
    "import plotly.graph_objs as go\n",
    "import plotly"
   ]
  },
  {
   "cell_type": "code",
   "execution_count": 34,
   "metadata": {},
   "outputs": [],
   "source": [
    "avg_sbj_results, eeg_dist, model_dist  = pd.read_pickle('/auto/data2/oelmas/RSA_Results/Naive/Video/correlation_hamming_avg_subjects_results.pkl')"
   ]
  },
  {
   "cell_type": "code",
   "execution_count": 35,
   "metadata": {},
   "outputs": [],
   "source": [
    "er_idx = avg_sbj_results.electrode_region==\"parietal\" \n",
    "mod_idx = avg_sbj_results.model_name==\"movement_nature_hamming\" \n",
    "_avg_sbj_results = avg_sbj_results[er_idx & mod_idx]"
   ]
  },
  {
   "cell_type": "code",
   "execution_count": 36,
   "metadata": {},
   "outputs": [
    {
     "data": {
      "text/html": [
       "<div>\n",
       "<style scoped>\n",
       "    .dataframe tbody tr th:only-of-type {\n",
       "        vertical-align: middle;\n",
       "    }\n",
       "\n",
       "    .dataframe tbody tr th {\n",
       "        vertical-align: top;\n",
       "    }\n",
       "\n",
       "    .dataframe thead th {\n",
       "        text-align: right;\n",
       "    }\n",
       "</style>\n",
       "<table border=\"1\" class=\"dataframe\">\n",
       "  <thead>\n",
       "    <tr style=\"text-align: right;\">\n",
       "      <th></th>\n",
       "      <th>experiment_type</th>\n",
       "      <th>stimulus_type</th>\n",
       "      <th>electrode_region</th>\n",
       "      <th>model_name</th>\n",
       "      <th>time</th>\n",
       "      <th>kendall_tau</th>\n",
       "      <th>kendall_p-value</th>\n",
       "    </tr>\n",
       "  </thead>\n",
       "  <tbody>\n",
       "    <tr>\n",
       "      <th>9257</th>\n",
       "      <td>naive</td>\n",
       "      <td>video</td>\n",
       "      <td>parietal</td>\n",
       "      <td>movement_nature_hamming</td>\n",
       "      <td>-200</td>\n",
       "      <td>0.032074</td>\n",
       "      <td>0.515528</td>\n",
       "    </tr>\n",
       "    <tr>\n",
       "      <th>9254</th>\n",
       "      <td>naive</td>\n",
       "      <td>video</td>\n",
       "      <td>parietal</td>\n",
       "      <td>movement_nature_hamming</td>\n",
       "      <td>-198</td>\n",
       "      <td>0.024764</td>\n",
       "      <td>0.615627</td>\n",
       "    </tr>\n",
       "    <tr>\n",
       "      <th>9253</th>\n",
       "      <td>naive</td>\n",
       "      <td>video</td>\n",
       "      <td>parietal</td>\n",
       "      <td>movement_nature_hamming</td>\n",
       "      <td>-196</td>\n",
       "      <td>0.009697</td>\n",
       "      <td>0.844150</td>\n",
       "    </tr>\n",
       "    <tr>\n",
       "      <th>9252</th>\n",
       "      <td>naive</td>\n",
       "      <td>video</td>\n",
       "      <td>parietal</td>\n",
       "      <td>movement_nature_hamming</td>\n",
       "      <td>-194</td>\n",
       "      <td>0.005147</td>\n",
       "      <td>0.916897</td>\n",
       "    </tr>\n",
       "    <tr>\n",
       "      <th>9251</th>\n",
       "      <td>naive</td>\n",
       "      <td>video</td>\n",
       "      <td>parietal</td>\n",
       "      <td>movement_nature_hamming</td>\n",
       "      <td>-192</td>\n",
       "      <td>0.017678</td>\n",
       "      <td>0.720047</td>\n",
       "    </tr>\n",
       "    <tr>\n",
       "      <th>...</th>\n",
       "      <td>...</td>\n",
       "      <td>...</td>\n",
       "      <td>...</td>\n",
       "      <td>...</td>\n",
       "      <td>...</td>\n",
       "      <td>...</td>\n",
       "      <td>...</td>\n",
       "    </tr>\n",
       "    <tr>\n",
       "      <th>9573</th>\n",
       "      <td>naive</td>\n",
       "      <td>video</td>\n",
       "      <td>parietal</td>\n",
       "      <td>movement_nature_hamming</td>\n",
       "      <td>590</td>\n",
       "      <td>-0.045426</td>\n",
       "      <td>0.357081</td>\n",
       "    </tr>\n",
       "    <tr>\n",
       "      <th>9574</th>\n",
       "      <td>naive</td>\n",
       "      <td>video</td>\n",
       "      <td>parietal</td>\n",
       "      <td>movement_nature_hamming</td>\n",
       "      <td>592</td>\n",
       "      <td>-0.052214</td>\n",
       "      <td>0.289803</td>\n",
       "    </tr>\n",
       "    <tr>\n",
       "      <th>9575</th>\n",
       "      <td>naive</td>\n",
       "      <td>video</td>\n",
       "      <td>parietal</td>\n",
       "      <td>movement_nature_hamming</td>\n",
       "      <td>594</td>\n",
       "      <td>-0.035655</td>\n",
       "      <td>0.469778</td>\n",
       "    </tr>\n",
       "    <tr>\n",
       "      <th>9576</th>\n",
       "      <td>naive</td>\n",
       "      <td>video</td>\n",
       "      <td>parietal</td>\n",
       "      <td>movement_nature_hamming</td>\n",
       "      <td>596</td>\n",
       "      <td>-0.024093</td>\n",
       "      <td>0.625233</td>\n",
       "    </tr>\n",
       "    <tr>\n",
       "      <th>9577</th>\n",
       "      <td>naive</td>\n",
       "      <td>video</td>\n",
       "      <td>parietal</td>\n",
       "      <td>movement_nature_hamming</td>\n",
       "      <td>598</td>\n",
       "      <td>-0.014471</td>\n",
       "      <td>0.769239</td>\n",
       "    </tr>\n",
       "  </tbody>\n",
       "</table>\n",
       "<p>400 rows × 7 columns</p>\n",
       "</div>"
      ],
      "text/plain": [
       "     experiment_type stimulus_type electrode_region               model_name  \\\n",
       "9257           naive         video         parietal  movement_nature_hamming   \n",
       "9254           naive         video         parietal  movement_nature_hamming   \n",
       "9253           naive         video         parietal  movement_nature_hamming   \n",
       "9252           naive         video         parietal  movement_nature_hamming   \n",
       "9251           naive         video         parietal  movement_nature_hamming   \n",
       "...              ...           ...              ...                      ...   \n",
       "9573           naive         video         parietal  movement_nature_hamming   \n",
       "9574           naive         video         parietal  movement_nature_hamming   \n",
       "9575           naive         video         parietal  movement_nature_hamming   \n",
       "9576           naive         video         parietal  movement_nature_hamming   \n",
       "9577           naive         video         parietal  movement_nature_hamming   \n",
       "\n",
       "      time  kendall_tau  kendall_p-value  \n",
       "9257  -200     0.032074         0.515528  \n",
       "9254  -198     0.024764         0.615627  \n",
       "9253  -196     0.009697         0.844150  \n",
       "9252  -194     0.005147         0.916897  \n",
       "9251  -192     0.017678         0.720047  \n",
       "...    ...          ...              ...  \n",
       "9573   590    -0.045426         0.357081  \n",
       "9574   592    -0.052214         0.289803  \n",
       "9575   594    -0.035655         0.469778  \n",
       "9576   596    -0.024093         0.625233  \n",
       "9577   598    -0.014471         0.769239  \n",
       "\n",
       "[400 rows x 7 columns]"
      ]
     },
     "execution_count": 36,
     "metadata": {},
     "output_type": "execute_result"
    }
   ],
   "source": [
    "_avg_sbj_results"
   ]
  },
  {
   "cell_type": "code",
   "execution_count": 37,
   "metadata": {},
   "outputs": [],
   "source": [
    "rdm_df = avg_sbj_results\n",
    "model_name = 'movement_nature_hamming'\n",
    "electrode_region = 'parietal'\n",
    "constant = 'naive'\n",
    "variable = 'video'"
   ]
  },
  {
   "cell_type": "code",
   "execution_count": 38,
   "metadata": {},
   "outputs": [],
   "source": [
    "df_to_plot = rdm_df[  (rdm_df[\"model_name\"] == model_name) \n",
    "                    & (rdm_df[\"electrode_region\"] == electrode_region)\n",
    "                    & (rdm_df[\"experiment_type\"] == constant) \n",
    "                    & (rdm_df[\"stimulus_type\"] == variable)]"
   ]
  },
  {
   "cell_type": "code",
   "execution_count": 39,
   "metadata": {},
   "outputs": [],
   "source": [
    "er_idx = mult_reg_results.electrode_region==\"parietal\" \n",
    "mod_idx = mult_reg_results.model_name==\"movement_nature_hamming\" \n",
    "reg_df = mult_reg_results[er_idx & mod_idx]\n",
    "\n",
    "sig_idx = multipletests(reg_df[\"p_value\"], alpha=0.05, method='bonferroni')[0]"
   ]
  },
  {
   "cell_type": "code",
   "execution_count": 40,
   "metadata": {},
   "outputs": [],
   "source": [
    "sig_time = reg_df[sig_idx].time"
   ]
  },
  {
   "cell_type": "code",
   "execution_count": 41,
   "metadata": {},
   "outputs": [
    {
     "data": {
      "text/plain": [
       "9257    False\n",
       "9254    False\n",
       "9253    False\n",
       "9252    False\n",
       "9251    False\n",
       "        ...  \n",
       "9573    False\n",
       "9574    False\n",
       "9575    False\n",
       "9576    False\n",
       "9577    False\n",
       "Name: time, Length: 400, dtype: bool"
      ]
     },
     "execution_count": 41,
     "metadata": {},
     "output_type": "execute_result"
    }
   ],
   "source": [
    "df_to_plot.time.isin(sig_time)"
   ]
  },
  {
   "cell_type": "code",
   "execution_count": 43,
   "metadata": {},
   "outputs": [
    {
     "data": {
      "application/vnd.plotly.v1+json": {
       "config": {
        "plotlyServerURL": "https://plot.ly"
       },
       "data": [
        {
         "mode": "lines",
         "type": "scatter",
         "x": [
          -200,
          -198,
          -196,
          -194,
          -192,
          -190,
          -188,
          -186,
          -184,
          -182,
          -180,
          -178,
          -176,
          -174,
          -172,
          -170,
          -168,
          -166,
          -164,
          -162,
          -160,
          -158,
          -156,
          -154,
          -152,
          -150,
          -148,
          -146,
          -144,
          -142,
          -140,
          -138,
          -136,
          -134,
          -132,
          -130,
          -128,
          -126,
          -124,
          -122,
          -120,
          -118,
          -116,
          -114,
          -112,
          -110,
          -108,
          -106,
          -104,
          -102,
          -100,
          -98,
          -96,
          -94,
          -92,
          -90,
          -88,
          -86,
          -84,
          -82,
          -80,
          -78,
          -76,
          -74,
          -72,
          -70,
          -68,
          -66,
          -64,
          -62,
          -60,
          -58,
          -56,
          -54,
          -52,
          -50,
          -48,
          -46,
          -44,
          -42,
          -40,
          -38,
          -36,
          -34,
          -32,
          -30,
          -28,
          -26,
          -24,
          -22,
          -20,
          -18,
          -16,
          -14,
          -12,
          -10,
          -8,
          -6,
          -4,
          -2,
          0,
          2,
          4,
          6,
          8,
          10,
          12,
          14,
          16,
          18,
          20,
          22,
          24,
          26,
          28,
          30,
          32,
          34,
          36,
          38,
          40,
          42,
          44,
          46,
          48,
          50,
          52,
          54,
          56,
          58,
          60,
          62,
          64,
          66,
          68,
          70,
          72,
          74,
          76,
          78,
          80,
          82,
          84,
          86,
          88,
          90,
          92,
          94,
          96,
          98,
          100,
          102,
          104,
          106,
          108,
          110,
          112,
          114,
          116,
          118,
          120,
          122,
          124,
          126,
          128,
          130,
          132,
          134,
          136,
          138,
          140,
          142,
          144,
          146,
          148,
          150,
          152,
          154,
          156,
          158,
          160,
          162,
          164,
          166,
          168,
          170,
          172,
          174,
          176,
          178,
          180,
          182,
          184,
          186,
          188,
          190,
          192,
          194,
          196,
          198,
          200,
          202,
          204,
          206,
          208,
          210,
          212,
          214,
          216,
          218,
          220,
          222,
          224,
          226,
          228,
          230,
          232,
          234,
          236,
          238,
          240,
          242,
          244,
          246,
          248,
          250,
          252,
          254,
          256,
          258,
          260,
          262,
          264,
          266,
          268,
          270,
          272,
          274,
          276,
          278,
          280,
          282,
          284,
          286,
          288,
          290,
          292,
          294,
          296,
          298,
          300,
          302,
          304,
          306,
          308,
          310,
          312,
          314,
          316,
          318,
          320,
          322,
          324,
          326,
          328,
          330,
          332,
          334,
          336,
          338,
          340,
          342,
          344,
          346,
          348,
          350,
          352,
          354,
          356,
          358,
          360,
          362,
          364,
          366,
          368,
          370,
          372,
          374,
          376,
          378,
          380,
          382,
          384,
          386,
          388,
          390,
          392,
          394,
          396,
          398,
          400,
          402,
          404,
          406,
          408,
          410,
          412,
          414,
          416,
          418,
          420,
          422,
          424,
          426,
          428,
          430,
          432,
          434,
          436,
          438,
          440,
          442,
          444,
          446,
          448,
          450,
          452,
          454,
          456,
          458,
          460,
          462,
          464,
          466,
          468,
          470,
          472,
          474,
          476,
          478,
          480,
          482,
          484,
          486,
          488,
          490,
          492,
          494,
          496,
          498,
          500,
          502,
          504,
          506,
          508,
          510,
          512,
          514,
          516,
          518,
          520,
          522,
          524,
          526,
          528,
          530,
          532,
          534,
          536,
          538,
          540,
          542,
          544,
          546,
          548,
          550,
          552,
          554,
          556,
          558,
          560,
          562,
          564,
          566,
          568,
          570,
          572,
          574,
          576,
          578,
          580,
          582,
          584,
          586,
          588,
          590,
          592,
          594,
          596,
          598
         ],
         "y": [
          0.03207426540989815,
          0.024764316549037636,
          0.009696870937876184,
          0.005146800728565051,
          0.01767814163289735,
          0.036922700878836236,
          0.04699252839124612,
          0.051691781230370736,
          0.03848911849187777,
          0.019692107135379326,
          0.009771462252782925,
          -0.0035057918006167737,
          -0.010144418827316622,
          -0.013128071423586218,
          -0.022824942361462403,
          -0.03848911849187777,
          -0.0346103701167273,
          -0.01797650689252431,
          -0.004848435468938092,
          -0.005146800728565051,
          -0.001193461038507838,
          -0.008950957788808785,
          -0.019766698450286065,
          -0.03274558724405881,
          -0.04915567652354158,
          -0.07183143625519049,
          -0.0780225153924499,
          -0.06109028690861996,
          -0.04042849267945301,
          -0.021183933433514122,
          -0.0017901915577617571,
          0.01730518505836365,
          0.027375012570773537,
          0.037221066138463196,
          0.023720038140343278,
          0.016559271909296253,
          0.016783045854016472,
          0.0071607662310470286,
          0.012829706163959259,
          0.015514993500601893,
          0.020214246339726506,
          0.007235357545953768,
          -0.015440402185695154,
          -0.03744484008318342,
          -0.043561327905536094,
          -0.03819075323225082,
          -0.021929846582581524,
          -0.014694489036627754,
          -0.01782732426271083,
          -0.011263288550917721,
          -0.01939374187575237,
          -0.03595301378504862,
          -0.01730518505836365,
          0.016037132704949074,
          0.04154736240305411,
          0.06929533154836134,
          0.08272176823157452,
          0.08279635954648126,
          0.07914138511605101,
          0.06526740054339739,
          0.058703364831604286,
          0.04923026783844832,
          0.032223448039711625,
          0.013277254053399698,
          0.0032074265409898148,
          0.009473096993155964,
          0.010442784086943583,
          0.011860019070171639,
          0.007906679380114426,
          -0.008354227269554867,
          -0.031179169631017266,
          -0.0364751529893958,
          -0.031029987001203786,
          -0.028643064924188114,
          -0.03095539568629705,
          -0.021183933433514122,
          -0.012382158274518818,
          -0.008428818584461605,
          -0.021183933433514122,
          -0.026703690736612877,
          -0.013501027998119915,
          -0.013426436683213177,
          -0.0243167686595972,
          -0.03587842247014188,
          -0.045276928148391106,
          -0.04654498050180568,
          -0.04035390136454627,
          -0.03520710063598122,
          -0.026256142847172436,
          -0.01245674958942556,
          -0.01842405478196475,
          -0.029239795443442032,
          -0.03819075323225082,
          -0.03229803935461836,
          -0.025584821013011776,
          -0.02700205599623983,
          -0.022824942361462403,
          -0.020960159488793904,
          -0.0024615133919224158,
          0.015440402185695154,
          0.032820178558965546,
          0.053332790158319016,
          0.06914614891854787,
          0.06064273901917952,
          0.0574353124781897,
          0.07347244518313878,
          0.08727183844088565,
          0.09719248332348206,
          0.10256305799676732,
          0.10398029297999539,
          0.09778921384273598,
          0.08525787293840367,
          0.06825105313966699,
          0.04557529340801806,
          0.034834144061447525,
          0.0243167686595972,
          0.02275035104655566,
          0.022079029212395,
          0.0246897252341309,
          0.026181551532265694,
          0.021706072637861305,
          0.008279635954648127,
          -0.003431200485710034,
          -0.0023123307621089363,
          0.015440402185695154,
          0.023645446825436543,
          0.022377394472021965,
          0.034834144061447525,
          0.06429771344960977,
          0.11666081651414116,
          0.1713362503407815,
          0.24189963424255742,
          0.3115679223654525,
          0.33700356074865073,
          0.328052602959842,
          0.31940001043066013,
          0.3119408789399861,
          0.2951578330859697,
          0.2688270989238905,
          0.24831448732453706,
          0.25696707985371886,
          0.283297814015798,
          0.3088080437139031,
          0.32648618534680046,
          0.3402109872896406,
          0.33909211756603946,
          0.3282763769045622,
          0.31641635783439054,
          0.3129105660337738,
          0.3118662876250794,
          0.32201070645239604,
          0.3413298570132417,
          0.3662433561920928,
          0.38093784522872054,
          0.3874272896256069,
          0.38787483751504737,
          0.37944601893058577,
          0.35483088501136156,
          0.3083604958244626,
          0.2562211667046515,
          0.20624498571713576,
          0.17141084165568823,
          0.15597043946999306,
          0.15738767445322113,
          0.16514517120352207,
          0.17536418134574544,
          0.19169967931032147,
          0.19386282744261693,
          0.18908898328858556,
          0.17185838954512866,
          0.15895409206626268,
          0.16193774466253227,
          0.17476745082649153,
          0.18976030512274622,
          0.19781616713267416,
          0.19445955796187087,
          0.18148066916809813,
          0.1550753436911122,
          0.11725754703339508,
          0.0858546034576576,
          0.07048879258686917,
          0.06802727919494676,
          0.07235357545953768,
          0.08302013349120148,
          0.09704330069366857,
          0.1214346606681725,
          0.14955558638801345,
          0.16253447518178618,
          0.15425483922713806,
          0.14306614199112708,
          0.13404059288741155,
          0.1247912698389758,
          0.11501980758619289,
          0.11382634654768505,
          0.11032055474706827,
          0.10263764931167407,
          0.08921121262846089,
          0.08809234290485979,
          0.0942834220421192,
          0.11166319841538959,
          0.1171083644035816,
          0.12225516513214667,
          0.11651163388432768,
          0.09943022277068427,
          0.07712741961356903,
          0.0634026176707289,
          0.05295983358378531,
          0.04990158967260898,
          0.05094586808130333,
          0.05497379908626729,
          0.054824616456453805,
          0.0555705296055212,
          0.046097432612365236,
          0.04587365866764502,
          0.038638301121691254,
          0.026927464681333096,
          0.011263288550917721,
          -0.004699252839124612,
          -0.013202662738492956,
          -0.01111410592110424,
          -0.0032820178558965545,
          0.008727183844088566,
          0.013873984572653616,
          0.01208379301489186,
          0.007981270695021166,
          0.008205044639741386,
          0.02140770737823434,
          0.04087604056889345,
          0.06683381815643893,
          0.09488015256137311,
          0.11255829419427048,
          0.1322504013296498,
          0.14493092486379558,
          0.15067445611161454,
          0.15313596950353697,
          0.16156478808799857,
          0.167457501965631,
          0.16850178037432537,
          0.16604026698240296,
          0.1646230319991749,
          0.1648468059438951,
          0.16305661438613336,
          0.15306137818863022,
          0.13172826212530261,
          0.11091728526632219,
          0.0909268128713159,
          0.07399458438748596,
          0.06504362659867717,
          0.05460084251173359,
          0.03737024876827668,
          0.01760355031799061,
          0.0009696870937876183,
          -0.014172349832280577,
          -0.02327249025090284,
          -0.03028407385213639,
          -0.02961275201797573,
          -0.02439135997450394,
          -0.020214246339726506,
          -0.022675759731648922,
          -0.027747969145307232,
          -0.04132358845833389,
          -0.057733677737816666,
          -0.07063797521668266,
          -0.07518804542599379,
          -0.0813791245632532,
          -0.08354227269554866,
          -0.08667510792163174,
          -0.0849595076787767,
          -0.08279635954648126,
          -0.08391522927008235,
          -0.07988729826511841,
          -0.073696219127859,
          -0.060046008499925606,
          -0.04699252839124612,
          -0.02327249025090284,
          0.007608314120487467,
          0.0364751529893958,
          0.06929533154836134,
          0.08839070816448676,
          0.09808757910236295,
          0.10398029297999539,
          0.10748608478061217,
          0.11658622519923442,
          0.11136483315576264,
          0.09018089972224852,
          0.0619107913725941,
          0.029687343332882473,
          0.002759878651549375,
          -0.0231978989359961,
          -0.03916044032603843,
          -0.046097432612365236,
          -0.045351519463297844,
          -0.03326772644840598,
          -0.022302803157115223,
          -0.010293601457130102,
          -0.0045500702093111325,
          -0.01111410592110424,
          -0.01700681979873669,
          -0.02998570859250943,
          -0.039980944790012574,
          -0.046619571816712425,
          -0.052736059639065094,
          -0.057733677737816666,
          -0.06012059981483234,
          -0.058479590886884064,
          -0.051393415970743775,
          -0.03580383115523514,
          -0.022824942361462403,
          -0.014172349832280577,
          -0.007235357545953768,
          -0.013351845368306439,
          -0.02416758602978372,
          -0.03528169195088796,
          -0.03841452717697104,
          -0.037295657453369935,
          -0.03819075323225082,
          -0.03401363959747338,
          -0.02439135997450394,
          -0.022824942361462403,
          -0.016410089279482773,
          -0.01797650689252431,
          -0.013053480108679478,
          -0.011710836440358162,
          -0.010815740661477282,
          -0.023048716306182618,
          -0.033864456967659905,
          -0.039235031640945175,
          -0.035580057210514916,
          -0.029239795443442032,
          -0.024764316549037636,
          -0.025361047068291554,
          -0.02909061281362855,
          -0.01730518505836365,
          -0.00551975730309875,
          0.0033566091708032942,
          0.00648944439688637,
          -0.001118869723601098,
          -0.04162195371796085,
          -0.08026025483965211,
          -0.10711312820607846,
          -0.10069827512409883,
          -0.0748150888514601,
          -0.048111398114847215,
          -0.031925082780084664,
          -0.009920644882596403,
          -0.008801775158995304,
          -0.013426436683213177,
          -0.0037295657453369937,
          0.014545306406814274,
          0.029016021498721813,
          0.03199967409499141,
          0.03296936118877902,
          0.04393428448006979,
          0.06832564445457373,
          0.09473096993155965,
          0.10509916270359648,
          0.11494521627128615,
          0.10286142325639429,
          0.08130453324834647,
          0.05661480801421557,
          0.03341690907821947,
          0.01991588108009955,
          0.013799393257746878,
          0.009696870937876184,
          0.01156165381054468,
          0.016932228483829952,
          0.026778282051519615,
          0.03632597035958232,
          0.04042849267945301,
          0.051393415970743775,
          0.06205997400240757,
          0.06989206206761527,
          0.07660528040922185,
          0.08682429055144522,
          0.09256782179926419,
          0.08063321141418581,
          0.06034437375955256,
          0.0471417110210596,
          0.05370574673285271,
          0.05258687700925161,
          0.051990146489997696,
          0.050423728876956155,
          0.05676399064402904,
          0.05922550403595146,
          0.05833040825707058,
          0.05467543382664033,
          0.04818598942975395,
          0.03267099592915206,
          0.011412471180731201,
          0.0063402617670728885,
          0.00014918262981347975,
          -0.009920644882596403,
          -0.016260906649669293,
          -0.021556890008047825,
          -0.031104578316110527,
          -0.04542611077820459,
          -0.05221392043471791,
          -0.03565464852542166,
          -0.024092994714876977,
          -0.014470715091907536
         ]
        },
        {
         "mode": "markers",
         "type": "scatter",
         "x": [
          62,
          64,
          66,
          68,
          70,
          72,
          74,
          82,
          84,
          86,
          88,
          90,
          92,
          94,
          96,
          98,
          100,
          102,
          104,
          106,
          108,
          110,
          112,
          114,
          116
         ],
         "y": [
          0.24189963424255742,
          0.3115679223654525,
          0.33700356074865073,
          0.328052602959842,
          0.31940001043066013,
          0.3119408789399861,
          0.2951578330859697,
          0.283297814015798,
          0.3088080437139031,
          0.32648618534680046,
          0.3402109872896406,
          0.33909211756603946,
          0.3282763769045622,
          0.31641635783439054,
          0.3129105660337738,
          0.3118662876250794,
          0.32201070645239604,
          0.3413298570132417,
          0.3662433561920928,
          0.38093784522872054,
          0.3874272896256069,
          0.38787483751504737,
          0.37944601893058577,
          0.35483088501136156,
          0.3083604958244626
         ]
        }
       ],
       "layout": {
        "template": {
         "data": {
          "bar": [
           {
            "error_x": {
             "color": "#2a3f5f"
            },
            "error_y": {
             "color": "#2a3f5f"
            },
            "marker": {
             "line": {
              "color": "#E5ECF6",
              "width": 0.5
             }
            },
            "type": "bar"
           }
          ],
          "barpolar": [
           {
            "marker": {
             "line": {
              "color": "#E5ECF6",
              "width": 0.5
             }
            },
            "type": "barpolar"
           }
          ],
          "carpet": [
           {
            "aaxis": {
             "endlinecolor": "#2a3f5f",
             "gridcolor": "white",
             "linecolor": "white",
             "minorgridcolor": "white",
             "startlinecolor": "#2a3f5f"
            },
            "baxis": {
             "endlinecolor": "#2a3f5f",
             "gridcolor": "white",
             "linecolor": "white",
             "minorgridcolor": "white",
             "startlinecolor": "#2a3f5f"
            },
            "type": "carpet"
           }
          ],
          "choropleth": [
           {
            "colorbar": {
             "outlinewidth": 0,
             "ticks": ""
            },
            "type": "choropleth"
           }
          ],
          "contour": [
           {
            "colorbar": {
             "outlinewidth": 0,
             "ticks": ""
            },
            "colorscale": [
             [
              0,
              "#0d0887"
             ],
             [
              0.1111111111111111,
              "#46039f"
             ],
             [
              0.2222222222222222,
              "#7201a8"
             ],
             [
              0.3333333333333333,
              "#9c179e"
             ],
             [
              0.4444444444444444,
              "#bd3786"
             ],
             [
              0.5555555555555556,
              "#d8576b"
             ],
             [
              0.6666666666666666,
              "#ed7953"
             ],
             [
              0.7777777777777778,
              "#fb9f3a"
             ],
             [
              0.8888888888888888,
              "#fdca26"
             ],
             [
              1,
              "#f0f921"
             ]
            ],
            "type": "contour"
           }
          ],
          "contourcarpet": [
           {
            "colorbar": {
             "outlinewidth": 0,
             "ticks": ""
            },
            "type": "contourcarpet"
           }
          ],
          "heatmap": [
           {
            "colorbar": {
             "outlinewidth": 0,
             "ticks": ""
            },
            "colorscale": [
             [
              0,
              "#0d0887"
             ],
             [
              0.1111111111111111,
              "#46039f"
             ],
             [
              0.2222222222222222,
              "#7201a8"
             ],
             [
              0.3333333333333333,
              "#9c179e"
             ],
             [
              0.4444444444444444,
              "#bd3786"
             ],
             [
              0.5555555555555556,
              "#d8576b"
             ],
             [
              0.6666666666666666,
              "#ed7953"
             ],
             [
              0.7777777777777778,
              "#fb9f3a"
             ],
             [
              0.8888888888888888,
              "#fdca26"
             ],
             [
              1,
              "#f0f921"
             ]
            ],
            "type": "heatmap"
           }
          ],
          "heatmapgl": [
           {
            "colorbar": {
             "outlinewidth": 0,
             "ticks": ""
            },
            "colorscale": [
             [
              0,
              "#0d0887"
             ],
             [
              0.1111111111111111,
              "#46039f"
             ],
             [
              0.2222222222222222,
              "#7201a8"
             ],
             [
              0.3333333333333333,
              "#9c179e"
             ],
             [
              0.4444444444444444,
              "#bd3786"
             ],
             [
              0.5555555555555556,
              "#d8576b"
             ],
             [
              0.6666666666666666,
              "#ed7953"
             ],
             [
              0.7777777777777778,
              "#fb9f3a"
             ],
             [
              0.8888888888888888,
              "#fdca26"
             ],
             [
              1,
              "#f0f921"
             ]
            ],
            "type": "heatmapgl"
           }
          ],
          "histogram": [
           {
            "marker": {
             "colorbar": {
              "outlinewidth": 0,
              "ticks": ""
             }
            },
            "type": "histogram"
           }
          ],
          "histogram2d": [
           {
            "colorbar": {
             "outlinewidth": 0,
             "ticks": ""
            },
            "colorscale": [
             [
              0,
              "#0d0887"
             ],
             [
              0.1111111111111111,
              "#46039f"
             ],
             [
              0.2222222222222222,
              "#7201a8"
             ],
             [
              0.3333333333333333,
              "#9c179e"
             ],
             [
              0.4444444444444444,
              "#bd3786"
             ],
             [
              0.5555555555555556,
              "#d8576b"
             ],
             [
              0.6666666666666666,
              "#ed7953"
             ],
             [
              0.7777777777777778,
              "#fb9f3a"
             ],
             [
              0.8888888888888888,
              "#fdca26"
             ],
             [
              1,
              "#f0f921"
             ]
            ],
            "type": "histogram2d"
           }
          ],
          "histogram2dcontour": [
           {
            "colorbar": {
             "outlinewidth": 0,
             "ticks": ""
            },
            "colorscale": [
             [
              0,
              "#0d0887"
             ],
             [
              0.1111111111111111,
              "#46039f"
             ],
             [
              0.2222222222222222,
              "#7201a8"
             ],
             [
              0.3333333333333333,
              "#9c179e"
             ],
             [
              0.4444444444444444,
              "#bd3786"
             ],
             [
              0.5555555555555556,
              "#d8576b"
             ],
             [
              0.6666666666666666,
              "#ed7953"
             ],
             [
              0.7777777777777778,
              "#fb9f3a"
             ],
             [
              0.8888888888888888,
              "#fdca26"
             ],
             [
              1,
              "#f0f921"
             ]
            ],
            "type": "histogram2dcontour"
           }
          ],
          "mesh3d": [
           {
            "colorbar": {
             "outlinewidth": 0,
             "ticks": ""
            },
            "type": "mesh3d"
           }
          ],
          "parcoords": [
           {
            "line": {
             "colorbar": {
              "outlinewidth": 0,
              "ticks": ""
             }
            },
            "type": "parcoords"
           }
          ],
          "pie": [
           {
            "automargin": true,
            "type": "pie"
           }
          ],
          "scatter": [
           {
            "marker": {
             "colorbar": {
              "outlinewidth": 0,
              "ticks": ""
             }
            },
            "type": "scatter"
           }
          ],
          "scatter3d": [
           {
            "line": {
             "colorbar": {
              "outlinewidth": 0,
              "ticks": ""
             }
            },
            "marker": {
             "colorbar": {
              "outlinewidth": 0,
              "ticks": ""
             }
            },
            "type": "scatter3d"
           }
          ],
          "scattercarpet": [
           {
            "marker": {
             "colorbar": {
              "outlinewidth": 0,
              "ticks": ""
             }
            },
            "type": "scattercarpet"
           }
          ],
          "scattergeo": [
           {
            "marker": {
             "colorbar": {
              "outlinewidth": 0,
              "ticks": ""
             }
            },
            "type": "scattergeo"
           }
          ],
          "scattergl": [
           {
            "marker": {
             "colorbar": {
              "outlinewidth": 0,
              "ticks": ""
             }
            },
            "type": "scattergl"
           }
          ],
          "scattermapbox": [
           {
            "marker": {
             "colorbar": {
              "outlinewidth": 0,
              "ticks": ""
             }
            },
            "type": "scattermapbox"
           }
          ],
          "scatterpolar": [
           {
            "marker": {
             "colorbar": {
              "outlinewidth": 0,
              "ticks": ""
             }
            },
            "type": "scatterpolar"
           }
          ],
          "scatterpolargl": [
           {
            "marker": {
             "colorbar": {
              "outlinewidth": 0,
              "ticks": ""
             }
            },
            "type": "scatterpolargl"
           }
          ],
          "scatterternary": [
           {
            "marker": {
             "colorbar": {
              "outlinewidth": 0,
              "ticks": ""
             }
            },
            "type": "scatterternary"
           }
          ],
          "surface": [
           {
            "colorbar": {
             "outlinewidth": 0,
             "ticks": ""
            },
            "colorscale": [
             [
              0,
              "#0d0887"
             ],
             [
              0.1111111111111111,
              "#46039f"
             ],
             [
              0.2222222222222222,
              "#7201a8"
             ],
             [
              0.3333333333333333,
              "#9c179e"
             ],
             [
              0.4444444444444444,
              "#bd3786"
             ],
             [
              0.5555555555555556,
              "#d8576b"
             ],
             [
              0.6666666666666666,
              "#ed7953"
             ],
             [
              0.7777777777777778,
              "#fb9f3a"
             ],
             [
              0.8888888888888888,
              "#fdca26"
             ],
             [
              1,
              "#f0f921"
             ]
            ],
            "type": "surface"
           }
          ],
          "table": [
           {
            "cells": {
             "fill": {
              "color": "#EBF0F8"
             },
             "line": {
              "color": "white"
             }
            },
            "header": {
             "fill": {
              "color": "#C8D4E3"
             },
             "line": {
              "color": "white"
             }
            },
            "type": "table"
           }
          ]
         },
         "layout": {
          "annotationdefaults": {
           "arrowcolor": "#2a3f5f",
           "arrowhead": 0,
           "arrowwidth": 1
          },
          "coloraxis": {
           "colorbar": {
            "outlinewidth": 0,
            "ticks": ""
           }
          },
          "colorscale": {
           "diverging": [
            [
             0,
             "#8e0152"
            ],
            [
             0.1,
             "#c51b7d"
            ],
            [
             0.2,
             "#de77ae"
            ],
            [
             0.3,
             "#f1b6da"
            ],
            [
             0.4,
             "#fde0ef"
            ],
            [
             0.5,
             "#f7f7f7"
            ],
            [
             0.6,
             "#e6f5d0"
            ],
            [
             0.7,
             "#b8e186"
            ],
            [
             0.8,
             "#7fbc41"
            ],
            [
             0.9,
             "#4d9221"
            ],
            [
             1,
             "#276419"
            ]
           ],
           "sequential": [
            [
             0,
             "#0d0887"
            ],
            [
             0.1111111111111111,
             "#46039f"
            ],
            [
             0.2222222222222222,
             "#7201a8"
            ],
            [
             0.3333333333333333,
             "#9c179e"
            ],
            [
             0.4444444444444444,
             "#bd3786"
            ],
            [
             0.5555555555555556,
             "#d8576b"
            ],
            [
             0.6666666666666666,
             "#ed7953"
            ],
            [
             0.7777777777777778,
             "#fb9f3a"
            ],
            [
             0.8888888888888888,
             "#fdca26"
            ],
            [
             1,
             "#f0f921"
            ]
           ],
           "sequentialminus": [
            [
             0,
             "#0d0887"
            ],
            [
             0.1111111111111111,
             "#46039f"
            ],
            [
             0.2222222222222222,
             "#7201a8"
            ],
            [
             0.3333333333333333,
             "#9c179e"
            ],
            [
             0.4444444444444444,
             "#bd3786"
            ],
            [
             0.5555555555555556,
             "#d8576b"
            ],
            [
             0.6666666666666666,
             "#ed7953"
            ],
            [
             0.7777777777777778,
             "#fb9f3a"
            ],
            [
             0.8888888888888888,
             "#fdca26"
            ],
            [
             1,
             "#f0f921"
            ]
           ]
          },
          "colorway": [
           "#636efa",
           "#EF553B",
           "#00cc96",
           "#ab63fa",
           "#FFA15A",
           "#19d3f3",
           "#FF6692",
           "#B6E880",
           "#FF97FF",
           "#FECB52"
          ],
          "font": {
           "color": "#2a3f5f"
          },
          "geo": {
           "bgcolor": "white",
           "lakecolor": "white",
           "landcolor": "#E5ECF6",
           "showlakes": true,
           "showland": true,
           "subunitcolor": "white"
          },
          "hoverlabel": {
           "align": "left"
          },
          "hovermode": "closest",
          "mapbox": {
           "style": "light"
          },
          "paper_bgcolor": "white",
          "plot_bgcolor": "#E5ECF6",
          "polar": {
           "angularaxis": {
            "gridcolor": "white",
            "linecolor": "white",
            "ticks": ""
           },
           "bgcolor": "#E5ECF6",
           "radialaxis": {
            "gridcolor": "white",
            "linecolor": "white",
            "ticks": ""
           }
          },
          "scene": {
           "xaxis": {
            "backgroundcolor": "#E5ECF6",
            "gridcolor": "white",
            "gridwidth": 2,
            "linecolor": "white",
            "showbackground": true,
            "ticks": "",
            "zerolinecolor": "white"
           },
           "yaxis": {
            "backgroundcolor": "#E5ECF6",
            "gridcolor": "white",
            "gridwidth": 2,
            "linecolor": "white",
            "showbackground": true,
            "ticks": "",
            "zerolinecolor": "white"
           },
           "zaxis": {
            "backgroundcolor": "#E5ECF6",
            "gridcolor": "white",
            "gridwidth": 2,
            "linecolor": "white",
            "showbackground": true,
            "ticks": "",
            "zerolinecolor": "white"
           }
          },
          "shapedefaults": {
           "line": {
            "color": "#2a3f5f"
           }
          },
          "ternary": {
           "aaxis": {
            "gridcolor": "white",
            "linecolor": "white",
            "ticks": ""
           },
           "baxis": {
            "gridcolor": "white",
            "linecolor": "white",
            "ticks": ""
           },
           "bgcolor": "#E5ECF6",
           "caxis": {
            "gridcolor": "white",
            "linecolor": "white",
            "ticks": ""
           }
          },
          "title": {
           "x": 0.05
          },
          "xaxis": {
           "automargin": true,
           "gridcolor": "white",
           "linecolor": "white",
           "ticks": "",
           "title": {
            "standoff": 15
           },
           "zerolinecolor": "white",
           "zerolinewidth": 2
          },
          "yaxis": {
           "automargin": true,
           "gridcolor": "white",
           "linecolor": "white",
           "ticks": "",
           "title": {
            "standoff": 15
           },
           "zerolinecolor": "white",
           "zerolinewidth": 2
          }
         }
        },
        "xaxis": {
         "title": {
          "text": "Time ms (relative to stimulus onset)"
         }
        },
        "yaxis": {
         "range": [
          -0.2,
          0.6
         ],
         "title": {
          "text": "Kendall-tau"
         }
        }
       }
      },
      "text/html": [
       "<div>\n",
       "        \n",
       "        \n",
       "            <div id=\"7d09ac76-73af-411a-ac76-986a36fd38d6\" class=\"plotly-graph-div\" style=\"height:525px; width:100%;\"></div>\n",
       "            <script type=\"text/javascript\">\n",
       "                require([\"plotly\"], function(Plotly) {\n",
       "                    window.PLOTLYENV=window.PLOTLYENV || {};\n",
       "                    \n",
       "                if (document.getElementById(\"7d09ac76-73af-411a-ac76-986a36fd38d6\")) {\n",
       "                    Plotly.newPlot(\n",
       "                        '7d09ac76-73af-411a-ac76-986a36fd38d6',\n",
       "                        [{\"mode\": \"lines\", \"type\": \"scatter\", \"x\": [-200, -198, -196, -194, -192, -190, -188, -186, -184, -182, -180, -178, -176, -174, -172, -170, -168, -166, -164, -162, -160, -158, -156, -154, -152, -150, -148, -146, -144, -142, -140, -138, -136, -134, -132, -130, -128, -126, -124, -122, -120, -118, -116, -114, -112, -110, -108, -106, -104, -102, -100, -98, -96, -94, -92, -90, -88, -86, -84, -82, -80, -78, -76, -74, -72, -70, -68, -66, -64, -62, -60, -58, -56, -54, -52, -50, -48, -46, -44, -42, -40, -38, -36, -34, -32, -30, -28, -26, -24, -22, -20, -18, -16, -14, -12, -10, -8, -6, -4, -2, 0, 2, 4, 6, 8, 10, 12, 14, 16, 18, 20, 22, 24, 26, 28, 30, 32, 34, 36, 38, 40, 42, 44, 46, 48, 50, 52, 54, 56, 58, 60, 62, 64, 66, 68, 70, 72, 74, 76, 78, 80, 82, 84, 86, 88, 90, 92, 94, 96, 98, 100, 102, 104, 106, 108, 110, 112, 114, 116, 118, 120, 122, 124, 126, 128, 130, 132, 134, 136, 138, 140, 142, 144, 146, 148, 150, 152, 154, 156, 158, 160, 162, 164, 166, 168, 170, 172, 174, 176, 178, 180, 182, 184, 186, 188, 190, 192, 194, 196, 198, 200, 202, 204, 206, 208, 210, 212, 214, 216, 218, 220, 222, 224, 226, 228, 230, 232, 234, 236, 238, 240, 242, 244, 246, 248, 250, 252, 254, 256, 258, 260, 262, 264, 266, 268, 270, 272, 274, 276, 278, 280, 282, 284, 286, 288, 290, 292, 294, 296, 298, 300, 302, 304, 306, 308, 310, 312, 314, 316, 318, 320, 322, 324, 326, 328, 330, 332, 334, 336, 338, 340, 342, 344, 346, 348, 350, 352, 354, 356, 358, 360, 362, 364, 366, 368, 370, 372, 374, 376, 378, 380, 382, 384, 386, 388, 390, 392, 394, 396, 398, 400, 402, 404, 406, 408, 410, 412, 414, 416, 418, 420, 422, 424, 426, 428, 430, 432, 434, 436, 438, 440, 442, 444, 446, 448, 450, 452, 454, 456, 458, 460, 462, 464, 466, 468, 470, 472, 474, 476, 478, 480, 482, 484, 486, 488, 490, 492, 494, 496, 498, 500, 502, 504, 506, 508, 510, 512, 514, 516, 518, 520, 522, 524, 526, 528, 530, 532, 534, 536, 538, 540, 542, 544, 546, 548, 550, 552, 554, 556, 558, 560, 562, 564, 566, 568, 570, 572, 574, 576, 578, 580, 582, 584, 586, 588, 590, 592, 594, 596, 598], \"y\": [0.03207426540989815, 0.024764316549037636, 0.009696870937876184, 0.005146800728565051, 0.01767814163289735, 0.036922700878836236, 0.04699252839124612, 0.051691781230370736, 0.03848911849187777, 0.019692107135379326, 0.009771462252782925, -0.0035057918006167737, -0.010144418827316622, -0.013128071423586218, -0.022824942361462403, -0.03848911849187777, -0.0346103701167273, -0.01797650689252431, -0.004848435468938092, -0.005146800728565051, -0.001193461038507838, -0.008950957788808785, -0.019766698450286065, -0.03274558724405881, -0.04915567652354158, -0.07183143625519049, -0.0780225153924499, -0.06109028690861996, -0.04042849267945301, -0.021183933433514122, -0.0017901915577617571, 0.01730518505836365, 0.027375012570773537, 0.037221066138463196, 0.023720038140343278, 0.016559271909296253, 0.016783045854016472, 0.0071607662310470286, 0.012829706163959259, 0.015514993500601893, 0.020214246339726506, 0.007235357545953768, -0.015440402185695154, -0.03744484008318342, -0.043561327905536094, -0.03819075323225082, -0.021929846582581524, -0.014694489036627754, -0.01782732426271083, -0.011263288550917721, -0.01939374187575237, -0.03595301378504862, -0.01730518505836365, 0.016037132704949074, 0.04154736240305411, 0.06929533154836134, 0.08272176823157452, 0.08279635954648126, 0.07914138511605101, 0.06526740054339739, 0.058703364831604286, 0.04923026783844832, 0.032223448039711625, 0.013277254053399698, 0.0032074265409898148, 0.009473096993155964, 0.010442784086943583, 0.011860019070171639, 0.007906679380114426, -0.008354227269554867, -0.031179169631017266, -0.0364751529893958, -0.031029987001203786, -0.028643064924188114, -0.03095539568629705, -0.021183933433514122, -0.012382158274518818, -0.008428818584461605, -0.021183933433514122, -0.026703690736612877, -0.013501027998119915, -0.013426436683213177, -0.0243167686595972, -0.03587842247014188, -0.045276928148391106, -0.04654498050180568, -0.04035390136454627, -0.03520710063598122, -0.026256142847172436, -0.01245674958942556, -0.01842405478196475, -0.029239795443442032, -0.03819075323225082, -0.03229803935461836, -0.025584821013011776, -0.02700205599623983, -0.022824942361462403, -0.020960159488793904, -0.0024615133919224158, 0.015440402185695154, 0.032820178558965546, 0.053332790158319016, 0.06914614891854787, 0.06064273901917952, 0.0574353124781897, 0.07347244518313878, 0.08727183844088565, 0.09719248332348206, 0.10256305799676732, 0.10398029297999539, 0.09778921384273598, 0.08525787293840367, 0.06825105313966699, 0.04557529340801806, 0.034834144061447525, 0.0243167686595972, 0.02275035104655566, 0.022079029212395, 0.0246897252341309, 0.026181551532265694, 0.021706072637861305, 0.008279635954648127, -0.003431200485710034, -0.0023123307621089363, 0.015440402185695154, 0.023645446825436543, 0.022377394472021965, 0.034834144061447525, 0.06429771344960977, 0.11666081651414116, 0.1713362503407815, 0.24189963424255742, 0.3115679223654525, 0.33700356074865073, 0.328052602959842, 0.31940001043066013, 0.3119408789399861, 0.2951578330859697, 0.2688270989238905, 0.24831448732453706, 0.25696707985371886, 0.283297814015798, 0.3088080437139031, 0.32648618534680046, 0.3402109872896406, 0.33909211756603946, 0.3282763769045622, 0.31641635783439054, 0.3129105660337738, 0.3118662876250794, 0.32201070645239604, 0.3413298570132417, 0.3662433561920928, 0.38093784522872054, 0.3874272896256069, 0.38787483751504737, 0.37944601893058577, 0.35483088501136156, 0.3083604958244626, 0.2562211667046515, 0.20624498571713576, 0.17141084165568823, 0.15597043946999306, 0.15738767445322113, 0.16514517120352207, 0.17536418134574544, 0.19169967931032147, 0.19386282744261693, 0.18908898328858556, 0.17185838954512866, 0.15895409206626268, 0.16193774466253227, 0.17476745082649153, 0.18976030512274622, 0.19781616713267416, 0.19445955796187087, 0.18148066916809813, 0.1550753436911122, 0.11725754703339508, 0.0858546034576576, 0.07048879258686917, 0.06802727919494676, 0.07235357545953768, 0.08302013349120148, 0.09704330069366857, 0.1214346606681725, 0.14955558638801345, 0.16253447518178618, 0.15425483922713806, 0.14306614199112708, 0.13404059288741155, 0.1247912698389758, 0.11501980758619289, 0.11382634654768505, 0.11032055474706827, 0.10263764931167407, 0.08921121262846089, 0.08809234290485979, 0.0942834220421192, 0.11166319841538959, 0.1171083644035816, 0.12225516513214667, 0.11651163388432768, 0.09943022277068427, 0.07712741961356903, 0.0634026176707289, 0.05295983358378531, 0.04990158967260898, 0.05094586808130333, 0.05497379908626729, 0.054824616456453805, 0.0555705296055212, 0.046097432612365236, 0.04587365866764502, 0.038638301121691254, 0.026927464681333096, 0.011263288550917721, -0.004699252839124612, -0.013202662738492956, -0.01111410592110424, -0.0032820178558965545, 0.008727183844088566, 0.013873984572653616, 0.01208379301489186, 0.007981270695021166, 0.008205044639741386, 0.02140770737823434, 0.04087604056889345, 0.06683381815643893, 0.09488015256137311, 0.11255829419427048, 0.1322504013296498, 0.14493092486379558, 0.15067445611161454, 0.15313596950353697, 0.16156478808799857, 0.167457501965631, 0.16850178037432537, 0.16604026698240296, 0.1646230319991749, 0.1648468059438951, 0.16305661438613336, 0.15306137818863022, 0.13172826212530261, 0.11091728526632219, 0.0909268128713159, 0.07399458438748596, 0.06504362659867717, 0.05460084251173359, 0.03737024876827668, 0.01760355031799061, 0.0009696870937876183, -0.014172349832280577, -0.02327249025090284, -0.03028407385213639, -0.02961275201797573, -0.02439135997450394, -0.020214246339726506, -0.022675759731648922, -0.027747969145307232, -0.04132358845833389, -0.057733677737816666, -0.07063797521668266, -0.07518804542599379, -0.0813791245632532, -0.08354227269554866, -0.08667510792163174, -0.0849595076787767, -0.08279635954648126, -0.08391522927008235, -0.07988729826511841, -0.073696219127859, -0.060046008499925606, -0.04699252839124612, -0.02327249025090284, 0.007608314120487467, 0.0364751529893958, 0.06929533154836134, 0.08839070816448676, 0.09808757910236295, 0.10398029297999539, 0.10748608478061217, 0.11658622519923442, 0.11136483315576264, 0.09018089972224852, 0.0619107913725941, 0.029687343332882473, 0.002759878651549375, -0.0231978989359961, -0.03916044032603843, -0.046097432612365236, -0.045351519463297844, -0.03326772644840598, -0.022302803157115223, -0.010293601457130102, -0.0045500702093111325, -0.01111410592110424, -0.01700681979873669, -0.02998570859250943, -0.039980944790012574, -0.046619571816712425, -0.052736059639065094, -0.057733677737816666, -0.06012059981483234, -0.058479590886884064, -0.051393415970743775, -0.03580383115523514, -0.022824942361462403, -0.014172349832280577, -0.007235357545953768, -0.013351845368306439, -0.02416758602978372, -0.03528169195088796, -0.03841452717697104, -0.037295657453369935, -0.03819075323225082, -0.03401363959747338, -0.02439135997450394, -0.022824942361462403, -0.016410089279482773, -0.01797650689252431, -0.013053480108679478, -0.011710836440358162, -0.010815740661477282, -0.023048716306182618, -0.033864456967659905, -0.039235031640945175, -0.035580057210514916, -0.029239795443442032, -0.024764316549037636, -0.025361047068291554, -0.02909061281362855, -0.01730518505836365, -0.00551975730309875, 0.0033566091708032942, 0.00648944439688637, -0.001118869723601098, -0.04162195371796085, -0.08026025483965211, -0.10711312820607846, -0.10069827512409883, -0.0748150888514601, -0.048111398114847215, -0.031925082780084664, -0.009920644882596403, -0.008801775158995304, -0.013426436683213177, -0.0037295657453369937, 0.014545306406814274, 0.029016021498721813, 0.03199967409499141, 0.03296936118877902, 0.04393428448006979, 0.06832564445457373, 0.09473096993155965, 0.10509916270359648, 0.11494521627128615, 0.10286142325639429, 0.08130453324834647, 0.05661480801421557, 0.03341690907821947, 0.01991588108009955, 0.013799393257746878, 0.009696870937876184, 0.01156165381054468, 0.016932228483829952, 0.026778282051519615, 0.03632597035958232, 0.04042849267945301, 0.051393415970743775, 0.06205997400240757, 0.06989206206761527, 0.07660528040922185, 0.08682429055144522, 0.09256782179926419, 0.08063321141418581, 0.06034437375955256, 0.0471417110210596, 0.05370574673285271, 0.05258687700925161, 0.051990146489997696, 0.050423728876956155, 0.05676399064402904, 0.05922550403595146, 0.05833040825707058, 0.05467543382664033, 0.04818598942975395, 0.03267099592915206, 0.011412471180731201, 0.0063402617670728885, 0.00014918262981347975, -0.009920644882596403, -0.016260906649669293, -0.021556890008047825, -0.031104578316110527, -0.04542611077820459, -0.05221392043471791, -0.03565464852542166, -0.024092994714876977, -0.014470715091907536]}, {\"mode\": \"markers\", \"type\": \"scatter\", \"x\": [62, 64, 66, 68, 70, 72, 74, 82, 84, 86, 88, 90, 92, 94, 96, 98, 100, 102, 104, 106, 108, 110, 112, 114, 116], \"y\": [0.24189963424255742, 0.3115679223654525, 0.33700356074865073, 0.328052602959842, 0.31940001043066013, 0.3119408789399861, 0.2951578330859697, 0.283297814015798, 0.3088080437139031, 0.32648618534680046, 0.3402109872896406, 0.33909211756603946, 0.3282763769045622, 0.31641635783439054, 0.3129105660337738, 0.3118662876250794, 0.32201070645239604, 0.3413298570132417, 0.3662433561920928, 0.38093784522872054, 0.3874272896256069, 0.38787483751504737, 0.37944601893058577, 0.35483088501136156, 0.3083604958244626]}],\n",
       "                        {\"template\": {\"data\": {\"bar\": [{\"error_x\": {\"color\": \"#2a3f5f\"}, \"error_y\": {\"color\": \"#2a3f5f\"}, \"marker\": {\"line\": {\"color\": \"#E5ECF6\", \"width\": 0.5}}, \"type\": \"bar\"}], \"barpolar\": [{\"marker\": {\"line\": {\"color\": \"#E5ECF6\", \"width\": 0.5}}, \"type\": \"barpolar\"}], \"carpet\": [{\"aaxis\": {\"endlinecolor\": \"#2a3f5f\", \"gridcolor\": \"white\", \"linecolor\": \"white\", \"minorgridcolor\": \"white\", \"startlinecolor\": \"#2a3f5f\"}, \"baxis\": {\"endlinecolor\": \"#2a3f5f\", \"gridcolor\": \"white\", \"linecolor\": \"white\", \"minorgridcolor\": \"white\", \"startlinecolor\": \"#2a3f5f\"}, \"type\": \"carpet\"}], \"choropleth\": [{\"colorbar\": {\"outlinewidth\": 0, \"ticks\": \"\"}, \"type\": \"choropleth\"}], \"contour\": [{\"colorbar\": {\"outlinewidth\": 0, \"ticks\": \"\"}, \"colorscale\": [[0.0, \"#0d0887\"], [0.1111111111111111, \"#46039f\"], [0.2222222222222222, \"#7201a8\"], [0.3333333333333333, \"#9c179e\"], [0.4444444444444444, \"#bd3786\"], [0.5555555555555556, \"#d8576b\"], [0.6666666666666666, \"#ed7953\"], [0.7777777777777778, \"#fb9f3a\"], [0.8888888888888888, \"#fdca26\"], [1.0, \"#f0f921\"]], \"type\": \"contour\"}], \"contourcarpet\": [{\"colorbar\": {\"outlinewidth\": 0, \"ticks\": \"\"}, \"type\": \"contourcarpet\"}], \"heatmap\": [{\"colorbar\": {\"outlinewidth\": 0, \"ticks\": \"\"}, \"colorscale\": [[0.0, \"#0d0887\"], [0.1111111111111111, \"#46039f\"], [0.2222222222222222, \"#7201a8\"], [0.3333333333333333, \"#9c179e\"], [0.4444444444444444, \"#bd3786\"], [0.5555555555555556, \"#d8576b\"], [0.6666666666666666, \"#ed7953\"], [0.7777777777777778, \"#fb9f3a\"], [0.8888888888888888, \"#fdca26\"], [1.0, \"#f0f921\"]], \"type\": \"heatmap\"}], \"heatmapgl\": [{\"colorbar\": {\"outlinewidth\": 0, \"ticks\": \"\"}, \"colorscale\": [[0.0, \"#0d0887\"], [0.1111111111111111, \"#46039f\"], [0.2222222222222222, \"#7201a8\"], [0.3333333333333333, \"#9c179e\"], [0.4444444444444444, \"#bd3786\"], [0.5555555555555556, \"#d8576b\"], [0.6666666666666666, \"#ed7953\"], [0.7777777777777778, \"#fb9f3a\"], [0.8888888888888888, \"#fdca26\"], [1.0, \"#f0f921\"]], \"type\": \"heatmapgl\"}], \"histogram\": [{\"marker\": {\"colorbar\": {\"outlinewidth\": 0, \"ticks\": \"\"}}, \"type\": \"histogram\"}], \"histogram2d\": [{\"colorbar\": {\"outlinewidth\": 0, \"ticks\": \"\"}, \"colorscale\": [[0.0, \"#0d0887\"], [0.1111111111111111, \"#46039f\"], [0.2222222222222222, \"#7201a8\"], [0.3333333333333333, \"#9c179e\"], [0.4444444444444444, \"#bd3786\"], [0.5555555555555556, \"#d8576b\"], [0.6666666666666666, \"#ed7953\"], [0.7777777777777778, \"#fb9f3a\"], [0.8888888888888888, \"#fdca26\"], [1.0, \"#f0f921\"]], \"type\": \"histogram2d\"}], \"histogram2dcontour\": [{\"colorbar\": {\"outlinewidth\": 0, \"ticks\": \"\"}, \"colorscale\": [[0.0, \"#0d0887\"], [0.1111111111111111, \"#46039f\"], [0.2222222222222222, \"#7201a8\"], [0.3333333333333333, \"#9c179e\"], [0.4444444444444444, \"#bd3786\"], [0.5555555555555556, \"#d8576b\"], [0.6666666666666666, \"#ed7953\"], [0.7777777777777778, \"#fb9f3a\"], [0.8888888888888888, \"#fdca26\"], [1.0, \"#f0f921\"]], \"type\": \"histogram2dcontour\"}], \"mesh3d\": [{\"colorbar\": {\"outlinewidth\": 0, \"ticks\": \"\"}, \"type\": \"mesh3d\"}], \"parcoords\": [{\"line\": {\"colorbar\": {\"outlinewidth\": 0, \"ticks\": \"\"}}, \"type\": \"parcoords\"}], \"pie\": [{\"automargin\": true, \"type\": \"pie\"}], \"scatter\": [{\"marker\": {\"colorbar\": {\"outlinewidth\": 0, \"ticks\": \"\"}}, \"type\": \"scatter\"}], \"scatter3d\": [{\"line\": {\"colorbar\": {\"outlinewidth\": 0, \"ticks\": \"\"}}, \"marker\": {\"colorbar\": {\"outlinewidth\": 0, \"ticks\": \"\"}}, \"type\": \"scatter3d\"}], \"scattercarpet\": [{\"marker\": {\"colorbar\": {\"outlinewidth\": 0, \"ticks\": \"\"}}, \"type\": \"scattercarpet\"}], \"scattergeo\": [{\"marker\": {\"colorbar\": {\"outlinewidth\": 0, \"ticks\": \"\"}}, \"type\": \"scattergeo\"}], \"scattergl\": [{\"marker\": {\"colorbar\": {\"outlinewidth\": 0, \"ticks\": \"\"}}, \"type\": \"scattergl\"}], \"scattermapbox\": [{\"marker\": {\"colorbar\": {\"outlinewidth\": 0, \"ticks\": \"\"}}, \"type\": \"scattermapbox\"}], \"scatterpolar\": [{\"marker\": {\"colorbar\": {\"outlinewidth\": 0, \"ticks\": \"\"}}, \"type\": \"scatterpolar\"}], \"scatterpolargl\": [{\"marker\": {\"colorbar\": {\"outlinewidth\": 0, \"ticks\": \"\"}}, \"type\": \"scatterpolargl\"}], \"scatterternary\": [{\"marker\": {\"colorbar\": {\"outlinewidth\": 0, \"ticks\": \"\"}}, \"type\": \"scatterternary\"}], \"surface\": [{\"colorbar\": {\"outlinewidth\": 0, \"ticks\": \"\"}, \"colorscale\": [[0.0, \"#0d0887\"], [0.1111111111111111, \"#46039f\"], [0.2222222222222222, \"#7201a8\"], [0.3333333333333333, \"#9c179e\"], [0.4444444444444444, \"#bd3786\"], [0.5555555555555556, \"#d8576b\"], [0.6666666666666666, \"#ed7953\"], [0.7777777777777778, \"#fb9f3a\"], [0.8888888888888888, \"#fdca26\"], [1.0, \"#f0f921\"]], \"type\": \"surface\"}], \"table\": [{\"cells\": {\"fill\": {\"color\": \"#EBF0F8\"}, \"line\": {\"color\": \"white\"}}, \"header\": {\"fill\": {\"color\": \"#C8D4E3\"}, \"line\": {\"color\": \"white\"}}, \"type\": \"table\"}]}, \"layout\": {\"annotationdefaults\": {\"arrowcolor\": \"#2a3f5f\", \"arrowhead\": 0, \"arrowwidth\": 1}, \"coloraxis\": {\"colorbar\": {\"outlinewidth\": 0, \"ticks\": \"\"}}, \"colorscale\": {\"diverging\": [[0, \"#8e0152\"], [0.1, \"#c51b7d\"], [0.2, \"#de77ae\"], [0.3, \"#f1b6da\"], [0.4, \"#fde0ef\"], [0.5, \"#f7f7f7\"], [0.6, \"#e6f5d0\"], [0.7, \"#b8e186\"], [0.8, \"#7fbc41\"], [0.9, \"#4d9221\"], [1, \"#276419\"]], \"sequential\": [[0.0, \"#0d0887\"], [0.1111111111111111, \"#46039f\"], [0.2222222222222222, \"#7201a8\"], [0.3333333333333333, \"#9c179e\"], [0.4444444444444444, \"#bd3786\"], [0.5555555555555556, \"#d8576b\"], [0.6666666666666666, \"#ed7953\"], [0.7777777777777778, \"#fb9f3a\"], [0.8888888888888888, \"#fdca26\"], [1.0, \"#f0f921\"]], \"sequentialminus\": [[0.0, \"#0d0887\"], [0.1111111111111111, \"#46039f\"], [0.2222222222222222, \"#7201a8\"], [0.3333333333333333, \"#9c179e\"], [0.4444444444444444, \"#bd3786\"], [0.5555555555555556, \"#d8576b\"], [0.6666666666666666, \"#ed7953\"], [0.7777777777777778, \"#fb9f3a\"], [0.8888888888888888, \"#fdca26\"], [1.0, \"#f0f921\"]]}, \"colorway\": [\"#636efa\", \"#EF553B\", \"#00cc96\", \"#ab63fa\", \"#FFA15A\", \"#19d3f3\", \"#FF6692\", \"#B6E880\", \"#FF97FF\", \"#FECB52\"], \"font\": {\"color\": \"#2a3f5f\"}, \"geo\": {\"bgcolor\": \"white\", \"lakecolor\": \"white\", \"landcolor\": \"#E5ECF6\", \"showlakes\": true, \"showland\": true, \"subunitcolor\": \"white\"}, \"hoverlabel\": {\"align\": \"left\"}, \"hovermode\": \"closest\", \"mapbox\": {\"style\": \"light\"}, \"paper_bgcolor\": \"white\", \"plot_bgcolor\": \"#E5ECF6\", \"polar\": {\"angularaxis\": {\"gridcolor\": \"white\", \"linecolor\": \"white\", \"ticks\": \"\"}, \"bgcolor\": \"#E5ECF6\", \"radialaxis\": {\"gridcolor\": \"white\", \"linecolor\": \"white\", \"ticks\": \"\"}}, \"scene\": {\"xaxis\": {\"backgroundcolor\": \"#E5ECF6\", \"gridcolor\": \"white\", \"gridwidth\": 2, \"linecolor\": \"white\", \"showbackground\": true, \"ticks\": \"\", \"zerolinecolor\": \"white\"}, \"yaxis\": {\"backgroundcolor\": \"#E5ECF6\", \"gridcolor\": \"white\", \"gridwidth\": 2, \"linecolor\": \"white\", \"showbackground\": true, \"ticks\": \"\", \"zerolinecolor\": \"white\"}, \"zaxis\": {\"backgroundcolor\": \"#E5ECF6\", \"gridcolor\": \"white\", \"gridwidth\": 2, \"linecolor\": \"white\", \"showbackground\": true, \"ticks\": \"\", \"zerolinecolor\": \"white\"}}, \"shapedefaults\": {\"line\": {\"color\": \"#2a3f5f\"}}, \"ternary\": {\"aaxis\": {\"gridcolor\": \"white\", \"linecolor\": \"white\", \"ticks\": \"\"}, \"baxis\": {\"gridcolor\": \"white\", \"linecolor\": \"white\", \"ticks\": \"\"}, \"bgcolor\": \"#E5ECF6\", \"caxis\": {\"gridcolor\": \"white\", \"linecolor\": \"white\", \"ticks\": \"\"}}, \"title\": {\"x\": 0.05}, \"xaxis\": {\"automargin\": true, \"gridcolor\": \"white\", \"linecolor\": \"white\", \"ticks\": \"\", \"title\": {\"standoff\": 15}, \"zerolinecolor\": \"white\", \"zerolinewidth\": 2}, \"yaxis\": {\"automargin\": true, \"gridcolor\": \"white\", \"linecolor\": \"white\", \"ticks\": \"\", \"title\": {\"standoff\": 15}, \"zerolinecolor\": \"white\", \"zerolinewidth\": 2}}}, \"xaxis\": {\"title\": {\"text\": \"Time ms (relative to stimulus onset)\"}}, \"yaxis\": {\"range\": [-0.2, 0.6], \"title\": {\"text\": \"Kendall-tau\"}}},\n",
       "                        {\"responsive\": true}\n",
       "                    ).then(function(){\n",
       "                            \n",
       "var gd = document.getElementById('7d09ac76-73af-411a-ac76-986a36fd38d6');\n",
       "var x = new MutationObserver(function (mutations, observer) {{\n",
       "        var display = window.getComputedStyle(gd).display;\n",
       "        if (!display || display === 'none') {{\n",
       "            console.log([gd, 'removed!']);\n",
       "            Plotly.purge(gd);\n",
       "            observer.disconnect();\n",
       "        }}\n",
       "}});\n",
       "\n",
       "// Listen for the removal of the full notebook cells\n",
       "var notebookContainer = gd.closest('#notebook-container');\n",
       "if (notebookContainer) {{\n",
       "    x.observe(notebookContainer, {childList: true});\n",
       "}}\n",
       "\n",
       "// Listen for the clearing of the current output cell\n",
       "var outputEl = gd.closest('.output');\n",
       "if (outputEl) {{\n",
       "    x.observe(outputEl, {childList: true});\n",
       "}}\n",
       "\n",
       "                        })\n",
       "                };\n",
       "                });\n",
       "            </script>\n",
       "        </div>"
      ]
     },
     "metadata": {},
     "output_type": "display_data"
    }
   ],
   "source": [
    "fig = go.Figure()\n",
    " \n",
    "# Plots the kendall tau curve\n",
    "fig.add_trace(go.Scatter(x=df_to_plot[\"time\"],\n",
    "                        y=df_to_plot[\"kendall_tau\"],\n",
    "                        mode='lines'))\n",
    "\n",
    "fig.add_trace(go.Scatter(x=sig_time,\n",
    "                        y=df_to_plot[df_to_plot.time.isin(sig_time)].kendall_tau,\n",
    "                        mode='markers'))\n",
    "\n",
    "fig.update_yaxes(range=[-0.2, 0.6])\n",
    "fig.update_yaxes(title_text=\"Kendall-tau\")\n",
    "fig.update_xaxes(title_text=\"Time ms (relative to stimulus onset)\")"
   ]
  },
  {
   "cell_type": "code",
   "execution_count": null,
   "metadata": {},
   "outputs": [],
   "source": [
    "plotly.offline.plot(fig, filename = \"outputs/TEST.html\", auto_open=False)"
   ]
  },
  {
   "cell_type": "code",
   "execution_count": null,
   "metadata": {},
   "outputs": [],
   "source": []
  }
 ],
 "metadata": {
  "kernelspec": {
   "display_name": "Python [conda env:agent_perception_rsa] *",
   "language": "python",
   "name": "conda-env-agent_perception_rsa-py"
  },
  "language_info": {
   "codemirror_mode": {
    "name": "ipython",
    "version": 3
   },
   "file_extension": ".py",
   "mimetype": "text/x-python",
   "name": "python",
   "nbconvert_exporter": "python",
   "pygments_lexer": "ipython3",
   "version": "3.6.10"
  }
 },
 "nbformat": 4,
 "nbformat_minor": 4
}
