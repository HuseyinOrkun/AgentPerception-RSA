{
 "cells": [
  {
   "cell_type": "code",
   "execution_count": 1,
   "metadata": {},
   "outputs": [],
   "source": [
    "import pandas as pd\n",
    "from statsmodels.sandbox.stats.multicomp import multipletests\n",
    "import plotly.express as px\n",
    "import plotly.graph_objs as go\n",
    "import plotly.offline as po\n",
    "import plotly.io as pio"
   ]
  },
  {
   "cell_type": "code",
   "execution_count": 2,
   "metadata": {},
   "outputs": [],
   "source": [
    "# Version 1\n",
    "mult_reg_results_n_v_1, _, _  = pd.read_pickle('/auto/data2/oelmas/RSA_Results_V1/Naive/Video/correlation_hamming_regression_results.pkl')\n",
    "mult_reg_results_n_mf_1, _, _  = pd.read_pickle('/auto/data2/oelmas/RSA_Results_V1/Naive/Still_MF/correlation_hamming_regression_results.pkl')\n",
    "mult_reg_results_n_ff_1, _, _  = pd.read_pickle('/auto/data2/oelmas/RSA_Results_V1/Naive/Still_FF/correlation_hamming_regression_results.pkl')\n",
    "\n",
    "mult_reg_results_p_v_1, _, _  = pd.read_pickle('/auto/data2/oelmas/RSA_Results_V1/Prior/Video/correlation_hamming_regression_results.pkl')\n",
    "mult_reg_results_p_s_1, _, _  = pd.read_pickle('/auto/data2/oelmas/RSA_Results_V1/Prior/Still/correlation_hamming_regression_results.pkl')\n",
    "\n",
    "v1_mult_reg_results = [mult_reg_results_n_v_1, mult_reg_results_n_mf_1, mult_reg_results_n_ff_1,mult_reg_results_p_v_1, mult_reg_results_p_s_1]\n",
    "v1_mult_reg_results = pd.concat(v1_mult_reg_results)"
   ]
  },
  {
   "cell_type": "code",
   "execution_count": 3,
   "metadata": {},
   "outputs": [],
   "source": [
    "# Version 2\n",
    "mult_reg_results_n_v_2, _, _  = pd.read_pickle('/auto/data2/oelmas/RSA_Results_V2/Naive/Video/correlation_hamming_regression_results.pkl')\n",
    "mult_reg_results_n_mf_2, _, _  = pd.read_pickle('/auto/data2/oelmas/RSA_Results_V2/Naive/Still_MF/correlation_hamming_regression_results.pkl')\n",
    "mult_reg_results_n_ff_2, _, _  = pd.read_pickle('/auto/data2/oelmas/RSA_Results_V2/Naive/Still_FF/correlation_hamming_regression_results.pkl')\n",
    "\n",
    "mult_reg_results_p_v_2, _, _  = pd.read_pickle('/auto/data2/oelmas/RSA_Results_V2/Prior/Video/correlation_hamming_regression_results.pkl')\n",
    "mult_reg_results_p_s_2, _, _  = pd.read_pickle('/auto/data2/oelmas/RSA_Results_V2/Prior/Still/correlation_hamming_regression_results.pkl')\n",
    "\n",
    "v2_mult_reg_results = [mult_reg_results_n_v_2, mult_reg_results_n_mf_2, mult_reg_results_n_ff_2,mult_reg_results_p_v_2, mult_reg_results_p_s_2]\n",
    "v2_mult_reg_results = pd.concat(v2_mult_reg_results)"
   ]
  },
  {
   "cell_type": "code",
   "execution_count": 9,
   "metadata": {},
   "outputs": [],
   "source": [
    "def visualize_significant_regressors(mult_reg_results, electrode_region, exp_type, stm_type, version):\n",
    "    er_idx = mult_reg_results.electrode_region==electrode_region\n",
    "    ex_idx = mult_reg_results.experiment_type==exp_type\n",
    "    st_idx = mult_reg_results.stimuli_type==stm_type\n",
    "    reg_df = mult_reg_results[ex_idx & st_idx & er_idx]\n",
    "    \n",
    "    if reg_df.empty:\n",
    "        print(\"Empty df: \" +exp_type+\"_\"+stm_type+\"_\"+electrode_region)\n",
    "    else:\n",
    "        sig_idx = multipletests(reg_df[\"p_value\"], alpha=0.05, method='bonferroni')[0]\n",
    "        reg_df.loc[:, 'significant'] = sig_idx.tolist()\n",
    "\n",
    "        sig_reg_df = reg_df.loc[reg_df['significant']]\n",
    "        \n",
    "        if not sig_reg_df.empty:\n",
    "            fig = px.line(sig_reg_df, \n",
    "                         x=\"time\", y=\"beta_value\",  color=\"model_name\",\n",
    "                        title=exp_type+\" \"+stm_type+\" \"+electrode_region+\" timepoints where the regressors reached significance\")\n",
    "\n",
    "            fig.update_yaxes(title_text=\"Regressors\")\n",
    "            fig.update_xaxes(range=[-200, 600], title_text=\"Time ms (relative to stimulus onset)\")\n",
    "            \n",
    "            fig.write_image(\"outputs/multiple-regression/V\"+str(version)+\"/\"+exp_type+\"_\"+stm_type+\"_\"+electrode_region+\"_significant_beta_vals.png\")\n",
    "            #po.plot(fig, filename = \"outputs/multiple-regression/V\"+str(version)+\"/\"+exp_type+\"_\"+stm_type+\"_\"+electrode_region+\"_significant_beta_vals.html\", auto_open=False)"
   ]
  },
  {
   "cell_type": "code",
   "execution_count": 10,
   "metadata": {},
   "outputs": [],
   "source": [
    "v1_mult_reg_results = v1_mult_reg_results[v1_mult_reg_results.model_name != 'constant']\n",
    "for electrode_region in v1_mult_reg_results.electrode_region.unique():\n",
    "    for exp_type in v1_mult_reg_results.experiment_type.unique():\n",
    "        for stm_type in v1_mult_reg_results.stimuli_type.unique():\n",
    "            if exp_type == \"prior\" and stm_type == \"still-mf\":\n",
    "                continue\n",
    "            visualize_significant_regressors(v1_mult_reg_results, electrode_region, exp_type, stm_type, 1)"
   ]
  },
  {
   "cell_type": "code",
   "execution_count": 11,
   "metadata": {},
   "outputs": [],
   "source": [
    "v2_mult_reg_results = v2_mult_reg_results[v2_mult_reg_results.model_name != 'constant']\n",
    "for electrode_region in v2_mult_reg_results.electrode_region.unique():\n",
    "    for exp_type in v2_mult_reg_results.experiment_type.unique():\n",
    "        for stm_type in v2_mult_reg_results.stimuli_type.unique():\n",
    "            if exp_type == \"prior\" and stm_type == \"still-mf\":\n",
    "                continue\n",
    "            visualize_significant_regressors(v2_mult_reg_results, electrode_region, exp_type, stm_type, 2)"
   ]
  },
  {
   "cell_type": "code",
   "execution_count": null,
   "metadata": {},
   "outputs": [],
   "source": [
    "#############################################################\n",
    "#############################################################"
   ]
  },
  {
   "cell_type": "code",
   "execution_count": null,
   "metadata": {},
   "outputs": [],
   "source": [
    "# Version 1\n",
    "mult_rsa_results_n_v_1, _, _  = pd.read_pickle('/auto/data2/oelmas/RSA_Results_V1/Naive/Video/correlation_hamming_avg_subject_results.pkl')\n",
    "mult_rsa_results_n_mf_1, _, _  = pd.read_pickle('/auto/data2/oelmas/RSA_Results_V1/Naive/Still_MF/correlation_hamming_avg_subject_results.pkl')\n",
    "mult_rsa_results_n_ff_1, _, _  = pd.read_pickle('/auto/data2/oelmas/RSA_Results_V1/Naive/Still_FF/correlation_hamming_avg_subject_results.pkl')\n",
    "\n",
    "mult_rsa_results_p_v_1, _, _  = pd.read_pickle('/auto/data2/oelmas/RSA_Results_V1/Prior/Video/correlation_hamming_avg_subject_results.pkl')\n",
    "mult_rsa_results_p_s_1, _, _  = pd.read_pickle('/auto/data2/oelmas/RSA_Results_V1/Prior/Still/correlation_hamming_avg_subject_results.pkl')\n",
    "\n",
    "v1_mult_rsa_results = [mult_reg_results_n_v_1, mult_reg_results_n_mf_1, mult_reg_results_n_ff_1,mult_reg_results_p_v_1, mult_reg_results_p_s_1]\n",
    "v1_mult_rsa_results = pd.concat(v1_mult_reg_results)"
   ]
  },
  {
   "cell_type": "code",
   "execution_count": null,
   "metadata": {},
   "outputs": [],
   "source": [
    "# Plot on the correlational plot\n",
    "avg_sbj_rsa_results, eeg_dist, model_dist  = pd.read_pickle('/auto/data2/oelmas/RSA_Results_V1//Naive/Video/correlation_hamming_avg_subjects_results.pkl')\n",
    "rdm_df = avg_sbj_results"
   ]
  },
  {
   "cell_type": "code",
   "execution_count": null,
   "metadata": {},
   "outputs": [],
   "source": [
    "def visualize_rsa_regression(rsa_df,mult_reg_results,model_name,electrode_region,exp_type,stm_type,version):\n",
    "    \n",
    "    # Get specified regression reesults\n",
    "    er_idx = mult_reg_results.electrode_region==electrode_region\n",
    "    ex_idx = mult_reg_results.experiment_type==exp_type\n",
    "    st_idx = mult_reg_results.stimuli_type==stm_type\n",
    "    md_idx = mult_reg_results.model_name==model_name\n",
    "    reg_df = mult_reg_results[ex_idx & st_idx & er_idx & md_idx]\n",
    "    \n",
    "    df_to_plot = rdm_df[(rdm_df[\"model_name\"] == model_name) \n",
    "                    & (rdm_df[\"electrode_region\"] == electrode_region)\n",
    "                    & (rdm_df[\"experiment_type\"] == exp_type) \n",
    "                    & (rdm_df[\"stimulus_type\"] == stm_type)]\n",
    "    \n",
    "    fig = go.Figure()\n",
    "\n",
    "    # Plots the kendall tau curve\n",
    "    fig.add_trace(go.Scatter(x=df_to_plot[\"time\"],\n",
    "                            y=df_to_plot[\"kendall_tau\"],\n",
    "                            mode='lines'))\n",
    "\n",
    "\n",
    "    fig.add_shape(\n",
    "            # Rectangle reference to the plot\n",
    "                type=\"rect\",\n",
    "                xref=\"x\",\n",
    "                yref=\"paper\",\n",
    "                x0=min(reg_df.loc[reg_df['significant']].time),\n",
    "                y0=0,\n",
    "                x1=max(reg_df.loc[reg_df['significant']].time),\n",
    "                y1=1,\n",
    "                opacity=0.4,\n",
    "                layer=\"below\",\n",
    "                line_width=0,\n",
    "                fillcolor=\"LightSalmon\",\n",
    "                name='Model reached significance in the multiple regression analysis',\n",
    "            )\n",
    "\n",
    "    fig.update_yaxes(title_text=\"Kendall-tau\")\n",
    "    fig.update_xaxes(range=[-200, 600], title_text=\"Time ms (relative to stimulus onset)\")\n",
    "\n",
    "    fig.update_layout(\n",
    "        height=800,\n",
    "        title_text='Correlation of the ' + model_name + ' model',\n",
    "        showlegend=True\n",
    "    )\n",
    "\n",
    "    po.plot(fig, filename = \"outputs/multiple-regression/TEST.html\", auto_open=False)"
   ]
  },
  {
   "cell_type": "code",
   "execution_count": null,
   "metadata": {},
   "outputs": [],
   "source": []
  },
  {
   "cell_type": "code",
   "execution_count": null,
   "metadata": {},
   "outputs": [],
   "source": []
  },
  {
   "cell_type": "code",
   "execution_count": null,
   "metadata": {},
   "outputs": [],
   "source": [
    "#############################################################\n",
    "#############################################################\n",
    "# variance inflation factor\n",
    "VIF =  pd.read_csv('/auto/data2/oelmas/RSA_Results_V1//Naive/Video/VIF_Results.csv', index_col=[0])\n",
    "print(VIF)"
   ]
  }
 ],
 "metadata": {
  "kernelspec": {
   "display_name": "Python 3",
   "language": "python",
   "name": "python3"
  },
  "language_info": {
   "codemirror_mode": {
    "name": "ipython",
    "version": 3
   },
   "file_extension": ".py",
   "mimetype": "text/x-python",
   "name": "python",
   "nbconvert_exporter": "python",
   "pygments_lexer": "ipython3",
   "version": "3.7.3"
  }
 },
 "nbformat": 4,
 "nbformat_minor": 4
}
