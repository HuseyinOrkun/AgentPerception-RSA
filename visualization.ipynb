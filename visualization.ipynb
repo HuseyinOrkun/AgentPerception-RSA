{
 "cells": [
  {
   "cell_type": "code",
   "execution_count": 1,
   "metadata": {},
   "outputs": [],
   "source": [
    "import pickle\n",
    "import plotly.io as pio\n",
    "import plotly.graph_objects as go\n",
    "import plotly.express as px\n",
    "import json\n",
    "import pandas as pd\n",
    "import numpy as np\n",
    "import os\n",
    "import glob\n",
    "import os.path\n",
    "import chart_studio.plotly as py\n",
    "import plotly.graph_objs as go\n",
    "from itertools import product\n",
    "from plotly.subplots import make_subplots\n",
    "import  plotly.graph_objs as go \n",
    "import plotly\n",
    "from itertools import product"
   ]
  },
  {
   "cell_type": "code",
   "execution_count": 2,
   "metadata": {},
   "outputs": [],
   "source": [
    "# Paths to all pkl files \n",
    "naive_still_path = '/Users/huseyinelmas/Desktop/CCN-Lab/CCN-RSA/RSA_Results/Naive/Still_MF/'\n",
    "naive_video_path = '/Users/huseyinelmas/Desktop/CCN-Lab/CCN-RSA/RSA_Results/Naive/Video/'\n",
    "prior_still_path = '/Users/huseyinelmas/Desktop/CCN-Lab/CCN-RSA/RSA_Results/Prior/Still/'\n",
    "prior_video_path = '/Users/huseyinelmas/Desktop/CCN-Lab/CCN-RSA/RSA_Results/Prior/Video/'\n"
   ]
  },
  {
   "cell_type": "code",
   "execution_count": 3,
   "metadata": {},
   "outputs": [],
   "source": [
    "# add find the files and and take pkl\n",
    "naive_still_path = glob.glob(os.path.join(naive_still_path, '*.pkl'))[0]\n",
    "naive_video_path = glob.glob(os.path.join(naive_video_path, '*.pkl'))[0]\n",
    "prior_still_path = glob.glob(os.path.join(prior_still_path, '*.pkl'))[0]\n",
    "prior_video_path = glob.glob(os.path.join(prior_video_path, '*.pkl'))[0]"
   ]
  },
  {
   "cell_type": "code",
   "execution_count": 4,
   "metadata": {},
   "outputs": [],
   "source": [
    "# Load pickle files as dataframes eeg, rdm distance metrics\n",
    "n_s_rdm_statistics_df, eeg_rdm_dist_metric, model_rdm_dist_metric = pd.read_pickle(naive_still_path)\n",
    "n_v_rdm_statistics_df, eeg_rdm_dist_metric, model_rdm_dist_metric = pd.read_pickle(naive_video_path)\n",
    "p_s_rdm_statistics_df, eeg_rdm_dist_metric, model_rdm_dist_metric = pd.read_pickle(prior_still_path)\n",
    "p_v_rdm_statistics_df, eeg_rdm_dist_metric, model_rdm_dist_metric = pd.read_pickle(prior_video_path)"
   ]
  },
  {
   "cell_type": "code",
   "execution_count": 11,
   "metadata": {
    "scrolled": true
   },
   "outputs": [
    {
     "name": "stderr",
     "output_type": "stream",
     "text": [
      "/Users/huseyinelmas/anaconda3/lib/python3.7/site-packages/ipykernel_launcher.py:3: FutureWarning:\n",
      "\n",
      "Sorting because non-concatenation axis is not aligned. A future version\n",
      "of pandas will change to not sort by default.\n",
      "\n",
      "To accept the future behavior, pass 'sort=False'.\n",
      "\n",
      "To retain the current behavior and silence the warning, pass 'sort=True'.\n",
      "\n",
      "\n"
     ]
    }
   ],
   "source": [
    "# Merge all dfs in one df\n",
    "frames = [n_s_rdm_statistics_df, n_v_rdm_statistics_df, p_s_rdm_statistics_df,p_v_rdm_statistics_df]\n",
    "rdm_df = pd.concat(frames)"
   ]
  },
  {
   "cell_type": "code",
   "execution_count": 12,
   "metadata": {},
   "outputs": [],
   "source": [
    "def find_significant_rdms(df, alpha=0.001,correct=True):\n",
    "    pos_corr_rdms =  df[df.kendall_tau > 0]\n",
    "    n_test = 1\n",
    "    if correct:\n",
    "        n_test = 400\n",
    "    significant_rdms = pos_corr_rdms[pos_corr_rdms[\"kendall_p-value\"]/2 <= (alpha/n_test)]\n",
    "    return significant_rdms"
   ]
  },
  {
   "cell_type": "code",
   "execution_count": 13,
   "metadata": {},
   "outputs": [],
   "source": [
    "def plot_experiment_stimuli_comparisons(rdm_df,electrode_region, model_name):\n",
    "    fig = make_subplots(rows=2, cols=2,shared_yaxes=False,\n",
    "    subplot_titles=(\"Naive: Still vs Video\", \"Prior: Still vs Video\", \n",
    "                    \"Still: Naive vs Prior\", \"Video: Naive vs Prior\"))\n",
    "    colors = px.colors.qualitative.Plotly \n",
    "    \n",
    "    variables = ['still', 'video']\n",
    "    constants = ['naive', 'prior']\n",
    "    conditions = [\"naive still\", \"naive video\", \"prior still\", \"prior video\"]\n",
    "    c_no = 0\n",
    "    \n",
    "    # Plots for Naive still vs Naive video, Prior still vs Prior video \n",
    "    for col_no, constant in enumerate(constants):\n",
    "        for variable in variables:\n",
    "            df_to_plot = rdm_df[(rdm_df[\"model_name\"] == model_name) \n",
    "                                & (rdm_df[\"electrode_region\"] == electrode_region)\n",
    "                                & (rdm_df[\"experiment_type\"] == constant) \n",
    "                                & (rdm_df[\"stimulus_type\"] == variable)]\n",
    "            pos_corr = find_significant_rdms(df_to_plot)[\"time\"].tolist()           \n",
    "            # Plots the kendall tau curve\n",
    "            fig.add_trace(go.Scatter(x=df_to_plot[\"time\"],\n",
    "                                    y=df_to_plot[\"kendall_tau\"],\n",
    "                                    legendgroup=constant + \" \" + variable,\n",
    "                                    mode='lines',\n",
    "                                    name=constant + \" \" + variable,\n",
    "                                    line_color = colors[conditions.index(constant + \" \" + variable)]),\n",
    "                                    row=1, col=col_no+1)\n",
    "            \n",
    "            # Plotting the significance points in below the curves\n",
    "            fig.add_trace(go.Scatter(\n",
    "                            mode='markers',\n",
    "                            legendgroup=constant + \" \" + variable,\n",
    "                            name=constant + \" \" + variable,\n",
    "                            x=pos_corr,\n",
    "                            y=[-.1-(c_no*.02) for _ in range(len(pos_corr))],\n",
    "                            marker=dict( size=2,color= colors[conditions.index(constant + \" \" + variable)]),\n",
    "                            showlegend=False),row = 1, col=col_no+1)\n",
    "            \n",
    "            fig.update_yaxes(range=[-0.2, 0.6])\n",
    "            fig.update_yaxes(title_text=\"Kendall-tau\", row=1, col=col_no+1)\n",
    "            fig.update_xaxes(title_text=\"Time ms (relative to stimulus onset)\",  row=1, col=col_no+1)\n",
    "            c_no = c_no+1\n",
    "\n",
    "     # Plots for Prior Still vs Naive Still, Naive video vs Prior video \n",
    "    constants = ['still', 'video']\n",
    "    variables = ['naive','prior']\n",
    "    c_no = 0\n",
    "    for col_no, constant in enumerate(constants):\n",
    "        for  variable in variables:\n",
    "            \n",
    "            df_to_plot = rdm_df[(rdm_df[\"model_name\"] == model_name) \n",
    "                                & (rdm_df[\"electrode_region\"] == electrode_region)\n",
    "                                & (rdm_df[\"experiment_type\"] == variable) \n",
    "                                & (rdm_df[\"stimulus_type\"] == constant)]\n",
    "            pos_corr = find_significant_rdms(df_to_plot)[\"time\"].tolist()   \n",
    "            # Plotting the kendall tau curve\n",
    "            fig.add_trace(go.Scatter(x=df_to_plot[\"time\"],\n",
    "                                    y=df_to_plot[\"kendall_tau\"],\n",
    "                                    mode='lines',\n",
    "                                    legendgroup=variable + \" \" + constant,\n",
    "                                    name= variable + \" \" + constant,\n",
    "                                    line_color = colors[conditions.index(variable + \" \" + constant)]),\n",
    "                                    row=2, col=col_no+1)\n",
    "            \n",
    "            # Significance dots plotting\n",
    "            fig.add_trace(go.Scatter(mode='markers',\n",
    "                            legendgroup=variable + \" \" + constant,\n",
    "                            name=variable + \" \" + constant,\n",
    "                            x=pos_corr,\n",
    "                            y=[-.1-(c_no*.02) for _ in range(len(pos_corr))],\n",
    "                            marker=dict(size=2,color= colors[conditions.index(variable + \" \" + constant)]),\n",
    "                            showlegend=False),row = 2, col=col_no+1)\n",
    "            fig.update_yaxes(range=[-0.2, 0.6])\n",
    "            fig.update_yaxes(title_text=\"Kendall-tau\", row=1, col=col_no+1)\n",
    "            c_no = c_no+1\n",
    "    fig.update_layout(height=1000, width=1700,title=electrode_region + \" \" + model_name,\n",
    "    xaxis_title=\"Time ms (relative to stimulus onset)\",\n",
    "    yaxis_title=\"Kendall-tau\",\n",
    "    font=dict(size=18,color=\"#000000\"))\n",
    "    plotly.offline.plot(fig, filename = \"RSA_Results/new_plots/\"+\n",
    "                        electrode_region + \"_\" + model_name +'_experiment_stimuli_comparison.html', auto_open=False)    "
   ]
  },
  {
   "cell_type": "code",
   "execution_count": 9,
   "metadata": {},
   "outputs": [],
   "source": [
    "# For testing only occipital of action category\n",
    "arg_dict = {\"action_category_hamming\":[\"occipital\"]}\n",
    "for model, electrode_region_list in arg_dict.items():\n",
    "    for electrode_region in electrode_region_list:    \n",
    "        plot_experiment_stimuli_comparisons(rdm_df,electrode_region, model)\n"
   ]
  },
  {
   "cell_type": "code",
   "execution_count": 10,
   "metadata": {},
   "outputs": [],
   "source": [
    "# Plots for all models parietal and occipital channels naive, prior x still video\n",
    "arg_dict = {model : [\"parietal\",\"occipital\"] for model in rdm_df[\"model_name\"].unique()   }\n",
    "for model, electrode_region_list in arg_dict.items():\n",
    "    for electrode_region in electrode_region_list:    \n",
    "        plot_experiment_stimuli_comparisons(rdm_df,electrode_region, model)\n",
    "\n"
   ]
  },
  {
   "cell_type": "code",
   "execution_count": 19,
   "metadata": {},
   "outputs": [],
   "source": [
    "def plot_channels(model_name=\"biological_appearance_hamming\"):\n",
    "    colors = px.colors.qualitative.Plotly\n",
    "    fig = make_subplots(rows=2, cols=2,shared_yaxes=True,\n",
    "                        subplot_titles=(\"Naive Still \", \"Naive Video\", \n",
    "                                        \"Prior Still\", \"Prior Video\"))\n",
    "    er_list=rdm_df[\"electrode_region\"].unique().tolist()\n",
    "    for row_no, exp_type in enumerate(['naive', 'prior']):\n",
    "        for col_no, stm_type in enumerate(['still', 'video']):\n",
    "                df_of_model = rdm_df[rdm_df[\"model_name\"] == model_name]    \n",
    "                df = df_of_model[(df_of_model[\"experiment_type\"] == exp_type) &\n",
    "                                 (df_of_model[\"stimulus_type\"] == stm_type)]\n",
    "                sig_time={}\n",
    "                # Calculate significance for each electrode\n",
    "                for er in list(df[\"electrode_region\"].unique()):\n",
    "                    sig_time[er] = find_significant_rdms(df[df[\"electrode_region\"] ==  er])[\"time\"].tolist()\n",
    "\n",
    "                for i, er in enumerate(sig_time.keys()):\n",
    "                    if row_no == 0 and col_no == 0:\n",
    "                        df_er = df[df[\"electrode_region\"]==er]\n",
    "                        fig.add_trace(\n",
    "                            go.Scatter(mode='lines',\n",
    "                                x=df_er[\"time\"],\n",
    "                                y=df_er[\"kendall_tau\"], \n",
    "                                line_color=colors[er_list.index(er)],\n",
    "                                legendgroup=er,\n",
    "                            name=er),\n",
    "                            row = row_no+1, col=col_no+1\n",
    "                        )\n",
    "                    else:\n",
    "                        df_er = df[df[\"electrode_region\"]==er]\n",
    "                        fig.add_trace(\n",
    "                            go.Scatter(\n",
    "                                mode='lines',\n",
    "                                x=df_er[\"time\"],\n",
    "                                y=df_er[\"kendall_tau\"], \n",
    "                                line_color=colors[er_list.index(er)],\n",
    "                                legendgroup=er,\n",
    "                                showlegend=False,\n",
    "                            name=er),\n",
    "                            row = row_no+1, col=col_no+1\n",
    "                        )                \n",
    "                    fig.add_trace(\n",
    "                        go.Scatter(\n",
    "                            mode='markers',\n",
    "                            legendgroup=er,\n",
    "                            name=er,\n",
    "                            x=sig_time[er],\n",
    "                            y=[-.1-(i*.02) for _ in range(len(sig_time[er]))],\n",
    "                            marker=dict(\n",
    "                                size=2,\n",
    "                                color= er_list.index(er)),\n",
    "                            showlegend=False),\n",
    "                        row = row_no+1, col=col_no+1\n",
    "                    )\n",
    "                    fig.update_yaxes(range=[-0.2, 0.6])\n",
    "                    fig.update_yaxes(title_text=\"Kendall-tau\", row=row_no+1, col=col_no+1)\n",
    "                    fig.update_xaxes(title_text=\"Time ms (relative to stimulus onset)\",  row=row_no+1, col=col_no+1)\n",
    "    fig.update_layout(\n",
    "        height=1200, width=2000,\n",
    "        title= model_name)\n",
    "    plotly.offline.plot(fig, filename = \"RSA_Results/plots/\"+model_name+'_channel_wise_comparison.html', auto_open=False)"
   ]
  },
  {
   "cell_type": "code",
   "execution_count": 20,
   "metadata": {},
   "outputs": [],
   "source": [
    "for model_name in list(rdm_df[\"model_name\"].unique()):\n",
    "    plot_channels(model_name)"
   ]
  },
  {
   "cell_type": "code",
   "execution_count": 18,
   "metadata": {
    "scrolled": true
   },
   "outputs": [],
   "source": [
    "def model_comparisons(electrode_region=\"parietal\"):\n",
    "    colors = px.colors.qualitative.Plotly\n",
    "    fig = make_subplots(rows=2, cols=2,shared_yaxes=True,\n",
    "                        subplot_titles=(\"Naive Still \", \"Naive Video\",\"Prior Still\", \"Prior Video\"))\n",
    "    models = list(rdm_df[\"model_name\"].unique())\n",
    "    for row_no, exp_type in enumerate(['naive', 'prior']):\n",
    "        for col_no, stm_type in enumerate(['still', 'video']):\n",
    "            df = rdm_df[(rdm_df[\"electrode_region\"] == electrode_region)&\n",
    "                        (rdm_df[\"experiment_type\"] == exp_type)&\n",
    "                        (rdm_df[\"stimulus_type\"] == stm_type)]\n",
    "            for i, model in enumerate(models):\n",
    "                sig_time = {}\n",
    "                df_model = df[df[\"model_name\"]==model]\n",
    "                sig_time[model] = find_significant_rdms(df_model)[\"time\"].tolist()\n",
    "                fig.add_trace(\n",
    "                    go.Scatter(mode='lines',\n",
    "                        x=df_model[\"time\"],\n",
    "                        y=df_model[\"kendall_tau\"], \n",
    "                        line_color=colors[models.index(model)],\n",
    "                        legendgroup=model,name=model),\n",
    "                    row = row_no+1, col=col_no+1\n",
    "                ) \n",
    "                fig.add_trace(\n",
    "                    go.Scatter(\n",
    "                        mode='markers',\n",
    "                        legendgroup=model,\n",
    "                        name=model,\n",
    "                        x=sig_time[model],\n",
    "                        y=[-.1-(i*.02) for _ in range(len(sig_time[model]))],\n",
    "                        marker=dict(size=2,color= colors[models.index(model)]),showlegend=False),row = row_no+1, col=col_no+1)\n",
    "                fig.update_yaxes(range=[-0.5, 0.8])\n",
    "                fig.update_yaxes(title_text=\"Kendall-tau\", row=row_no+1, col=col_no+1)\n",
    "                fig.update_xaxes(title_text=\"Time ms (relative to stimulus onset)\",  row=row_no+1, col=col_no+1)\n",
    "        fig.update_layout(height=1200, width=2000,title= electrode_region)\n",
    "        plotly.offline.plot(fig, filename = \"RSA_Results/test_plots/\"+electrode_region+'_model_comparison.html', auto_open=False)"
   ]
  },
  {
   "cell_type": "code",
   "execution_count": 19,
   "metadata": {
    "scrolled": true
   },
   "outputs": [],
   "source": [
    "for electrode_region in list(rdm_df[\"electrode_region\"].unique()):\n",
    "    model_comparisons(electrode_region)"
   ]
  },
  {
   "cell_type": "code",
   "execution_count": 27,
   "metadata": {
    "scrolled": true
   },
   "outputs": [],
   "source": [
    "# TODO: Add saving, change figure names axes information etc when necessary\n",
    "# Plot seperated subjects figure (line graph for each subject)\n",
    "def plot_seperated_subjects(seperated_subjects_dataframe, model_name, electrode_region):\n",
    "    colors = px.colors.qualitative.Dark24\n",
    "    subjects = list(seperated_subjects_data[\"subject_no\"].unique())\n",
    "    fig = make_subplots(rows=2, cols=2,shared_yaxes=False,\n",
    "                        subplot_titles=(\"Naive Still \", \"Naive Video\", \n",
    "                                        \"Prior Still\", \"Prior Video\"))\n",
    "    for row_no, exp_type in enumerate(['naive', 'prior']):\n",
    "        for col_no, stm_type in enumerate(['still-mf', 'video']):\n",
    "            color_no=0\n",
    "            df_to_plot = seperated_subjects_dataframe[(seperated_subjects_dataframe[\"experiment_type\"] == exp_type) &\n",
    "            (seperated_subjects_dataframe[\"stimulus_type\"] == stm_type)&\n",
    "            (seperated_subjects_dataframe[\"model_name\"] == model_name)&\n",
    "            (seperated_subjects_dataframe[\"electrode_region\"] == electrode_region)]\n",
    "            \n",
    "            for subject in subjects:\n",
    "                fig.add_trace(go.Scatter(x=df_to_plot[df_to_plot[\"subject_no\"]==subject][\"time\"],\n",
    "                        y=df_to_plot[df_to_plot[\"subject_no\"]==subject][\"kendall_tau\"],\n",
    "                        mode=\"lines\",\n",
    "                        name=\"Subject\" +str(subject),\n",
    "                        line_color=colors[color_no],\n",
    "                        legendgroup=str(subject)),\n",
    "                        row = row_no+1, col=col_no+1) \n",
    "                color_no = color_no + 1        \n",
    "    fig.update_layout(\n",
    "        height=1000, width=1000,\n",
    "        title= model_name + electrode_region)                \n",
    "    fig.show()"
   ]
  },
  {
   "cell_type": "code",
   "execution_count": 19,
   "metadata": {
    "scrolled": true
   },
   "outputs": [],
   "source": [
    "plot_seperated_subjects(seperated_subjects_data,\"agent_hamming\",\"occipital\")"
   ]
  },
  {
   "cell_type": "code",
   "execution_count": null,
   "metadata": {},
   "outputs": [],
   "source": [
    "# Load Naive Video RDMs for occipital region\n",
    "          \n",
    "windowed_eeg_rdm_dict_n_v = {}\n",
    "with h5py.File(\"/Users/huseyinelmas/Desktop/CCN-Lab/CCN-RSA/RSA_Results/Naive\"+\n",
    "               \"/Video/eegRDMs/eeg_rdm_naive_video_occipital_1_correlation.hdf5\", \"r\") as f:\n",
    "    attributes = list(f.attrs.items())\n",
    "    for key in list(f.keys()):\n",
    "          windowed_eeg_rdm_dict_n_v[tuple(map(int, key[1:-1].split(',')))] = np.asarray(f[key][\"rdm\"])\n",
    "\n",
    "# Load Prior Video RDMs for occipital region\n",
    "windowed_eeg_rdm_dict_p_v = {}\n",
    "with h5py.File(\"/Users/huseyinelmas/Desktop/CCN-Lab/CCN-RSA/RSA_Results/Prior\"+\n",
    "               \"/Video/eegRDMs/eeg_rdm_prior_video_occipital_1_correlation.hdf5\", \"r\") as f:\n",
    "    attributes = list(f.attrs.items())\n",
    "    for key in list(f.keys()):\n",
    "          windowed_eeg_rdm_dict_p_v[tuple(map(int, key[1:-1].split(',')))] = np.asarray(f[key][\"rdm\"])\n",
    "            \n",
    "# Load Prior Still RDMs for occipital region\n",
    "windowed_eeg_rdm_dict_p_s = {}\n",
    "with h5py.File(\"/Users/huseyinelmas/Desktop/CCN-Lab/CCN-RSA/RSA_Results/Prior\"+\n",
    "               \"/Still/eegRDMs/eeg_rdm_prior_still_occipital_1_correlation.hdf5\", \"r\") as f:\n",
    "    attributes = list(f.attrs.items())\n",
    "    for key in list(f.keys()):\n",
    "          windowed_eeg_rdm_dict_p_s[tuple(map(int, key[1:-1].split(',')))] = np.asarray(f[key][\"rdm\"])\n",
    "\n",
    "# Load Naive Still RDMs for occipital region\n",
    "# TODO: add Naive still middle frame and first frame support\n",
    "windowed_eeg_rdm_dict_n_s = {}\n",
    "with h5py.File(\"/Users/huseyinelmas/Desktop/CCN-Lab/CCN-RSA/RSA_Results/Naive\"+\n",
    "               \"/Still/eegRDMs/eeg_rdm_naive_still_occipital_1_correlation.hdf5\", \"r\") as f:\n",
    "    attributes = list(f.attrs.items())\n",
    "    for key in list(f.keys()):\n",
    "          windowed_eeg_rdm_dict_n_s[tuple(map(int, key[1:-1].split(',')))] = np.asarray(f[key][\"rdm\"])\n",
    "  "
   ]
  },
  {
   "cell_type": "code",
   "execution_count": null,
   "metadata": {},
   "outputs": [],
   "source": [
    "stimuli =[\"robot-drink\",\"robot-grasp\",\"robot-handwave\",\"robot-talk\",\"robot-nudge\",\n",
    "        \"robot-paper\",\"robot-turn\",\"robot-wipe\",\"android-drink\",\"android-grasp\",\"android-handwave\",\n",
    "        \"android-talk\",\"android-nudge\",\"android-paper\",\"android-turn\",\"android-wipe\",\"human-drink\",\n",
    "        \"human-grasp\",\"human-handwave\",\"human-talk\",\"human-nudge\",\"human-paper\",\"human-turn\",\"human-wipe\"]"
   ]
  },
  {
   "cell_type": "code",
   "execution_count": null,
   "metadata": {},
   "outputs": [],
   "source": [
    "# TODO: debug wasnt working on prior\n",
    "# Finds the start and end times of significane by if significance continues looking at 5 ahead and 5 behind indices\n",
    "def inner(df_sorted):\n",
    "    start_times=[]\n",
    "    end_times=[]\n",
    "    sig_wind_times=[]\n",
    "    for i in range(df_sorted.shape[0]):\n",
    "        if(df_sorted.iloc[i:-1, :].shape[0] > 5):\n",
    "            if(( df_sorted.iloc[i+1].time == df_sorted.iloc[i].time+2) and \n",
    "               ( df_sorted.iloc[i+2].time == df_sorted.iloc[i+1].time+2) and\n",
    "               ( df_sorted.iloc[i+3].time == df_sorted.iloc[i+2].time+2) and\n",
    "               ( df_sorted.iloc[i+4].time == df_sorted.iloc[i+3].time+2) and\n",
    "               ( df_sorted.iloc[i-1].time != df_sorted.iloc[i].time-2)):\n",
    "                start_times.append(df_sorted.iloc[i].time) \n",
    "        if(df_sorted.iloc[:i, :].shape[0] > 5):\n",
    "            if(( df_sorted.iloc[i-1].time == df_sorted.iloc[i].time-2) and \n",
    "               ( df_sorted.iloc[i-2].time == df_sorted.iloc[i-1].time-2) and\n",
    "               ( df_sorted.iloc[i-3].time == df_sorted.iloc[i-2].time-2) and\n",
    "               ( df_sorted.iloc[i-4].time == df_sorted.iloc[i-3].time-2) and\n",
    "               (df_sorted.shape[0] <=i+1 or df_sorted.iloc[i+1].time != df_sorted.iloc[i].time+2 )):\n",
    "                end_times.append(df_sorted.iloc[i].time) \n",
    "        \n",
    "    return start_times, end_times"
   ]
  },
  {
   "cell_type": "code",
   "execution_count": null,
   "metadata": {},
   "outputs": [],
   "source": [
    "# Find significant Kendall taus, does the benforroni correction and tail calculation\n",
    "def find_significant_rdms(df, correct=True):\n",
    "\n",
    "    pos_corr_rdms =  df[ df.kendall_tau > 0]\n",
    "    alpha=0.001\n",
    "    n_test = 1\n",
    "    if correct:\n",
    "        n_test = 400\n",
    "    significant_rdms = pos_corr_rdms[pos_corr_rdms[\"kendall_p-value\"]/2 <= (alpha/n_test)]\n",
    "    return significant_rdms\n",
    "\n"
   ]
  },
  {
   "cell_type": "code",
   "execution_count": null,
   "metadata": {},
   "outputs": [],
   "source": [
    "# Plots rdms as heatpmap and returns the image\n",
    "def plot_rdm_heatmap(RDM,subject,time_window):\n",
    "    fig, ax = plt.subplots(figsize=(10,5))\n",
    "    img=ax.imshow(squareform(RDM), interpolation='nearest')\n",
    "    ax.set(title='EEG rdm of subject ' + str(subject) + ' at time window ' + str(2*(time_window[0]-100)))    # Used to return the plot as an image rray\n",
    "    ax.set_xticks(np.arange(len(stimuli)))\n",
    "    ax.set_yticks(np.arange(len(stimuli)))\n",
    "    # ... and label them with the respective list entries\n",
    "    ax.set_xticklabels(stimuli)\n",
    "    ax.set_yticklabels(stimuli)\n",
    "    for tick in ax.get_xticklabels():\n",
    "        tick.set_rotation(90)\n",
    "    fig.colorbar(img)\n",
    "    fig.canvas.draw()       # draw the canvas, cache the renderer\n",
    "    image = np.frombuffer(fig.canvas.tostring_rgb(), dtype='uint8')\n",
    "    image  = image.reshape(fig.canvas.get_width_height()[::-1] + (3,))\n",
    "    return image"
   ]
  },
  {
   "cell_type": "code",
   "execution_count": 51,
   "metadata": {
    "scrolled": true
   },
   "outputs": [],
   "source": [
    "# Given a subject, converts the heatmaps to a gif\n",
    "# TODOO: check this\n",
    "subject=0\n",
    "kwargs_write = {'fps':4, 'quantizer':'nq'}\n",
    "name = \"still_subject_\"+str(subject)+\"_EEG_RDM\"\n",
    "imageio.mimsave('./' + name +'.gif', [plot_rdm_heatmap(windowed_eeg_rdm_dict[(start_time,start_time+1)][subject]\n",
    "                                ,subject, (start_time,start_time+1))\n",
    "                                 for start_time in range(len(windowed_eeg_rdm_dict.keys()))], fps=4)"
   ]
  },
  {
   "cell_type": "code",
   "execution_count": null,
   "metadata": {},
   "outputs": [],
   "source": [
    "# Plot max significant points in all conditions\n",
    "# TODO: Debug prior there was a problem\n",
    "# TODO: Add support for mf and ff\n",
    "# TODO: After debugging turn into function\n",
    "er=\"occipital\"\n",
    "model=\"agent_hamming\"\n",
    "start_time=0\n",
    "# Create mean kendall tau lines for still and video \n",
    "df_n_s = rdm_avg_df[(rdm_avg_df.electrode_region == er) & (rdm_avg_df.experiment_type==\"naive\")&\n",
    "       (rdm_avg_df.model_name==model) & (rdm_avg_df.stimulus_type==\"still\")].set_index(\"time\")[[\"kendall_tau\",\"kendall_p-value\"]] \n",
    "df_n_v = rdm_avg_df[(rdm_avg_df.electrode_region == er) & (rdm_avg_df.experiment_type==\"naive\")&\n",
    "       (rdm_avg_df.model_name==model) & (rdm_avg_df.stimulus_type==\"video\")].set_index(\"time\")[[\"kendall_tau\",\"kendall_p-value\"]]\n",
    "df_p_s = rdm_avg_df[(rdm_avg_df.electrode_region == er) & (rdm_avg_df.experiment_type==\"prior\")&\n",
    "       (rdm_avg_df.model_name==model) & (rdm_avg_df.stimulus_type==\"still\")].set_index(\"time\")[[\"kendall_tau\",\"kendall_p-value\"]] \n",
    "df_p_v = rdm_avg_df[(rdm_avg_df.electrode_region == er) & (rdm_avg_df.experiment_type==\"prior\")&\n",
    "       (rdm_avg_df.model_name==model) & (rdm_avg_df.stimulus_type==\"video\")].set_index(\"time\")[[\"kendall_tau\",\"kendall_p-value\"]]\n",
    "\n",
    "\n",
    "# Find significance\n",
    "pos_corr_n_s = find_significant_rdms(rdm_avg_df[(rdm_avg_df.electrode_region == er) & (rdm_avg_df.experiment_type==\"naive\")&\n",
    "       (rdm_avg_df.model_name==model) & (rdm_avg_df.stimulus_type==\"still\")].sort_values(by=\"time\"))\n",
    "pos_corr_n_v = find_significant_rdms(rdm_avg_df[(rdm_avg_df.electrode_region == er) & (rdm_avg_df.experiment_type==\"naive\")&\n",
    "       (rdm_avg_df.model_name==model) & (rdm_avg_df.stimulus_type==\"video\")].sort_values(by=\"time\"))\n",
    "pos_corr_p_s = find_significant_rdms(rdm_avg_df[(rdm_avg_df.electrode_region == er) & (rdm_avg_df.experiment_type==\"prior\")&\n",
    "       (rdm_avg_df.model_name==model) & (rdm_avg_df.stimulus_type==\"still\")].sort_values(by=\"time\"))\n",
    "pos_corr_p_v = find_significant_rdms(rdm_avg_df[(rdm_avg_df.electrode_region == er) &(rdm_avg_df.experiment_type==\"prior\")&\n",
    "       (rdm_avg_df.model_name==model) & (rdm_avg_df.stimulus_type==\"video\")].sort_values(by=\"time\"))\n",
    "\n",
    "start_times_ns, end_times_ns = inner(pos_corr_n_s)\n",
    "start_times_nv, end_times_nv = inner(pos_corr_n_v)\n",
    "start_times_pv, end_times_pv = inner(pos_corr_p_v)\n",
    "\n",
    "max_ns_idx =[]\n",
    "max_nv_idx= []\n",
    "\n",
    "max_ps_idx =[]\n",
    "max_pv_idx =[]\n",
    "\n",
    "\n",
    "\n",
    "# Find max RDMs of these windows for ns\n",
    "for i,start_time in enumerate(start_times_ns):\n",
    "    end_time = end_times_ns[i]\n",
    "    max_ns_idx.append(df_n_s.loc[start_time:end_time, 'kendall_tau'].idxmax())\n",
    "\n",
    "# Find max RDMs of these windows for nv\n",
    "for i,start_time in enumerate(start_times_nv):\n",
    "    end_time = end_times_nv[i]\n",
    "    max_nv_idx.append(df_n_v.loc[start_time:end_time, 'kendall_tau'].idxmax())\n",
    "\n",
    "    "
   ]
  },
  {
   "cell_type": "code",
   "execution_count": null,
   "metadata": {
    "scrolled": true
   },
   "outputs": [],
   "source": [
    "\n",
    "# Calculate Start index from start tie\n",
    "fig = plt.figure(constrained_layout=True,figsize=(20,20))\n",
    "gs = fig.add_gridspec(5, max(len(max_nv_idx),len(max_ns_idx),len(max_pv_idx),len(max_pv_idx)))\n",
    "f_ax1 = fig.add_subplot(gs[0, :])\n",
    "start_indx = start_time/2 + 100\n",
    " \n",
    "# Mark significcant points\n",
    "f_ax1.scatter(pos_corr_n_s.time.values.tolist(),[-0.1]*len(pos_corr_n_s.time.values.tolist()),c=\"b\")\n",
    "f_ax1.scatter(pos_corr_n_v.time.values.tolist(),[-0.15]*len(pos_corr_n_v.time.values.tolist()),c=\"g\")\n",
    "f_ax1.plot(df_n_s.kendall_tau,'-bD',markevery=[int(x/2+100) for x in max_ns_idx],label=\"Naive Still\")\n",
    "f_ax1.plot(df_n_v.kendall_tau,'-gD',markevery=[int(x/2+100) for x in max_nv_idx], label=\"Naive Video\")\n",
    "\n",
    "f_ax1.set_title('Naive Still mean RDM with model ' + model + \"on electrode region \" + er)\n",
    "f_ax1.legend()\n",
    "\n",
    "for i,max_ns_start_time in enumerate(max_ns_idx):\n",
    "    ax = fig.add_subplot(gs[1, i])\n",
    "    start_indx = max_ns_start_time/2 + 100\n",
    "    RDM_n_s = np.mean(windowed_eeg_rdm_dict_n_s[(start_indx,start_indx+1)],0)\n",
    "    ax.imshow(squareform(RDM_n_s))\n",
    "    ax.set_title(\"Naive Still EEG RDM at: \" + str(max_ns_start_time))\n",
    "for i,max_nv_start_time in enumerate(max_nv_idx):\n",
    "    ax = fig.add_subplot(gs[2, i])\n",
    "    start_indx = 88/2 + 100\n",
    "    RDM_n_v = np.mean(windowed_eeg_rdm_dict_n_v[(start_indx,start_indx+1)],0)\n",
    "    ax.imshow(squareform(RDM_n_v))\n",
    "    ax.set_title(\"Naive Video EEG RDM at: \" + str(max_nv_start_time))"
   ]
  },
  {
   "cell_type": "code",
   "execution_count": null,
   "metadata": {
    "scrolled": true
   },
   "outputs": [],
   "source": []
  },
  {
   "cell_type": "code",
   "execution_count": 25,
   "metadata": {
    "scrolled": false
   },
   "outputs": [],
   "source": []
  },
  {
   "cell_type": "code",
   "execution_count": null,
   "metadata": {
    "scrolled": true
   },
   "outputs": [],
   "source": []
  },
  {
   "cell_type": "code",
   "execution_count": null,
   "metadata": {
    "scrolled": false
   },
   "outputs": [],
   "source": []
  },
  {
   "cell_type": "code",
   "execution_count": null,
   "metadata": {
    "scrolled": true
   },
   "outputs": [],
   "source": []
  },
  {
   "cell_type": "code",
   "execution_count": null,
   "metadata": {},
   "outputs": [],
   "source": []
  },
  {
   "cell_type": "code",
   "execution_count": null,
   "metadata": {},
   "outputs": [],
   "source": []
  },
  {
   "cell_type": "code",
   "execution_count": null,
   "metadata": {},
   "outputs": [],
   "source": []
  },
  {
   "cell_type": "code",
   "execution_count": null,
   "metadata": {},
   "outputs": [],
   "source": []
  },
  {
   "cell_type": "code",
   "execution_count": null,
   "metadata": {
    "scrolled": false
   },
   "outputs": [],
   "source": []
  },
  {
   "cell_type": "code",
   "execution_count": null,
   "metadata": {
    "scrolled": true
   },
   "outputs": [],
   "source": []
  },
  {
   "cell_type": "code",
   "execution_count": null,
   "metadata": {},
   "outputs": [],
   "source": []
  },
  {
   "cell_type": "code",
   "execution_count": null,
   "metadata": {},
   "outputs": [],
   "source": []
  },
  {
   "cell_type": "code",
   "execution_count": null,
   "metadata": {},
   "outputs": [],
   "source": []
  },
  {
   "cell_type": "code",
   "execution_count": null,
   "metadata": {
    "scrolled": true
   },
   "outputs": [],
   "source": []
  },
  {
   "cell_type": "code",
   "execution_count": null,
   "metadata": {},
   "outputs": [],
   "source": []
  },
  {
   "cell_type": "code",
   "execution_count": null,
   "metadata": {},
   "outputs": [],
   "source": []
  },
  {
   "cell_type": "code",
   "execution_count": null,
   "metadata": {},
   "outputs": [],
   "source": []
  },
  {
   "cell_type": "code",
   "execution_count": null,
   "metadata": {},
   "outputs": [],
   "source": []
  },
  {
   "cell_type": "code",
   "execution_count": null,
   "metadata": {},
   "outputs": [],
   "source": []
  },
  {
   "cell_type": "code",
   "execution_count": null,
   "metadata": {},
   "outputs": [],
   "source": []
  },
  {
   "cell_type": "code",
   "execution_count": null,
   "metadata": {},
   "outputs": [],
   "source": []
  },
  {
   "cell_type": "code",
   "execution_count": null,
   "metadata": {},
   "outputs": [],
   "source": []
  },
  {
   "cell_type": "code",
   "execution_count": null,
   "metadata": {},
   "outputs": [],
   "source": [
    "\n"
   ]
  },
  {
   "cell_type": "code",
   "execution_count": null,
   "metadata": {},
   "outputs": [],
   "source": []
  },
  {
   "cell_type": "code",
   "execution_count": null,
   "metadata": {},
   "outputs": [],
   "source": []
  },
  {
   "cell_type": "code",
   "execution_count": null,
   "metadata": {},
   "outputs": [],
   "source": []
  },
  {
   "cell_type": "code",
   "execution_count": null,
   "metadata": {},
   "outputs": [],
   "source": []
  },
  {
   "cell_type": "code",
   "execution_count": null,
   "metadata": {},
   "outputs": [],
   "source": []
  },
  {
   "cell_type": "code",
   "execution_count": null,
   "metadata": {},
   "outputs": [],
   "source": []
  },
  {
   "cell_type": "code",
   "execution_count": null,
   "metadata": {},
   "outputs": [],
   "source": []
  },
  {
   "cell_type": "code",
   "execution_count": null,
   "metadata": {},
   "outputs": [],
   "source": []
  },
  {
   "cell_type": "code",
   "execution_count": null,
   "metadata": {},
   "outputs": [],
   "source": []
  },
  {
   "cell_type": "code",
   "execution_count": null,
   "metadata": {},
   "outputs": [],
   "source": []
  },
  {
   "cell_type": "code",
   "execution_count": null,
   "metadata": {},
   "outputs": [],
   "source": []
  },
  {
   "cell_type": "code",
   "execution_count": null,
   "metadata": {},
   "outputs": [],
   "source": []
  }
 ],
 "metadata": {
  "kernelspec": {
   "display_name": "Python 3",
   "language": "python",
   "name": "python3"
  },
  "language_info": {
   "codemirror_mode": {
    "name": "ipython",
    "version": 3
   },
   "file_extension": ".py",
   "mimetype": "text/x-python",
   "name": "python",
   "nbconvert_exporter": "python",
   "pygments_lexer": "ipython3",
   "version": "3.7.3"
  }
 },
 "nbformat": 4,
 "nbformat_minor": 2
}
