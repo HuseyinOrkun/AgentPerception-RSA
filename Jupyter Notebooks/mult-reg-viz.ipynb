{
 "cells": [
  {
   "cell_type": "code",
   "execution_count": 1,
   "metadata": {},
   "outputs": [],
   "source": [
    "import pandas as pd\n",
    "from statsmodels.sandbox.stats.multicomp import multipletests\n",
    "import plotly.express as px\n",
    "import plotly.graph_objs as go\n",
    "import plotly.offline as po\n",
    "import plotly.io as pio\n",
    "import numpy as np\n",
    "import h5py"
   ]
  },
  {
   "cell_type": "code",
   "execution_count": 2,
   "metadata": {},
   "outputs": [],
   "source": [
    "# Version 1\n",
    "mult_reg_results_n_v, _, _,rsquared_n_v  = pd.read_pickle('/auto/data2/oelmas/RSA_Results/Naive/Video/correlation_hamming_regression_results.pkl')\n",
    "#mult_reg_results_n_mf, _, _,rsquared_n_mf  = pd.read_pickle('/auto/data2/oelmas/RSA_Results/Naive/Still_MF/correlation_hamming_regression_results.pkl')\n",
    "mult_reg_results_n_ff, _, _,rsquared_n_ff  = pd.read_pickle('/auto/data2/oelmas/RSA_Results/Naive/Still_FF/correlation_hamming_regression_results.pkl')\n",
    "\n",
    "mult_reg_results_p_v, _, _,rsquared_p_s  = pd.read_pickle('/auto/data2/oelmas/RSA_Results/Prior/Video/correlation_hamming_regression_results.pkl')\n",
    "mult_reg_results_p_s, _, _,rsquared_p_v  = pd.read_pickle('/auto/data2/oelmas/RSA_Results/Prior/Still/correlation_hamming_regression_results.pkl')\n",
    "\n",
    "mult_reg_results = [mult_reg_results_n_v, mult_reg_results_n_ff,mult_reg_results_p_v, mult_reg_results_p_s]\n",
    "mult_reg_results = pd.concat(mult_reg_results)"
   ]
  },
  {
   "cell_type": "code",
   "execution_count": null,
   "metadata": {},
   "outputs": [],
   "source": []
  },
  {
   "cell_type": "code",
   "execution_count": null,
   "metadata": {},
   "outputs": [],
   "source": []
  },
  {
   "cell_type": "code",
   "execution_count": 3,
   "metadata": {},
   "outputs": [],
   "source": [
    "# Plots significant regressor beta values \n",
    "# If used need to change\n",
    "def visualize_significant_regressors(mult_reg_results, electrode_region, exp_type, stm_type):\n",
    "    er_idx = mult_reg_results.electrode_region==electrode_region\n",
    "    ex_idx = mult_reg_results.experiment_type==exp_type\n",
    "    st_idx = mult_reg_results.stimuli_type==stm_type\n",
    "    reg_df = mult_reg_results[ex_idx & st_idx & er_idx]\n",
    "    \n",
    "    if reg_df.empty:\n",
    "        print(\"Empty df: \" +exp_type+\"_\"+stm_type+\"_\"+electrode_region)\n",
    "    else:\n",
    "        sig_idx = multipletests(reg_df[\"p_value\"], alpha=0.05, method='bonferroni')[0]\n",
    "        reg_df.loc[:, 'significant'] = sig_idx.tolist()\n",
    "        \n",
    "        \n",
    "        sig_reg_df = reg_df.loc[reg_df['significant']]\n",
    "        sig_reg_df =sig_reg_df[sig_reg_df.beta_value>0]\n",
    "        if not sig_reg_df.empty:\n",
    "            fig = px.line(sig_reg_df, \n",
    "                         x=\"time\", y=\"beta_value\",  color=\"model_name\",\n",
    "                        title=exp_type+\" \"+stm_type+\" \"+electrode_region+\" timepoints where the regressors reached significance\")\n",
    "\n",
    "            fig.update_yaxes(title_text=\"Regressors\")\n",
    "            fig.update_xaxes(range=[-200, 600], title_text=\"Time ms (relative to stimulus onset)\")\n",
    "            \n",
    "            # Change in server\n",
    "            fig.write_image(exp_type+\"_\"+stm_type+\"_\"+electrode_region+\"_significant_beta_vals.png\")\n",
    "            return sig_reg_df"
   ]
  },
  {
   "cell_type": "code",
   "execution_count": null,
   "metadata": {},
   "outputs": [],
   "source": []
  },
  {
   "cell_type": "code",
   "execution_count": null,
   "metadata": {},
   "outputs": [],
   "source": []
  },
  {
   "cell_type": "code",
   "execution_count": 4,
   "metadata": {},
   "outputs": [
    {
     "name": "stderr",
     "output_type": "stream",
     "text": [
      "/auto/k2/oelmas/anaconda/envs/agent_perception_rsa/lib/python3.6/site-packages/pandas/core/indexing.py:845: SettingWithCopyWarning:\n",
      "\n",
      "\n",
      "A value is trying to be set on a copy of a slice from a DataFrame.\n",
      "Try using .loc[row_indexer,col_indexer] = value instead\n",
      "\n",
      "See the caveats in the documentation: https://pandas.pydata.org/pandas-docs/stable/user_guide/indexing.html#returning-a-view-versus-a-copy\n",
      "\n",
      "/auto/k2/oelmas/anaconda/envs/agent_perception_rsa/lib/python3.6/site-packages/pandas/core/indexing.py:966: SettingWithCopyWarning:\n",
      "\n",
      "\n",
      "A value is trying to be set on a copy of a slice from a DataFrame.\n",
      "Try using .loc[row_indexer,col_indexer] = value instead\n",
      "\n",
      "See the caveats in the documentation: https://pandas.pydata.org/pandas-docs/stable/user_guide/indexing.html#returning-a-view-versus-a-copy\n",
      "\n"
     ]
    }
   ],
   "source": [
    "mult_reg_results = mult_reg_results[mult_reg_results.model_name != 'constant']\n",
    "\n",
    "for electrode_region in [\"occipital\",'parietal']:\n",
    "    for exp_type in mult_reg_results.experiment_type.unique():\n",
    "        for stm_type in mult_reg_results.stimuli_type.unique():\n",
    "            if stm_type == \"still-mf\":\n",
    "                continue\n",
    "            visualize_significant_regressors(mult_reg_results, electrode_region, exp_type, stm_type)"
   ]
  },
  {
   "cell_type": "code",
   "execution_count": 5,
   "metadata": {},
   "outputs": [
    {
     "ename": "NameError",
     "evalue": "name 'v2_mult_reg_results' is not defined",
     "output_type": "error",
     "traceback": [
      "\u001b[0;31m---------------------------------------------------------------------------\u001b[0m",
      "\u001b[0;31mNameError\u001b[0m                                 Traceback (most recent call last)",
      "\u001b[0;32m<ipython-input-5-9b3c47b714b8>\u001b[0m in \u001b[0;36m<module>\u001b[0;34m\u001b[0m\n\u001b[0;32m----> 1\u001b[0;31m \u001b[0mv2_mult_reg_results\u001b[0m \u001b[0;34m=\u001b[0m \u001b[0mv2_mult_reg_results\u001b[0m\u001b[0;34m[\u001b[0m\u001b[0mv2_mult_reg_results\u001b[0m\u001b[0;34m.\u001b[0m\u001b[0mmodel_name\u001b[0m \u001b[0;34m!=\u001b[0m \u001b[0;34m'constant'\u001b[0m\u001b[0;34m]\u001b[0m\u001b[0;34m\u001b[0m\u001b[0;34m\u001b[0m\u001b[0m\n\u001b[0m\u001b[1;32m      2\u001b[0m \u001b[0;32mfor\u001b[0m \u001b[0melectrode_region\u001b[0m \u001b[0;32min\u001b[0m \u001b[0mv2_mult_reg_results\u001b[0m\u001b[0;34m.\u001b[0m\u001b[0melectrode_region\u001b[0m\u001b[0;34m.\u001b[0m\u001b[0munique\u001b[0m\u001b[0;34m(\u001b[0m\u001b[0;34m)\u001b[0m\u001b[0;34m:\u001b[0m\u001b[0;34m\u001b[0m\u001b[0;34m\u001b[0m\u001b[0m\n\u001b[1;32m      3\u001b[0m     \u001b[0;32mfor\u001b[0m \u001b[0mexp_type\u001b[0m \u001b[0;32min\u001b[0m \u001b[0mv2_mult_reg_results\u001b[0m\u001b[0;34m.\u001b[0m\u001b[0mexperiment_type\u001b[0m\u001b[0;34m.\u001b[0m\u001b[0munique\u001b[0m\u001b[0;34m(\u001b[0m\u001b[0;34m)\u001b[0m\u001b[0;34m:\u001b[0m\u001b[0;34m\u001b[0m\u001b[0;34m\u001b[0m\u001b[0m\n\u001b[1;32m      4\u001b[0m         \u001b[0;32mfor\u001b[0m \u001b[0mstm_type\u001b[0m \u001b[0;32min\u001b[0m \u001b[0mv2_mult_reg_results\u001b[0m\u001b[0;34m.\u001b[0m\u001b[0mstimuli_type\u001b[0m\u001b[0;34m.\u001b[0m\u001b[0munique\u001b[0m\u001b[0;34m(\u001b[0m\u001b[0;34m)\u001b[0m\u001b[0;34m:\u001b[0m\u001b[0;34m\u001b[0m\u001b[0;34m\u001b[0m\u001b[0m\n\u001b[1;32m      5\u001b[0m             \u001b[0;32mif\u001b[0m \u001b[0mexp_type\u001b[0m \u001b[0;34m==\u001b[0m \u001b[0;34m\"prior\"\u001b[0m \u001b[0;32mand\u001b[0m \u001b[0mstm_type\u001b[0m \u001b[0;34m==\u001b[0m \u001b[0;34m\"still-mf\"\u001b[0m\u001b[0;34m:\u001b[0m\u001b[0;34m\u001b[0m\u001b[0;34m\u001b[0m\u001b[0m\n",
      "\u001b[0;31mNameError\u001b[0m: name 'v2_mult_reg_results' is not defined"
     ]
    }
   ],
   "source": [
    "v2_mult_reg_results = v2_mult_reg_results[v2_mult_reg_results.model_name != 'constant']\n",
    "for electrode_region in v2_mult_reg_results.electrode_region.unique():\n",
    "    for exp_type in v2_mult_reg_results.experiment_type.unique():\n",
    "        for stm_type in v2_mult_reg_results.stimuli_type.unique():\n",
    "            if exp_type == \"prior\" and stm_type == \"still-mf\":\n",
    "                continue\n",
    "            visualize_significant_regressors(v2_mult_reg_results, electrode_region, exp_type, stm_type, 2)"
   ]
  },
  {
   "cell_type": "markdown",
   "metadata": {},
   "source": [
    "RSA RESULTS"
   ]
  }
 ],
 "metadata": {
  "kernelspec": {
   "display_name": "Python 3",
   "language": "python",
   "name": "python3"
  },
  "language_info": {
   "codemirror_mode": {
    "name": "ipython",
    "version": 3
   },
   "file_extension": ".py",
   "mimetype": "text/x-python",
   "name": "python",
   "nbconvert_exporter": "python",
   "pygments_lexer": "ipython3",
   "version": "3.6.10"
  }
 },
 "nbformat": 4,
 "nbformat_minor": 4
}
