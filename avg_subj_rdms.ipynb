{
 "cells": [
  {
   "cell_type": "code",
   "execution_count": 1,
   "metadata": {},
   "outputs": [],
   "source": [
    "from collections import defaultdict\n",
    "import rsa_io\n",
    "import rsa\n",
    "import argparse\n",
    "import os\n",
    "import pandas as pd\n",
    "import matplotlib.pyplot as plt\n",
    "import numpy as np\n",
    "import h5py"
   ]
  },
  {
   "cell_type": "code",
   "execution_count": 2,
   "metadata": {},
   "outputs": [],
   "source": [
    "eeg_root_path = \"/Users/huseyinelmas/Desktop/CCN-Lab/data/set_test/\"   \n",
    "model_root_path = \"/Users/huseyinelmas/Desktop/CCN-Lab/RSA-Models/\"\n",
    "w_size = 25\n",
    "save_path = \"/Users/huseyinelmas/Desktop/CCN-Lab/CCN-RSA/Results/\"\n",
    "save_eeg_rdms = True\n",
    "eeg_rdm_dist_metric = 'correlation'\n",
    "model_rdm_dist_metric = 'euclidean'"
   ]
  },
  {
   "cell_type": "code",
   "execution_count": 3,
   "metadata": {},
   "outputs": [],
   "source": [
    "# Create modelRDMs folder in models if not exists\n",
    "model_rdm_path = save_path + \"modelRDMs/\"\n",
    "if not os.path.exists(model_rdm_path):\n",
    "    os.makedirs(model_rdm_path)\n",
    "\n",
    "# Create eegRDMs folder in models if not exists\n",
    "eeg_rdm_path = save_path + \"eegRDMs/\"\n",
    "if not os.path.exists(eeg_rdm_path):\n",
    "    os.makedirs(eeg_rdm_path)"
   ]
  },
  {
   "cell_type": "code",
   "execution_count": 4,
   "metadata": {},
   "outputs": [],
   "source": [
    "subject_folders = [name for name in os.listdir(eeg_root_path) if\n",
    "                   os.path.isdir(eeg_root_path + name) and name.startswith(\"subj\")]\n",
    "n_subjects = len(subject_folders)"
   ]
  },
  {
   "cell_type": "code",
   "execution_count": 6,
   "metadata": {},
   "outputs": [
    {
     "name": "stdout",
     "output_type": "stream",
     "text": [
      "EEG RDMs with parameters with window size: 25 and distance: correlation is already created, loading from /Users/huseyinelmas/Desktop/CCN-Lab/CCN-RSA/Results/eegRDMs/eeg_rdm_25_correlation\n",
      "Dataset attributes of eeg_rdm_25_correlation [('distance_metric', 'correlation'), ('w_size', 25)]\n"
     ]
    }
   ],
   "source": [
    "# Check if eeg_rdm exists in eeg_rdm_path, meaning that experiment is already done with this w_size and eeg_rdm_distance\n",
    "eeg_rdm_fname = \"eeg_rdm_\" + str(w_size) + \"_\" + eeg_rdm_dist_metric\n",
    "eeg_rdm_ready = False\n",
    "if eeg_rdm_fname + \".hdf5\" in os.listdir(eeg_rdm_path):\n",
    "    print(\"EEG RDMs with parameters with window size: {0} and distance: {1} is already created, loading from {2}\".format(str(w_size) ,  eeg_rdm_dist_metric, eeg_rdm_path + eeg_rdm_fname))\n",
    "    windowed_eeg_rdm_dict, attributes = rsa_io.load_from_hdf5(eeg_rdm_fname,eeg_rdm_path)\n",
    "    eeg_rdm_ready = True"
   ]
  },
  {
   "cell_type": "code",
   "execution_count": null,
   "metadata": {},
   "outputs": [],
   "source": []
  },
  {
   "cell_type": "code",
   "execution_count": 9,
   "metadata": {
    "collapsed": true,
    "jupyter": {
     "outputs_hidden": true
    }
   },
   "outputs": [
    {
     "name": "stdout",
     "output_type": "stream",
     "text": [
      "Model RDM for movement_nature_euclidean with distance metric: euclidean was found in /Users/huseyinelmas/Desktop/CCN-Lab/CCN-RSA/Results/modelRDMs/, loading already created Model RDM \n",
      "Model RDM for action_intention_euclidean with distance metric: euclidean was found in /Users/huseyinelmas/Desktop/CCN-Lab/CCN-RSA/Results/modelRDMs/, loading already created Model RDM \n",
      "Model RDM for action_target_euclidean with distance metric: euclidean was found in /Users/huseyinelmas/Desktop/CCN-Lab/CCN-RSA/Results/modelRDMs/, loading already created Model RDM \n",
      "Model RDM for biological_appearance_euclidean with distance metric: euclidean was found in /Users/huseyinelmas/Desktop/CCN-Lab/CCN-RSA/Results/modelRDMs/, loading already created Model RDM \n",
      "Model RDM for action_category_euclidean with distance metric: euclidean was found in /Users/huseyinelmas/Desktop/CCN-Lab/CCN-RSA/Results/modelRDMs/, loading already created Model RDM \n",
      "Model RDM for humanness_euclidean with distance metric: euclidean was found in /Users/huseyinelmas/Desktop/CCN-Lab/CCN-RSA/Results/modelRDMs/, loading already created Model RDM \n",
      "Model RDM for attributes_euclidean with distance metric: euclidean was found in /Users/huseyinelmas/Desktop/CCN-Lab/CCN-RSA/Results/modelRDMs/, loading already created Model RDM \n",
      "Model RDM for agent_euclidean with distance metric: euclidean was found in /Users/huseyinelmas/Desktop/CCN-Lab/CCN-RSA/Results/modelRDMs/, loading already created Model RDM \n"
     ]
    }
   ],
   "source": [
    "# Check if every model rdm was already created in model_RDM_path if all model_rdms exists\n",
    "# No need to create all over, saves computation\n",
    "model_rdm_dict = {}\n",
    "for model_file in os.listdir(model_root_path):\n",
    "    if not model_file.startswith(\".\"):\n",
    "        model_name = os.path.splitext(model_file)[0] + \"_\" + model_rdm_dist_metric\n",
    "        if not model_name + '.npy' in os.listdir(model_rdm_path):\n",
    "            model = rsa_io.load_model(file_path=model_root_path + model_file)\n",
    "            model_rdm_dict[model_name] = rsa.create_rdm(model.values, metric=model_rdm_dist_metric, name=model_name,\n",
    "                                                        save_path=model_RDM_path, model=True)\n",
    "        else:\n",
    "            print(\"Model RDM for {0} with distance metric: {1} was found in {2},\"\n",
    "                  \" loading already created Model RDM \".format(model_name, model_rdm_dist_metric, model_rdm_path))\n",
    "            model_rdm_dict[model_name] = rsa_io.load_rdm(model_rdm_path + model_name)\n"
   ]
  },
  {
   "cell_type": "code",
   "execution_count": 11,
   "metadata": {},
   "outputs": [
    {
     "data": {
      "text/plain": [
       "True"
      ]
     },
     "execution_count": 11,
     "metadata": {},
     "output_type": "execute_result"
    }
   ],
   "source": [
    "eeg_rdm_ready"
   ]
  },
  {
   "cell_type": "code",
   "execution_count": 10,
   "metadata": {},
   "outputs": [],
   "source": [
    "if not eeg_rdm_ready:\n",
    "    # every key is time point and every value is a list of corresponding rdms of different subjects\n",
    "    windowed_eeg_rdm_dict = defaultdict(list)\n",
    "    # For all subjects do\n",
    "    for i, subject_folder in enumerate(subject_folders):\n",
    "        subj_name = subject_folder[0:6]\n",
    "        subj_path = eeg_root_path + subject_folder + \"/action-mats/\"\n",
    "\n",
    "        # Keys are time windows, Each value in the time_window_representations is a 3D ndarray\n",
    "        # with size (n_conditions, n_trials, n_channels). Since n_trials are not same for each condition,\n",
    "        # the missing values are filled with NaN. \n",
    "        time_window_representations = rsa_io.build_eeg_data(subj_path, w_size)\n",
    "\n",
    "        # traverse each window in time_window_representations and calculate rdm\n",
    "        # TODO: values of windowed_eeg_rdm_dict may be not a list\n",
    "        #  but 3d numpy array (n_subjects, n_conditions, n_conditions)\n",
    "        for window, eeg_data in time_window_representations.items():\n",
    "            eeg_rdm_name = subj_name + '_eeg_rdm_' + str(window[0]) + \":\" + str(window[1]) + \"_\" + eeg_rdm_dist_metric\n",
    "            if eeg_rdm_name + '.npy' not in os.listdir(eeg_RDM_path):\n",
    "                windowed_eeg_rdm_dict[window].append(\n",
    "                    rsa.create_rdm(eeg_data, eeg_rdm_dist_metric, eeg_rdm_name))\n",
    "            else:\n",
    "                windowed_eeg_rdm_dict[window].append(rsa_io.load_rdm(eeg_RDM_path + eeg_rdm_name))\n",
    "\n",
    "    # TODO: try without vstack\n",
    "    for window, eeg_rdm_list in windowed_eeg_rdm_dict.items():\n",
    "        windowed_eeg_rdm_dict[window] = np.vstack(eeg_rdm_list)\n",
    "        \n",
    "    # Save eeg rdms to hdf5 file\n",
    "    if(save_eeg_rdms):\n",
    "        rsa_io.save_to_hdf5(windowed_eeg_rdm_dict, eeg_rdm_dist_metric, w_size, eeg_rdm_fname, eeg_rdm_path)\n"
   ]
  },
  {
   "cell_type": "code",
   "execution_count": 16,
   "metadata": {},
   "outputs": [],
   "source": [
    "rdm_statistics_list = []\n",
    "for model_name, model_RDM in model_rdm_dict.items():\n",
    "    dist_per_time_window = []\n",
    "    for time_window, EEG_RDM_list in windowed_eeg_rdm_dict.items():\n",
    "        kendall_tau, kendall_p_value = rsa.correlate_models(model_RDM, np.mean(EEG_RDM_list, axis=0))\n",
    "        rdm_statistics_list.append([model_name, time_window, kendall_tau, kendall_p_value])\n",
    "\n",
    "rdm_statistics_df = pd.DataFrame(rdm_statistics_list,\n",
    "                                 columns=['Model_name', 'Time_window', 'Kendall_tau', 'Kendall_p-value'])\n"
   ]
  },
  {
   "cell_type": "code",
   "execution_count": 17,
   "metadata": {},
   "outputs": [
    {
     "data": {
      "text/html": [
       "<div>\n",
       "<style scoped>\n",
       "    .dataframe tbody tr th:only-of-type {\n",
       "        vertical-align: middle;\n",
       "    }\n",
       "\n",
       "    .dataframe tbody tr th {\n",
       "        vertical-align: top;\n",
       "    }\n",
       "\n",
       "    .dataframe thead th {\n",
       "        text-align: right;\n",
       "    }\n",
       "</style>\n",
       "<table border=\"1\" class=\"dataframe\">\n",
       "  <thead>\n",
       "    <tr style=\"text-align: right;\">\n",
       "      <th></th>\n",
       "      <th>Model_name</th>\n",
       "      <th>Time_window</th>\n",
       "      <th>Kendall_tau</th>\n",
       "      <th>Kendall_p-value</th>\n",
       "    </tr>\n",
       "  </thead>\n",
       "  <tbody>\n",
       "    <tr>\n",
       "      <td>46</td>\n",
       "      <td>action_target_euclidean</td>\n",
       "      <td>(50, 75)</td>\n",
       "      <td>0.135101</td>\n",
       "      <td>0.003740</td>\n",
       "    </tr>\n",
       "    <tr>\n",
       "      <td>30</td>\n",
       "      <td>action_intention_euclidean</td>\n",
       "      <td>(50, 75)</td>\n",
       "      <td>0.131989</td>\n",
       "      <td>0.007453</td>\n",
       "    </tr>\n",
       "    <tr>\n",
       "      <td>58</td>\n",
       "      <td>biological_appearance_euclidean</td>\n",
       "      <td>(300, 325)</td>\n",
       "      <td>0.130535</td>\n",
       "      <td>0.008136</td>\n",
       "    </tr>\n",
       "    <tr>\n",
       "      <td>57</td>\n",
       "      <td>biological_appearance_euclidean</td>\n",
       "      <td>(275, 300)</td>\n",
       "      <td>0.125463</td>\n",
       "      <td>0.010973</td>\n",
       "    </tr>\n",
       "    <tr>\n",
       "      <td>4</td>\n",
       "      <td>movement_nature_euclidean</td>\n",
       "      <td>(175, 200)</td>\n",
       "      <td>0.119272</td>\n",
       "      <td>0.015604</td>\n",
       "    </tr>\n",
       "    <tr>\n",
       "      <td>84</td>\n",
       "      <td>humanness_euclidean</td>\n",
       "      <td>(175, 200)</td>\n",
       "      <td>0.119272</td>\n",
       "      <td>0.015604</td>\n",
       "    </tr>\n",
       "    <tr>\n",
       "      <td>2</td>\n",
       "      <td>movement_nature_euclidean</td>\n",
       "      <td>(125, 150)</td>\n",
       "      <td>0.115393</td>\n",
       "      <td>0.019315</td>\n",
       "    </tr>\n",
       "    <tr>\n",
       "      <td>82</td>\n",
       "      <td>humanness_euclidean</td>\n",
       "      <td>(125, 150)</td>\n",
       "      <td>0.115393</td>\n",
       "      <td>0.019315</td>\n",
       "    </tr>\n",
       "    <tr>\n",
       "      <td>56</td>\n",
       "      <td>biological_appearance_euclidean</td>\n",
       "      <td>(250, 275)</td>\n",
       "      <td>0.108978</td>\n",
       "      <td>0.027150</td>\n",
       "    </tr>\n",
       "    <tr>\n",
       "      <td>5</td>\n",
       "      <td>movement_nature_euclidean</td>\n",
       "      <td>(200, 225)</td>\n",
       "      <td>0.101817</td>\n",
       "      <td>0.039001</td>\n",
       "    </tr>\n",
       "    <tr>\n",
       "      <td>85</td>\n",
       "      <td>humanness_euclidean</td>\n",
       "      <td>(200, 225)</td>\n",
       "      <td>0.101817</td>\n",
       "      <td>0.039001</td>\n",
       "    </tr>\n",
       "    <tr>\n",
       "      <td>47</td>\n",
       "      <td>action_target_euclidean</td>\n",
       "      <td>(75, 100)</td>\n",
       "      <td>0.093007</td>\n",
       "      <td>0.045937</td>\n",
       "    </tr>\n",
       "    <tr>\n",
       "      <td>48</td>\n",
       "      <td>biological_appearance_euclidean</td>\n",
       "      <td>(0, 25)</td>\n",
       "      <td>-0.105994</td>\n",
       "      <td>0.031645</td>\n",
       "    </tr>\n",
       "    <tr>\n",
       "      <td>61</td>\n",
       "      <td>biological_appearance_euclidean</td>\n",
       "      <td>(375, 400)</td>\n",
       "      <td>-0.107337</td>\n",
       "      <td>0.029549</td>\n",
       "    </tr>\n",
       "    <tr>\n",
       "      <td>49</td>\n",
       "      <td>biological_appearance_euclidean</td>\n",
       "      <td>(100, 125)</td>\n",
       "      <td>-0.108829</td>\n",
       "      <td>0.027361</td>\n",
       "    </tr>\n",
       "  </tbody>\n",
       "</table>\n",
       "</div>"
      ],
      "text/plain": [
       "                         Model_name Time_window  Kendall_tau  Kendall_p-value\n",
       "46          action_target_euclidean    (50, 75)     0.135101         0.003740\n",
       "30       action_intention_euclidean    (50, 75)     0.131989         0.007453\n",
       "58  biological_appearance_euclidean  (300, 325)     0.130535         0.008136\n",
       "57  biological_appearance_euclidean  (275, 300)     0.125463         0.010973\n",
       "4         movement_nature_euclidean  (175, 200)     0.119272         0.015604\n",
       "84              humanness_euclidean  (175, 200)     0.119272         0.015604\n",
       "2         movement_nature_euclidean  (125, 150)     0.115393         0.019315\n",
       "82              humanness_euclidean  (125, 150)     0.115393         0.019315\n",
       "56  biological_appearance_euclidean  (250, 275)     0.108978         0.027150\n",
       "5         movement_nature_euclidean  (200, 225)     0.101817         0.039001\n",
       "85              humanness_euclidean  (200, 225)     0.101817         0.039001\n",
       "47          action_target_euclidean   (75, 100)     0.093007         0.045937\n",
       "48  biological_appearance_euclidean     (0, 25)    -0.105994         0.031645\n",
       "61  biological_appearance_euclidean  (375, 400)    -0.107337         0.029549\n",
       "49  biological_appearance_euclidean  (100, 125)    -0.108829         0.027361"
      ]
     },
     "execution_count": 17,
     "metadata": {},
     "output_type": "execute_result"
    }
   ],
   "source": [
    "rdm_statistics_df[rdm_statistics_df[\"Kendall_p-value\"]<0.05].sort_values(by=\"Kendall_tau\", ascending=False)"
   ]
  },
  {
   "cell_type": "code",
   "execution_count": null,
   "metadata": {},
   "outputs": [],
   "source": []
  },
  {
   "cell_type": "code",
   "execution_count": null,
   "metadata": {},
   "outputs": [],
   "source": []
  },
  {
   "cell_type": "code",
   "execution_count": null,
   "metadata": {},
   "outputs": [],
   "source": []
  },
  {
   "cell_type": "code",
   "execution_count": null,
   "metadata": {},
   "outputs": [],
   "source": []
  },
  {
   "cell_type": "code",
   "execution_count": 46,
   "metadata": {},
   "outputs": [],
   "source": []
  },
  {
   "cell_type": "code",
   "execution_count": null,
   "metadata": {},
   "outputs": [],
   "source": []
  },
  {
   "cell_type": "code",
   "execution_count": null,
   "metadata": {},
   "outputs": [],
   "source": []
  },
  {
   "cell_type": "code",
   "execution_count": null,
   "metadata": {},
   "outputs": [],
   "source": []
  },
  {
   "cell_type": "code",
   "execution_count": null,
   "metadata": {},
   "outputs": [],
   "source": []
  },
  {
   "cell_type": "code",
   "execution_count": null,
   "metadata": {},
   "outputs": [],
   "source": []
  },
  {
   "cell_type": "code",
   "execution_count": null,
   "metadata": {},
   "outputs": [],
   "source": []
  },
  {
   "cell_type": "code",
   "execution_count": null,
   "metadata": {},
   "outputs": [],
   "source": []
  },
  {
   "cell_type": "code",
   "execution_count": null,
   "metadata": {},
   "outputs": [],
   "source": []
  }
 ],
 "metadata": {
  "kernelspec": {
   "display_name": "Python 3",
   "language": "python",
   "name": "python3"
  },
  "language_info": {
   "codemirror_mode": {
    "name": "ipython",
    "version": 3
   },
   "file_extension": ".py",
   "mimetype": "text/x-python",
   "name": "python",
   "nbconvert_exporter": "python",
   "pygments_lexer": "ipython3",
   "version": "3.6.9"
  }
 },
 "nbformat": 4,
 "nbformat_minor": 4
}
